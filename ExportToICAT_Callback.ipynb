{
 "cells": [
  {
   "cell_type": "code",
   "execution_count": 28,
   "id": "social-hello",
   "metadata": {},
   "outputs": [],
   "source": [
    "from bluesky.callbacks import CallbackBase\n",
    "import matplotlib.pyplot as plt\n",
    "\n",
    "class MyICATCallback(CallbackBase):\n",
    "    \n",
    "    def __init__(self,db):\n",
    "        self.db = db\n",
    "\n",
    "        \n",
    "    def stop(self, doc):\n",
    "        run = db[-1]\n",
    "        \n",
    "        # As an example we can plot the data, we could also export it to ICAT here.\n",
    "        \n",
    "        fig, ax = plt.subplots()\n",
    "        data = run.primary.read()\n",
    "        ax.plot(data.motor, data.det) #Note that we are making assumptions about what the data contains. Need to look things like file export for example to generalise. \n",
    "        plt.ylabel(run.primary.metadata['start']['detectors'][0])\n",
    "        plt.xlabel(run.primary.metadata['start']['motors'][0])\n",
    "        \n",
    "      \n",
    "        "
   ]
  },
  {
   "cell_type": "code",
   "execution_count": 29,
   "id": "reasonable-adolescent",
   "metadata": {},
   "outputs": [
    {
     "data": {
      "text/plain": [
       "0"
      ]
     },
     "execution_count": 29,
     "metadata": {},
     "output_type": "execute_result"
    }
   ],
   "source": [
    "# Create a test run engine and attach our callback\n",
    "\n",
    "from bluesky import RunEngine\n",
    "\n",
    "RE = RunEngine({})\n",
    "\n",
    "#Get the databroker https://gist.github.com/untzag/53281819709b1058c7708a250cbd3676\n",
    "from databroker.v2 import temp\n",
    "db = temp()\n",
    "\n",
    "# Insert all metadata/data captured into db.\n",
    "RE.subscribe(db.v1.insert)"
   ]
  },
  {
   "cell_type": "code",
   "execution_count": 30,
   "id": "insured-justice",
   "metadata": {},
   "outputs": [
    {
     "data": {
      "text/plain": [
       "1"
      ]
     },
     "execution_count": 30,
     "metadata": {},
     "output_type": "execute_result"
    }
   ],
   "source": [
    "\n",
    "RE.subscribe(MyICATCallback(db))"
   ]
  },
  {
   "cell_type": "code",
   "execution_count": 31,
   "id": "compact-religion",
   "metadata": {},
   "outputs": [
    {
     "data": {
      "text/plain": [
       "('dae9eec5-2a22-42f7-92bd-e057346798eb',)"
      ]
     },
     "execution_count": 31,
     "metadata": {},
     "output_type": "execute_result"
    },
    {
     "data": {
      "image/png": "[encoded data removed]",
      "text/plain": [
       "<Figure size 432x288 with 1 Axes>"
      ]
     },
     "metadata": {
      "needs_background": "light"
     },
     "output_type": "display_data"
    }
   ],
   "source": [
    "from bluesky.plans import scan\n",
    "from ophyd.sim import det, motor\n",
    "\n",
    "RE(scan([det],motor, -1,1,10))"
   ]
  },
  {
   "cell_type": "code",
   "execution_count": null,
   "id": "surface-whale",
   "metadata": {},
   "outputs": [],
   "source": []
  }
 ],
 "metadata": {
  "kernelspec": {
   "display_name": "Python 3",
   "language": "python",
   "name": "python3"
  },
  "language_info": {
   "codemirror_mode": {
    "name": "ipython",
    "version": 3
   },
   "file_extension": ".py",
   "mimetype": "text/x-python",
   "name": "python",
   "nbconvert_exporter": "python",
   "pygments_lexer": "ipython3",
   "version": "3.7.3"
  }
 },
 "nbformat": 4,
 "nbformat_minor": 5
}
