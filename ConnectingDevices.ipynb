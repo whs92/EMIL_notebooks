{
 "cells": [
  {
   "cell_type": "markdown",
   "id": "desperate-whale",
   "metadata": {},
   "source": [
    "**Connecting to a Device**\n",
    "======\n",
    "\n",
    "In this tutorial we will connect to some EPICS IOCs. You can veiw the database [here](https://gitlab.helmholtz-berlin.de/sissy/ioc/emilel/EMIL_PZI_00/-/blob/multiAxisPiezo/EMIL_PZI_00App/Db/singleAxis.db) This template is used to create an IOC.\n",
    "\n",
    "There are three PV's \n",
    "\n",
    "```\n",
    "EMILEL:TestIOC00:axis1:getPos\n",
    "EMILEL:TestIOC00:axis1:done\n",
    "EMILEL:TestIOC00:axis1:setPos\n",
    "```\n",
    "\n",
    "This represents a simple axis where we can define a set point, read a readback and monitor when the axis has moved. The IOC uses a calc record to make the ```getPos``` slowly reach the ```setPos```. \n",
    "\n",
    "Below we group these three PV's logically together into a single class. We Inherit from the [PVPositioner Class](https://nsls-ii.github.io/ophyd/positioners.html#pvpositioner)"
   ]
  },
  {
   "cell_type": "code",
   "execution_count": null,
   "id": "artistic-childhood",
   "metadata": {},
   "outputs": [],
   "source": [
    "from ophyd import PVPositioner, EpicsSignal, EpicsSignalRO, Device, DerivedSignal,PseudoPositioner,PseudoSingle, Signal\n",
    "from ophyd import Component as Cpt\n",
    "\n",
    "\n",
    "\n",
    "## Explore creating a device from other devices\n",
    "\n",
    "class Axis(PVPositioner):\n",
    "  \n",
    "    setpoint = Cpt(EpicsSignal,'setPos') \n",
    "    readback = Cpt(EpicsSignalRO,'getPos', kind='hinted')     # the 'hinted' flag is used by plotting tools to hint that we want to plot this thing\n",
    "    done = Cpt(EpicsSignal, 'done')\n",
    "    \n",
    "   "
   ]
  },
  {
   "cell_type": "markdown",
   "id": "removed-details",
   "metadata": {},
   "source": [
    "We can then create an instance of that class"
   ]
  },
  {
   "cell_type": "code",
   "execution_count": null,
   "id": "encouraging-hampton",
   "metadata": {},
   "outputs": [],
   "source": [
    "prefix = 'EMILEL:TestIOC00:axis1:'\n",
    "my_simple_robot = Axis(prefix, name='single_axis')  # The name is what's used in metadata or documents to refer to this thing\n",
    "\n",
    "my_simple_robot.wait_for_connection()"
   ]
  },
  {
   "cell_type": "markdown",
   "id": "capital-therapy",
   "metadata": {},
   "source": [
    "And use the ```summary()``` method to tell us what's in it"
   ]
  },
  {
   "cell_type": "code",
   "execution_count": null,
   "id": "ideal-appendix",
   "metadata": {},
   "outputs": [],
   "source": [
    "my_simple_robot.summary()"
   ]
  },
  {
   "cell_type": "markdown",
   "id": "failing-times",
   "metadata": {},
   "source": [
    "We can get the current value."
   ]
  },
  {
   "cell_type": "code",
   "execution_count": null,
   "id": "likely-asset",
   "metadata": {},
   "outputs": [],
   "source": [
    "x = my_simple_robot.readback.get()\n",
    "print(x)"
   ]
  },
  {
   "cell_type": "markdown",
   "id": "scientific-volume",
   "metadata": {},
   "source": [
    "To illistrate that devices have a [status](https://nsls-ii.github.io/ophyd/status.html), we can create a callback, set the position and then observe the callback triggering some time later. "
   ]
  },
  {
   "cell_type": "code",
   "execution_count": null,
   "id": "explicit-muslim",
   "metadata": {},
   "outputs": [],
   "source": [
    "def callback(status):\n",
    " \n",
    "    print(f\"{status} is done\")\n",
    "    \n",
    "my_simple_robot.set(x*0.5).add_callback(callback)\n"
   ]
  },
  {
   "cell_type": "markdown",
   "id": "mental-invasion",
   "metadata": {},
   "source": [
    "**The Device Class**\n",
    "======\n",
    "\n",
    "PVPositioner is based on the base class [Device](https://nsls-ii.github.io/ophyd/device-overview.html#device) which contains the methods like ```summary()```, ```connected()```, ```set()```, ```get()``` and ```trigger()```\n",
    "\n",
    "The [IOC actually creates three axis](https://gitlab.helmholtz-berlin.de/sissy/ioc/emilel/EMIL_PZI_00/-/blob/multiAxisPiezo/iocBoot/iocEMIL_PZI_00/st.cmd#L20) \n",
    "\n",
    "```\n",
    "EMILEL:TestIOC00:axis1:getPos\n",
    "EMILEL:TestIOC00:axis1:done\n",
    "EMILEL:TestIOC00:axis2:getPos\n",
    "EMILEL:TestIOC00:axis2:done\n",
    "EMILEL:TestIOC00:axis3:getPos\n",
    "EMILEL:TestIOC00:axis3:done\n",
    "EMILEL:TestIOC00:axis1:setPos\n",
    "EMILEL:TestIOC00:axis2:setPos\n",
    "EMILEL:TestIOC00:axis3:setPos\n",
    "```\n",
    "\n",
    "We can make a device, which contains other devices in this case the Axis class we just created."
   ]
  },
  {
   "cell_type": "code",
   "execution_count": null,
   "id": "swiss-invalid",
   "metadata": {},
   "outputs": [],
   "source": [
    "class ThreeAxis(Device):\n",
    "    x = Cpt(Axis, 'axis1:')\n",
    "    y = Cpt(Axis, 'axis2:')\n",
    "    z = Cpt(Axis, 'axis3:')\n",
    "    \n",
    "prefix = 'EMILEL:TestIOC00:'\n",
    "my_three_axis_robot = ThreeAxis(prefix, name='robot')\n",
    "\n",
    "# Wait for a connection before we continue.\n",
    "my_three_axis_robot.wait_for_connection()\n"
   ]
  },
  {
   "cell_type": "markdown",
   "id": "blessed-seven",
   "metadata": {},
   "source": [
    "Devices can be complex like the one above, or simple where we just want to read the status of somthing. The BESSY II ring is a good example. We never want to modify these parameters, but they are important to read for metadata collection"
   ]
  },
  {
   "cell_type": "code",
   "execution_count": null,
   "id": "obvious-schema",
   "metadata": {},
   "outputs": [],
   "source": [
    "class ring(Device):\n",
    "    \n",
    "    \"\"\"\n",
    "    Object to query machine BESSY II Beam status.\n",
    "\n",
    "    \"\"\"\n",
    "\n",
    "    current  = Cpt(EpicsSignalRO,      'current'   ,kind=\"hinted\" )\n",
    "    lifetime = Cpt(EpicsSignalRO,      'lt10'      ,kind=\"hinted\" )\n",
    "\n",
    "bessy_2 = ring('MDIZ3T5G:', name='bessy_2')\n",
    "bessy_2.wait_for_connection()\n",
    "\n",
    "bessy_2.read()"
   ]
  },
  {
   "cell_type": "markdown",
   "id": "powerful-hacker",
   "metadata": {},
   "source": [
    "\n",
    "**PV Name Construction**\n",
    "======\n",
    "Note how the PV names are built sequentially, from the prefix and then at each level as a new device is added, until finally we reach the signal. This works well when the PV name has a structure with common parts running through it. This is not the case for a lot of PV's at BESSY II. \n",
    "\n",
    "Consider the 4 motors of tha SISSY AU3 aperture unit. \n",
    "\n",
    "```\n",
    "AUY02U112L:AbsM1\n",
    "AUY02U112L:rdPosM1\n",
    "AUY02U112L:AbsM2\n",
    "AUY02U112L:rdPosM2\n",
    "AUY02U112L:AbsM3\n",
    "AUY02U112L:rdPosM3\n",
    "AUY02U112L:AbsM4\n",
    "AUY02U112L:rdPosM4\n",
    "AUY02U112L:state\n",
    "\n",
    "```\n",
    "\n",
    "The common parts of the name are the prefix ```AUY02U112L:``` and a suffix denoting the Motor number. The ```state``` pv is used for the done signal. We can construct a PV name using the FormattedComponent Class. The snippet below is taken from the beamlineOphydDevices [Axes](https://gitlab.helmholtz-berlin.de/sissy/experiment-control/beamlineOphydDevices/-/blob/master/axes.py) and [Aperture](https://gitlab.helmholtz-berlin.de/sissy/experiment-control/beamlineOphydDevices/-/blob/master/AU.py) device definitions"
   ]
  },
  {
   "cell_type": "code",
   "execution_count": null,
   "id": "olive-neighbor",
   "metadata": {},
   "outputs": [],
   "source": [
    "from ophyd import FormattedComponent as FCpt\n",
    "\n",
    "# Used on AU1, AU3 and Pinhole        \n",
    "class AxisTypeA(PVPositioner):\n",
    "\n",
    "    setpoint = FCpt(EpicsSignal,    '{self.prefix}Abs{self._ch_name}'                 )                   \n",
    "    readback = FCpt(EpicsSignalRO,  '{self.prefix}rdPos{self._ch_name}', kind='hinted')\n",
    "    done     = FCpt(EpicsSignalRO,  '{self.prefix}State{self._ch_name}'               )\n",
    "    \n",
    "    done_value = 0   \n",
    "    \n",
    "    def __init__(self, prefix, ch_name=None, **kwargs):\n",
    "        self._ch_name = ch_name\n",
    "        super().__init__(prefix, **kwargs)\n",
    "\n",
    "\n",
    "#Can be used for AU1 or AU3 units\n",
    "class AU13(Device):\n",
    "\n",
    "    read_attrs  = ['top.readback', 'bottom.readback', 'bottom.left', 'bottom.right']  \n",
    "    top         = Cpt(AxisTypeA, '', ch_name='M1')\n",
    "    bottom      = Cpt(AxisTypeA, '', ch_name='M2')\n",
    "    left        = Cpt(AxisTypeA, '', ch_name='M3') # wall in old convention\n",
    "    right       = Cpt(AxisTypeA, '', ch_name='M4') #ring in old convention\n",
    "\n",
    "sissy_au3 = AU13('AUY02U112L:', name='sissy_au3')\n",
    "\n",
    "sissy_au3.wait_for_connection()\n",
    "\n",
    "#Show that we have connected \n",
    "if(sissy_au3.connected):\n",
    "    print(\"Every PV name has been resolved and is connected to real hardware\")\n",
    "else:\n",
    "    print(\"somthing is wrong!\")"
   ]
  },
  {
   "cell_type": "markdown",
   "id": "modern-apollo",
   "metadata": {},
   "source": [
    "**Connecting to Detectors**\n",
    "====\n",
    "\n",
    "So far we have only connected to devices that we want to move, but we alse need to be able to create devices used in bluesky plans that read values. These might be as simple as an electrometer reading a current from a photodiode, or as complicated as a CCD. The latter is made easier by [Ophyd support for EPICS AreaDetector Devices.](https://nsls-ii.github.io/ophyd/area-detector.html#area-detectors)\n",
    "\n",
    "Going back to our earlier simulated IOC with three axis, we now introduce an additional PV which is dependant on the position of those axis\n",
    "\n",
    "```\n",
    "EMILEL:TestIOC00:sensor1:getCount\n",
    "EMILEL:TestIOC00:sensor2:getCount\n",
    "EMILEL:TestIOC00:sensor3:getCount\n",
    "```\n",
    "\n",
    "Let's make a trivial device to expose these signals"
   ]
  },
  {
   "cell_type": "code",
   "execution_count": null,
   "id": "deluxe-aircraft",
   "metadata": {},
   "outputs": [],
   "source": [
    "class Sensor(Device):\n",
    "    \n",
    "    counts = Cpt(EpicsSignalRO,  'getCount', kind='hinted')\n",
    "    \n",
    "prefix = 'EMILEL:TestIOC00:'\n",
    "my_sensor_1 = Sensor(prefix+'sensor1:', name='sensor_1')\n",
    "\n",
    "my_sensor_1.wait_for_connection()"
   ]
  },
  {
   "cell_type": "code",
   "execution_count": null,
   "id": "ceramic-interval",
   "metadata": {},
   "outputs": [],
   "source": [
    "my_sensor_1.read()\n"
   ]
  },
  {
   "cell_type": "markdown",
   "id": "adolescent-passage",
   "metadata": {},
   "source": [
    "**Putting it all together**\n",
    "=====\n",
    "\n",
    "Now we can use bluesky to scan the values of the x axis of our robot and observe what happens to the detector. In the example below we just use a temporary database and output to a livetable for ease."
   ]
  },
  {
   "cell_type": "code",
   "execution_count": null,
   "id": "prescribed-silicon",
   "metadata": {},
   "outputs": [],
   "source": [
    "from bluesky import RunEngine\n",
    "RE = RunEngine({})\n",
    "\n",
    "from bluesky.callbacks.best_effort import BestEffortCallback\n",
    "bec = BestEffortCallback()\n",
    "\n",
    "# Send all metadata/data captured to the BestEffortCallback.\n",
    "RE.subscribe(bec)\n",
    "\n",
    "from databroker import Broker\n",
    "db = Broker.named('temp')\n",
    "\n",
    "# Insert all metadata/data captured into db.\n",
    "RE.subscribe(db.insert)\n",
    "\n",
    "from ophyd.sim import det, motor\n",
    "from bluesky.plans import scan\n",
    "dets = [my_sensor_1]   # just one in this case, but it could be more than one\n",
    "\n",
    "RE(scan(dets, my_three_axis_robot.x, 0, 3, 100))"
   ]
  },
  {
   "cell_type": "code",
   "execution_count": null,
   "id": "abstract-machinery",
   "metadata": {},
   "outputs": [],
   "source": []
  },
  {
   "cell_type": "code",
   "execution_count": null,
   "id": "disabled-singing",
   "metadata": {},
   "outputs": [],
   "source": []
  }
 ],
 "metadata": {
  "kernelspec": {
   "display_name": "Python 3",
   "language": "python",
   "name": "python3"
  },
  "language_info": {
   "codemirror_mode": {
    "name": "ipython",
    "version": 3
   },
   "file_extension": ".py",
   "mimetype": "text/x-python",
   "name": "python",
   "nbconvert_exporter": "python",
   "pygments_lexer": "ipython3",
   "version": "3.7.3"
  }
 },
 "nbformat": 4,
 "nbformat_minor": 5
}
