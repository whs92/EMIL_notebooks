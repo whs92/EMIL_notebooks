{
 "cells": [
  {
   "cell_type": "markdown",
   "id": "wanted-potter",
   "metadata": {},
   "source": [
    "Specifying which stats we want to readback from bluesky plans"
   ]
  },
  {
   "cell_type": "code",
   "execution_count": 18,
   "id": "relative-concord",
   "metadata": {},
   "outputs": [
    {
     "data": {
      "text/plain": [
       "1"
      ]
     },
     "execution_count": 18,
     "metadata": {},
     "output_type": "execute_result"
    }
   ],
   "source": [
    "#configure a temp run engine environment\n",
    "\n",
    "from bluesky import RunEngine\n",
    "\n",
    "RE = RunEngine({})\n",
    "\n",
    "from bluesky.callbacks.best_effort import BestEffortCallback\n",
    "bec = BestEffortCallback()\n",
    "\n",
    "# Send all metadata/data captured to the BestEffortCallback.\n",
    "RE.subscribe(bec)\n",
    "\n",
    "#Get the databroker https://gist.github.com/untzag/53281819709b1058c7708a250cbd3676\n",
    "from databroker.v2 import temp\n",
    "db = temp()\n",
    "\n",
    "# Insert all metadata/data captured into db.\n",
    "RE.subscribe(db.v1.insert)\n"
   ]
  },
  {
   "cell_type": "code",
   "execution_count": 50,
   "id": "french-winning",
   "metadata": {},
   "outputs": [],
   "source": [
    "# create the SimDetector Device with a TIFF filesave mixin\n",
    "\n",
    "# https://github.com/NSLS-II-OPLS/profile_collection/blob/6960f16e4b622e1cc2bf4703cfa07e3340a617f2/startup/45-pilatus.py#L53-L54\n",
    "\n",
    "from ophyd import ( Component as Cpt, ADComponent, Device, PseudoPositioner,\n",
    "                    EpicsSignal, EpicsSignalRO, EpicsMotor,\n",
    "                    ROIPlugin, ImagePlugin,\n",
    "                    SingleTrigger, PilatusDetector,\n",
    "                    OverlayPlugin, FilePlugin, TIFFPlugin, SimDetector, TIFFPlugin, StatsPlugin, SimDetectorCam, ColorConvPlugin)\n",
    "from ophyd.areadetector.filestore_mixins import FileStoreTIFFIterativeWrite\n",
    "from ophyd import Component as Cpt\n",
    "\n",
    "    \n",
    "\n",
    "\n",
    "class SimDetector(SimDetector):\n",
    "    cam = Cpt(SimDetectorCam, 'cam1:')\n",
    "\n",
    "class TIFFPluginWithFileStore(TIFFPlugin, FileStoreTIFFIterativeWrite):\n",
    "    ...\n",
    "\n",
    "class MySimDetector(SingleTrigger, SimDetector):\n",
    "    tiff = Cpt(TIFFPluginWithFileStore,\n",
    "               suffix=\"TIFF1:\",\n",
    "               write_path_template=\"/home/emil/Apps/autosave/images/\")\n",
    "    stats = Cpt(StatsPlugin, 'Stats1:')\n",
    "    image = Cpt(ImagePlugin, 'image1:')\n",
    "    colour = Cpt(ColorConvPlugin, 'CC1:')\n",
    "    \n",
    "    \n",
    "#assumes that the plugins are blocking\n",
    "def set_detector(det):\n",
    "\n",
    "    det.tiff.kind = 'normal' \n",
    "    det.stats.kind = 'hinted'\n",
    "    det.stats.sigma_x.kind = 'hinted'\n",
    "    det.stats.blocking_callbacks.set('Yes')\n",
    "    det.stats.sigma_y.kind = 'hinted'\n",
    "    det.colour.kind = 'normal'\n",
    "    det.image.kind = 'hinted'\n",
    "    det.stats.total.kind = 'hinted'\n",
    "    det.stats.centroid.x.kind = 'hinted' \n",
    "    det.stats.centroid.y.kind = 'hinted' \n",
    "    det.tiff.nd_array_port.put(det.colour.port_name.get()) # makes the tiff plugin take the output of the colour change plugin\n",
    "\n"
   ]
  },
  {
   "cell_type": "code",
   "execution_count": 51,
   "id": "falling-capability",
   "metadata": {},
   "outputs": [],
   "source": [
    "my_sim_cam = MySimDetector('SISSY1EX:Simdetector1:', name='test')"
   ]
  },
  {
   "cell_type": "code",
   "execution_count": 52,
   "id": "animal-update",
   "metadata": {},
   "outputs": [],
   "source": [
    "my_sim_cam.wait_for_connection()"
   ]
  },
  {
   "cell_type": "code",
   "execution_count": 53,
   "id": "middle-shanghai",
   "metadata": {},
   "outputs": [],
   "source": [
    "set_detector(my_sim_cam)\n"
   ]
  },
  {
   "cell_type": "code",
   "execution_count": 54,
   "id": "cardiovascular-imperial",
   "metadata": {},
   "outputs": [],
   "source": [
    "import databroker.core\n",
    "handler_registry = databroker.core.discover_handlers()\n",
    "# make sure that the python package area-detector-handlers is installed!"
   ]
  },
  {
   "cell_type": "code",
   "execution_count": 55,
   "id": "fifth-biography",
   "metadata": {},
   "outputs": [
    {
     "name": "stdout",
     "output_type": "stream",
     "text": [
      "\n",
      "\n",
      "Transient Scan ID: 4     Time: 2021-08-25 12:38:13\n",
      "Persistent Unique Scan ID: '79dd421f-a0a3-4c03-aefe-147b1d680621'\n",
      "New stream: 'primary'\n",
      "+-----------+------------+--------------------+--------------------+------------------+\n",
      "|   seq_num |       time | test_stats_sigma_x | test_stats_sigma_y | test_stats_total |\n",
      "+-----------+------------+--------------------+--------------------+------------------+\n",
      "|         1 | 12:38:13.6 |               96.2 |               97.7 |         12290170 |\n",
      "+-----------+------------+--------------------+--------------------+------------------+\n",
      "generator count ['79dd421f'] (scan num: 4)\n",
      "\n",
      "\n",
      "\n"
     ]
    },
    {
     "data": {
      "text/plain": [
       "('79dd421f-a0a3-4c03-aefe-147b1d680621',)"
      ]
     },
     "execution_count": 55,
     "metadata": {},
     "output_type": "execute_result"
    }
   ],
   "source": [
    "from bluesky.plans import count\n",
    "RE(count([my_sim_cam]))"
   ]
  },
  {
   "cell_type": "code",
   "execution_count": 56,
   "id": "quick-strip",
   "metadata": {},
   "outputs": [],
   "source": [
    "from bessyii_devices.positioners import PVPositionerComparator\n",
    "from ophyd import Component as Cpt\n",
    "from ophyd import EpicsSignal, EpicsSignalRO\n",
    "\n",
    "\n",
    "        \n",
    "class MySimCamSigmaX(PVPositionerComparator):\n",
    "    \n",
    "    setpoint = Cpt(EpicsSignal, 'cam1:PeakWidthX')\n",
    "    readback = Cpt(EpicsSignalRO, 'cam1:PeakWidthX_RBV')\n",
    "    \n",
    "    atol = 0.1\n",
    "    \n",
    "    def done_comparator(self, readback, setpoint):\n",
    "        return setpoint-self.atol < readback < setpoint+self.atol\n",
    "\n",
    "    \n",
    "#could use Fcpt but can't be bothered\n",
    "class MySimCamSigmaY(PVPositionerComparator):\n",
    "    \n",
    "    setpoint = Cpt(EpicsSignal, 'cam1:PeakWidthY')\n",
    "    readback = Cpt(EpicsSignalRO, 'cam1:PeakWidthY_RBV')\n",
    "    \n",
    "    atol = 0.1\n",
    "    \n",
    "    def done_comparator(self, readback, setpoint):\n",
    "        return setpoint-self.atol < readback < setpoint+self.atol\n",
    "\n",
    "\n",
    "\n",
    "my_sim_cam_sigma_x = MySimCamSigmaX('SISSY1EX:Simdetector1:', name='my_sim_cam_sigma_x')\n",
    "\n",
    "my_sim_cam_sigma_y = MySimCamSigmaY('SISSY1EX:Simdetector1:', name='my_sim_cam_sigma_y')\n",
    "\n",
    "my_sim_cam_sigma_x.wait_for_connection()\n",
    "my_sim_cam_sigma_y.wait_for_connection()"
   ]
  },
  {
   "cell_type": "code",
   "execution_count": 57,
   "id": "resident-plant",
   "metadata": {},
   "outputs": [
    {
     "name": "stdout",
     "output_type": "stream",
     "text": [
      "\n",
      "\n",
      "Transient Scan ID: 5     Time: 2021-08-25 12:38:15\n",
      "Persistent Unique Scan ID: '039ded1b-9189-4d53-8ce5-bed3f933d513'\n",
      "New stream: 'primary'\n",
      "+-----------+------------+-----------------------------+-----------------------------+--------------------+--------------------+------------------+\n",
      "|   seq_num |       time | my_sim_cam_sigma_x_readback | my_sim_cam_sigma_y_readback | test_stats_sigma_x | test_stats_sigma_y | test_stats_total |\n",
      "+-----------+------------+-----------------------------+-----------------------------+--------------------+--------------------+------------------+\n",
      "|         1 | 12:38:15.3 |                          10 |                          10 |                9.8 |                9.8 |           123376 |\n",
      "|         2 | 12:38:15.7 |                          20 |                          20 |               19.5 |               19.5 |           493600 |\n",
      "|         3 | 12:38:16.0 |                          30 |                          30 |               29.3 |               29.3 |          1111044 |\n",
      "|         4 | 12:38:16.3 |                          40 |                          40 |               39.0 |               39.0 |          1974544 |\n",
      "|         5 | 12:38:16.6 |                          50 |                          50 |               48.8 |               48.8 |          3085552 |\n",
      "|         6 | 12:38:16.9 |                          60 |                          60 |               58.6 |               58.6 |          4443332 |\n",
      "|         7 | 12:38:17.2 |                          70 |                          70 |               68.3 |               68.3 |          6047836 |\n",
      "|         8 | 12:38:17.5 |                          80 |                          80 |               78.0 |               78.1 |          7898004 |\n",
      "|         9 | 12:38:17.8 |                          90 |                          90 |               87.4 |               87.9 |          9984078 |\n",
      "|        10 | 12:38:18.0 |                         100 |                         100 |               96.2 |               97.7 |         12290170 |\n",
      "+-----------+------------+-----------------------------+-----------------------------+--------------------+--------------------+------------------+\n",
      "generator scan ['039ded1b'] (scan num: 5)\n",
      "\n",
      "\n",
      "\n"
     ]
    },
    {
     "data": {
      "text/plain": [
       "('039ded1b-9189-4d53-8ce5-bed3f933d513',)"
      ]
     },
     "execution_count": 57,
     "metadata": {},
     "output_type": "execute_result"
    },
    {
     "data": {
      "image/png": "[encoded data removed]",
      "text/plain": [
       "<Figure size 360x1080 with 3 Axes>"
      ]
     },
     "metadata": {
      "needs_background": "light"
     },
     "output_type": "display_data"
    }
   ],
   "source": [
    "from bessyii.plans.scan import scan\n",
    "\n",
    "RE(scan([my_sim_cam],my_sim_cam_sigma_x,10,100,my_sim_cam_sigma_y,10,100,10))"
   ]
  },
  {
   "cell_type": "code",
   "execution_count": null,
   "id": "novel-malpractice",
   "metadata": {},
   "outputs": [],
   "source": []
  },
  {
   "cell_type": "code",
   "execution_count": null,
   "id": "suitable-reservoir",
   "metadata": {},
   "outputs": [],
   "source": []
  }
 ],
 "metadata": {
  "kernelspec": {
   "display_name": "Python 3",
   "language": "python",
   "name": "python3"
  },
  "language_info": {
   "codemirror_mode": {
    "name": "ipython",
    "version": 3
   },
   "file_extension": ".py",
   "mimetype": "text/x-python",
   "name": "python",
   "nbconvert_exporter": "python",
   "pygments_lexer": "ipython3",
   "version": "3.7.3"
  }
 },
 "nbformat": 4,
 "nbformat_minor": 5
}
