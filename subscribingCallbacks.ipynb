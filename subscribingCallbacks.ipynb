{
 "cells": [
  {
   "cell_type": "markdown",
   "id": "physical-buying",
   "metadata": {},
   "source": [
    "https://blueskyproject.io/bluesky/callbacks.html?highlight=subscribe#callbacks-for-visualization-fitting\n"
   ]
  },
  {
   "cell_type": "code",
   "execution_count": 2,
   "id": "dress-biography",
   "metadata": {},
   "outputs": [
    {
     "data": {
      "text/plain": [
       "1"
      ]
     },
     "execution_count": 2,
     "metadata": {},
     "output_type": "execute_result"
    }
   ],
   "source": [
    "from bluesky import RunEngine\n",
    "\n",
    "RE = RunEngine({})\n",
    "\n",
    "from bluesky.callbacks.best_effort import BestEffortCallback\n",
    "bec = BestEffortCallback()\n",
    "\n",
    "# Send all metadata/data captured to the BestEffortCallback.\n",
    "RE.subscribe(bec)\n",
    "\n",
    "#Get the databroker https://gist.github.com/untzag/53281819709b1058c7708a250cbd3676\n",
    "from databroker.v2 import temp\n",
    "db = temp()\n",
    "\n",
    "# Insert all metadata/data captured into db.\n",
    "RE.subscribe(db.v1.insert)\n"
   ]
  },
  {
   "cell_type": "code",
   "execution_count": 2,
   "id": "induced-malta",
   "metadata": {},
   "outputs": [],
   "source": [
    "from ophyd.sim import det, motor\n",
    "from bluesky.plans import scan"
   ]
  },
  {
   "cell_type": "code",
   "execution_count": 3,
   "id": "architectural-raising",
   "metadata": {},
   "outputs": [
    {
     "name": "stdout",
     "output_type": "stream",
     "text": [
      "\n",
      "\n",
      "Transient Scan ID: 1     Time: 2021-07-02 10:26:48\n",
      "Persistent Unique Scan ID: '5df5dba0-53e3-4218-bb35-f62e8f650895'\n",
      "New stream: 'primary'\n",
      "+-----------+------------+------------+------------+\n",
      "|   seq_num |       time |      motor |        det |\n",
      "+-----------+------------+------------+------------+\n",
      "|         1 | 10:26:49.2 |     -1.000 |      0.607 |\n",
      "|         2 | 10:26:49.3 |     -0.778 |      0.739 |\n",
      "|         3 | 10:26:49.3 |     -0.556 |      0.857 |\n",
      "|         4 | 10:26:49.4 |     -0.333 |      0.946 |\n",
      "|         5 | 10:26:49.4 |     -0.111 |      0.994 |\n",
      "|         6 | 10:26:49.4 |      0.111 |      0.994 |\n",
      "|         7 | 10:26:49.5 |      0.333 |      0.946 |\n",
      "|         8 | 10:26:49.5 |      0.556 |      0.857 |\n",
      "|         9 | 10:26:49.5 |      0.778 |      0.739 |\n",
      "|        10 | 10:26:49.6 |      1.000 |      0.607 |\n",
      "+-----------+------------+------------+------------+\n",
      "generator scan ['5df5dba0'] (scan num: 1)\n",
      "\n",
      "\n",
      "\n"
     ]
    },
    {
     "data": {
      "text/plain": [
       "('5df5dba0-53e3-4218-bb35-f62e8f650895',)"
      ]
     },
     "execution_count": 3,
     "metadata": {},
     "output_type": "execute_result"
    },
    {
     "data": {
      "image/png": "[encoded data removed]",
      "text/plain": [
       "<Figure size 360x360 with 1 Axes>"
      ]
     },
     "metadata": {
      "needs_background": "light"
     },
     "output_type": "display_data"
    }
   ],
   "source": [
    "RE(scan([det],motor,-1,1,10))\n"
   ]
  },
  {
   "cell_type": "code",
   "execution_count": 3,
   "id": "continuous-feedback",
   "metadata": {},
   "outputs": [],
   "source": [
    "from bluesky.callbacks import CallbackBase\n",
    "\n",
    "class MyCallback(CallbackBase):\n",
    "    def start(self, doc):\n",
    "        print(\"I got a new 'start' Document\")\n",
    "        # Do something\n",
    "    def descriptor(self, doc):\n",
    "        print(\"I got a new 'descriptor' Document\")\n",
    "        # Do something\n",
    "    def event(self, doc):\n",
    "        print(\"I got a new 'event' Document\")\n",
    "        # Do something\n",
    "    def stop(self, doc):\n",
    "        print(\"I got a new 'stop' Document\")\n",
    "        # Do something"
   ]
  },
  {
   "cell_type": "code",
   "execution_count": 5,
   "id": "conservative-tooth",
   "metadata": {},
   "outputs": [
    {
     "name": "stdout",
     "output_type": "stream",
     "text": [
      "\n",
      "\n",
      "Transient Scan ID: 2     Time: 2021-07-02 10:26:54\n",
      "Persistent Unique Scan ID: '12128b75-421f-4b7e-9518-4f1168d7c582'\n",
      "I got a new 'start' Document\n",
      "New stream: 'primary'\n",
      "+-----------+------------+------------+------------+\n",
      "|   seq_num |       time |      motor |        det |\n",
      "+-----------+------------+------------+------------+\n",
      "I got a new 'descriptor' Document\n",
      "|         1 | 10:26:54.0 |     -1.000 |      0.607 |\n",
      "I got a new 'event' Document\n",
      "|         2 | 10:26:54.1 |     -0.778 |      0.739 |\n",
      "I got a new 'event' Document\n",
      "|         3 | 10:26:54.1 |     -0.556 |      0.857 |\n",
      "I got a new 'event' Document\n",
      "|         4 | 10:26:54.2 |     -0.333 |      0.946 |\n",
      "I got a new 'event' Document\n",
      "|         5 | 10:26:54.2 |     -0.111 |      0.994 |\n",
      "I got a new 'event' Document\n",
      "|         6 | 10:26:54.2 |      0.111 |      0.994 |\n",
      "I got a new 'event' Document\n",
      "|         7 | 10:26:54.3 |      0.333 |      0.946 |\n",
      "I got a new 'event' Document\n",
      "|         8 | 10:26:54.3 |      0.556 |      0.857 |\n",
      "I got a new 'event' Document\n",
      "|         9 | 10:26:54.3 |      0.778 |      0.739 |\n",
      "I got a new 'event' Document\n",
      "|        10 | 10:26:54.4 |      1.000 |      0.607 |\n",
      "I got a new 'event' Document\n",
      "+-----------+------------+------------+------------+\n",
      "generator scan ['12128b75'] (scan num: 2)\n",
      "\n",
      "\n",
      "\n",
      "I got a new 'stop' Document\n"
     ]
    },
    {
     "data": {
      "text/plain": [
       "('12128b75-421f-4b7e-9518-4f1168d7c582',)"
      ]
     },
     "execution_count": 5,
     "metadata": {},
     "output_type": "execute_result"
    },
    {
     "data": {
      "image/png": "[encoded data removed]",
      "text/plain": [
       "<Figure size 360x360 with 1 Axes>"
      ]
     },
     "metadata": {
      "needs_background": "light"
     },
     "output_type": "display_data"
    }
   ],
   "source": [
    "RE(scan([det],motor,-1,1,10),MyCallback())"
   ]
  },
  {
   "cell_type": "code",
   "execution_count": 6,
   "id": "hidden-single",
   "metadata": {},
   "outputs": [
    {
     "data": {
      "text/plain": [
       "3"
      ]
     },
     "execution_count": 6,
     "metadata": {},
     "output_type": "execute_result"
    }
   ],
   "source": [
    "RE.subscribe(MyCallback())"
   ]
  },
  {
   "cell_type": "code",
   "execution_count": 7,
   "id": "russian-facility",
   "metadata": {},
   "outputs": [
    {
     "name": "stdout",
     "output_type": "stream",
     "text": [
      "\n",
      "\n",
      "Transient Scan ID: 3     Time: 2021-07-02 10:26:59\n",
      "Persistent Unique Scan ID: '3c9149bc-21d0-4d32-93bf-3434a01ab94d'\n",
      "I got a new 'start' Document\n",
      "New stream: 'primary'\n",
      "+-----------+------------+------------+------------+\n",
      "|   seq_num |       time |      motor |        det |\n",
      "+-----------+------------+------------+------------+\n",
      "I got a new 'descriptor' Document\n",
      "|         1 | 10:26:59.1 |     -1.000 |      0.607 |\n",
      "I got a new 'event' Document\n",
      "|         2 | 10:26:59.1 |     -0.778 |      0.739 |\n",
      "I got a new 'event' Document\n",
      "|         3 | 10:26:59.2 |     -0.556 |      0.857 |\n",
      "I got a new 'event' Document\n",
      "|         4 | 10:26:59.2 |     -0.333 |      0.946 |\n",
      "I got a new 'event' Document\n",
      "|         5 | 10:26:59.3 |     -0.111 |      0.994 |\n",
      "I got a new 'event' Document\n",
      "|         6 | 10:26:59.3 |      0.111 |      0.994 |\n",
      "I got a new 'event' Document\n",
      "|         7 | 10:26:59.4 |      0.333 |      0.946 |\n",
      "I got a new 'event' Document\n",
      "|         8 | 10:26:59.4 |      0.556 |      0.857 |\n",
      "I got a new 'event' Document\n",
      "|         9 | 10:26:59.4 |      0.778 |      0.739 |\n",
      "I got a new 'event' Document\n",
      "|        10 | 10:26:59.5 |      1.000 |      0.607 |\n",
      "I got a new 'event' Document\n",
      "+-----------+------------+------------+------------+\n",
      "generator scan ['3c9149bc'] (scan num: 3)\n",
      "\n",
      "\n",
      "\n",
      "I got a new 'stop' Document\n"
     ]
    },
    {
     "data": {
      "text/plain": [
       "('3c9149bc-21d0-4d32-93bf-3434a01ab94d',)"
      ]
     },
     "execution_count": 7,
     "metadata": {},
     "output_type": "execute_result"
    },
    {
     "data": {
      "image/png": "[encoded data removed]",
      "text/plain": [
       "<Figure size 360x360 with 1 Axes>"
      ]
     },
     "metadata": {
      "needs_background": "light"
     },
     "output_type": "display_data"
    }
   ],
   "source": [
    "RE(scan([det],motor,-1,1,10))\n"
   ]
  },
  {
   "cell_type": "code",
   "execution_count": 7,
   "id": "published-sugar",
   "metadata": {},
   "outputs": [
    {
     "ename": "TypeError",
     "evalue": "callback() missing 1 required positional argument: 'status'",
     "output_type": "error",
     "traceback": [
      "\u001b[0;31m---------------------------------------------------------------------------\u001b[0m",
      "\u001b[0;31mTypeError\u001b[0m                                 Traceback (most recent call last)",
      "\u001b[0;32m<ipython-input-7-5666981cc1e4>\u001b[0m in \u001b[0;36m<module>\u001b[0;34m\u001b[0m\n\u001b[1;32m     11\u001b[0m \u001b[0;32mfrom\u001b[0m \u001b[0mbluesky\u001b[0m\u001b[0;34m.\u001b[0m\u001b[0mplan_stubs\u001b[0m \u001b[0;32mimport\u001b[0m \u001b[0mmv\u001b[0m\u001b[0;34m\u001b[0m\u001b[0;34m\u001b[0m\u001b[0m\n\u001b[1;32m     12\u001b[0m \u001b[0mmotor\u001b[0m\u001b[0;34m.\u001b[0m\u001b[0mdelay\u001b[0m \u001b[0;34m=\u001b[0m \u001b[0;36m1\u001b[0m\u001b[0;34m\u001b[0m\u001b[0;34m\u001b[0m\u001b[0m\n\u001b[0;32m---> 13\u001b[0;31m \u001b[0mRE\u001b[0m\u001b[0;34m(\u001b[0m\u001b[0mmove_some_motor\u001b[0m\u001b[0;34m(\u001b[0m\u001b[0mmotor\u001b[0m\u001b[0;34m,\u001b[0m\u001b[0;36m1.6\u001b[0m\u001b[0;34m)\u001b[0m\u001b[0;34m,\u001b[0m\u001b[0mcallback\u001b[0m\u001b[0;34m(\u001b[0m\u001b[0;34m)\u001b[0m\u001b[0;34m)\u001b[0m\u001b[0;34m\u001b[0m\u001b[0;34m\u001b[0m\u001b[0m\n\u001b[0m",
      "\u001b[0;31mTypeError\u001b[0m: callback() missing 1 required positional argument: 'status'"
     ]
    }
   ],
   "source": [
    "def move_some_motor(motor, pos):\n",
    "    \n",
    "    yield from mv(motor, pos)\n",
    "\n",
    "from bluesky.callbacks import CallbackBase\n",
    "\n",
    "\n",
    "def callback(CallbackBase):\n",
    " \n",
    "    print(f\"{status} is done\")\n",
    "    \n",
    "from ophyd.sim import motor\n",
    "from bluesky.plan_stubs import mv\n",
    "motor.delay = 1\n",
    "RE(move_some_motor(motor,1.6),callback())"
   ]
  },
  {
   "cell_type": "code",
   "execution_count": null,
   "id": "given-phenomenon",
   "metadata": {},
   "outputs": [],
   "source": []
  }
 ],
 "metadata": {
  "kernelspec": {
   "display_name": "Python 3",
   "language": "python",
   "name": "python3"
  },
  "language_info": {
   "codemirror_mode": {
    "name": "ipython",
    "version": 3
   },
   "file_extension": ".py",
   "mimetype": "text/x-python",
   "name": "python",
   "nbconvert_exporter": "python",
   "pygments_lexer": "ipython3",
   "version": "3.7.3"
  }
 },
 "nbformat": 4,
 "nbformat_minor": 5
}
