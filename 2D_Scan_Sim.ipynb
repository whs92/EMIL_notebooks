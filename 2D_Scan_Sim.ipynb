{
 "cells": [
  {
   "cell_type": "markdown",
   "id": "romantic-wallet",
   "metadata": {},
   "source": [
    "**Set up the Environment**"
   ]
  },
  {
   "cell_type": "code",
   "execution_count": 2,
   "id": "czech-customer",
   "metadata": {},
   "outputs": [],
   "source": [
    "from bluesky import RunEngine\n",
    "RE = RunEngine({})\n",
    "\n",
    "from bluesky.callbacks.best_effort import BestEffortCallback\n",
    "bec = BestEffortCallback()\n",
    "\n",
    "# Send all metadata/data captured to the BestEffortCallback.\n",
    "RE.subscribe(bec)\n",
    "\n",
    "from databroker import Broker\n",
    "db = Broker.named('temp')\n",
    "\n",
    "# Insert all metadata/data captured into db.\n",
    "RE.subscribe(db.insert)\n",
    "\n",
    "from ophyd.sim import motor1,motor2, Syn2DGauss, SynGauss\n",
    "from bluesky.plans import scan, adaptive_scan, grid_scan\n",
    "import numpy as np\n",
    "s = np.random.RandomState(0)\n"
   ]
  },
  {
   "cell_type": "markdown",
   "id": "knowing-honduras",
   "metadata": {},
   "source": [
    "**A Simple 1D Scan**"
   ]
  },
  {
   "cell_type": "code",
   "execution_count": 3,
   "id": "marked-palmer",
   "metadata": {},
   "outputs": [],
   "source": [
    "#Lets define a simulated detector https://github.com/bluesky/ophyd/blob/7937cd46e92e9ec2f7eec321dd5b1b1b71115e20/ophyd/sim.py#L475\n",
    "from ophyd.sim import det, motor\n",
    "\n",
    "my_det = SynGauss('my_det', motor, 'motor', center=0, Imax=1, sigma=1,noise_multiplier=0.1)"
   ]
  },
  {
   "cell_type": "code",
   "execution_count": 4,
   "id": "supreme-contact",
   "metadata": {},
   "outputs": [
    {
     "name": "stdout",
     "output_type": "stream",
     "text": [
      "\n",
      "\n",
      "Transient Scan ID: 1     Time: 2021-06-02 16:09:07\n",
      "Persistent Unique Scan ID: '0b400e08-d91e-4397-a754-91cbbe944f3b'\n",
      "New stream: 'primary'\n",
      "+-----------+------------+------------+------------+\n",
      "|   seq_num |       time |      motor |     my_det |\n",
      "+-----------+------------+------------+------------+\n",
      "|         1 | 16:09:07.5 |    -15.000 |      0.000 |\n",
      "|         2 | 16:09:07.7 |    -14.747 |      0.000 |\n",
      "|         3 | 16:09:07.7 |    -14.495 |      0.000 |\n",
      "|         4 | 16:09:07.7 |    -14.242 |      0.000 |\n",
      "|         5 | 16:09:07.8 |    -13.990 |      0.000 |\n",
      "|         6 | 16:09:07.8 |    -13.737 |      0.000 |\n",
      "|         7 | 16:09:07.9 |    -13.485 |      0.000 |\n",
      "|         8 | 16:09:07.9 |    -13.232 |      0.000 |\n",
      "|         9 | 16:09:07.9 |    -12.980 |      0.000 |\n",
      "|        10 | 16:09:08.0 |    -12.727 |      0.000 |\n",
      "|        11 | 16:09:08.0 |    -12.475 |      0.000 |\n",
      "|        12 | 16:09:08.1 |    -12.222 |      0.000 |\n",
      "|        13 | 16:09:08.1 |    -11.970 |      0.000 |\n",
      "|        14 | 16:09:08.1 |    -11.717 |      0.000 |\n",
      "|        15 | 16:09:08.2 |    -11.465 |      0.000 |\n",
      "|        16 | 16:09:08.2 |    -11.212 |      0.000 |\n",
      "|        17 | 16:09:08.3 |    -10.960 |      0.000 |\n",
      "|        18 | 16:09:08.3 |    -10.707 |      0.000 |\n",
      "|        19 | 16:09:08.3 |    -10.455 |      0.000 |\n",
      "|        20 | 16:09:08.4 |    -10.202 |      0.000 |\n",
      "|        21 | 16:09:08.4 |     -9.949 |      0.000 |\n",
      "|        22 | 16:09:08.4 |     -9.697 |      0.000 |\n",
      "|        23 | 16:09:08.5 |     -9.444 |      0.000 |\n",
      "|        24 | 16:09:08.5 |     -9.192 |      0.000 |\n",
      "|        25 | 16:09:08.5 |     -8.939 |      0.000 |\n",
      "|        26 | 16:09:08.6 |     -8.687 |      0.000 |\n",
      "|        27 | 16:09:08.6 |     -8.434 |      0.000 |\n",
      "|        28 | 16:09:08.6 |     -8.182 |      0.000 |\n",
      "|        29 | 16:09:08.7 |     -7.929 |      0.000 |\n",
      "|        30 | 16:09:08.7 |     -7.677 |      0.000 |\n",
      "|        31 | 16:09:08.8 |     -7.424 |      0.000 |\n",
      "|        32 | 16:09:08.8 |     -7.172 |      0.000 |\n",
      "|        33 | 16:09:08.8 |     -6.919 |      0.000 |\n",
      "|        34 | 16:09:08.9 |     -6.667 |      0.000 |\n",
      "|        35 | 16:09:08.9 |     -6.414 |      0.000 |\n",
      "|        36 | 16:09:08.9 |     -6.162 |      0.000 |\n",
      "|        37 | 16:09:09.0 |     -5.909 |      0.000 |\n",
      "|        38 | 16:09:09.0 |     -5.657 |      0.000 |\n",
      "|        39 | 16:09:09.1 |     -5.404 |      0.000 |\n",
      "|        40 | 16:09:09.1 |     -5.152 |      0.000 |\n",
      "|        41 | 16:09:09.1 |     -4.899 |      0.000 |\n",
      "|        42 | 16:09:09.2 |     -4.646 |      0.000 |\n",
      "|        43 | 16:09:09.2 |     -4.394 |      0.000 |\n",
      "|        44 | 16:09:09.2 |     -4.141 |      0.000 |\n",
      "|        45 | 16:09:09.3 |     -3.889 |      0.001 |\n",
      "|        46 | 16:09:09.3 |     -3.636 |      0.001 |\n",
      "|        47 | 16:09:09.4 |     -3.384 |      0.003 |\n",
      "|        48 | 16:09:09.4 |     -3.131 |      0.007 |\n",
      "|        49 | 16:09:09.5 |     -2.879 |      0.016 |\n",
      "+-----------+------------+------------+------------+\n",
      "|   seq_num |       time |      motor |     my_det |\n",
      "+-----------+------------+------------+------------+\n",
      "|        50 | 16:09:09.5 |     -2.626 |      0.032 |\n",
      "|        51 | 16:09:09.5 |     -2.374 |      0.060 |\n",
      "|        52 | 16:09:09.6 |     -2.121 |      0.105 |\n",
      "|        53 | 16:09:09.6 |     -1.869 |      0.174 |\n",
      "|        54 | 16:09:09.7 |     -1.616 |      0.271 |\n",
      "|        55 | 16:09:09.7 |     -1.364 |      0.395 |\n",
      "|        56 | 16:09:09.7 |     -1.111 |      0.539 |\n",
      "|        57 | 16:09:09.8 |     -0.859 |      0.692 |\n",
      "|        58 | 16:09:09.8 |     -0.606 |      0.832 |\n",
      "|        59 | 16:09:09.8 |     -0.354 |      0.939 |\n",
      "|        60 | 16:09:09.9 |     -0.101 |      0.995 |\n",
      "|        61 | 16:09:09.9 |      0.152 |      0.989 |\n",
      "|        62 | 16:09:09.9 |      0.404 |      0.922 |\n",
      "|        63 | 16:09:10.0 |      0.657 |      0.806 |\n",
      "|        64 | 16:09:10.0 |      0.909 |      0.662 |\n",
      "|        65 | 16:09:10.0 |      1.162 |      0.509 |\n",
      "|        66 | 16:09:10.1 |      1.414 |      0.368 |\n",
      "|        67 | 16:09:10.1 |      1.667 |      0.249 |\n",
      "|        68 | 16:09:10.1 |      1.919 |      0.159 |\n",
      "|        69 | 16:09:10.1 |      2.172 |      0.095 |\n",
      "|        70 | 16:09:10.2 |      2.424 |      0.053 |\n",
      "|        71 | 16:09:10.2 |      2.677 |      0.028 |\n",
      "|        72 | 16:09:10.2 |      2.929 |      0.014 |\n",
      "|        73 | 16:09:10.3 |      3.182 |      0.006 |\n",
      "|        74 | 16:09:10.3 |      3.434 |      0.003 |\n",
      "|        75 | 16:09:10.3 |      3.687 |      0.001 |\n",
      "|        76 | 16:09:10.4 |      3.939 |      0.000 |\n",
      "|        77 | 16:09:10.4 |      4.192 |      0.000 |\n",
      "|        78 | 16:09:10.4 |      4.444 |      0.000 |\n",
      "|        79 | 16:09:10.4 |      4.697 |      0.000 |\n",
      "|        80 | 16:09:10.5 |      4.949 |      0.000 |\n",
      "|        81 | 16:09:10.5 |      5.202 |      0.000 |\n",
      "|        82 | 16:09:10.5 |      5.455 |      0.000 |\n",
      "|        83 | 16:09:10.5 |      5.707 |      0.000 |\n",
      "|        84 | 16:09:10.6 |      5.960 |      0.000 |\n",
      "|        85 | 16:09:10.6 |      6.212 |      0.000 |\n",
      "|        86 | 16:09:10.6 |      6.465 |      0.000 |\n",
      "|        87 | 16:09:10.7 |      6.717 |      0.000 |\n",
      "|        88 | 16:09:10.7 |      6.970 |      0.000 |\n",
      "|        89 | 16:09:10.7 |      7.222 |      0.000 |\n",
      "|        90 | 16:09:10.7 |      7.475 |      0.000 |\n",
      "|        91 | 16:09:10.8 |      7.727 |      0.000 |\n",
      "|        92 | 16:09:10.8 |      7.980 |      0.000 |\n",
      "|        93 | 16:09:10.8 |      8.232 |      0.000 |\n",
      "|        94 | 16:09:10.8 |      8.485 |      0.000 |\n",
      "|        95 | 16:09:10.9 |      8.737 |      0.000 |\n",
      "|        96 | 16:09:10.9 |      8.990 |      0.000 |\n",
      "|        97 | 16:09:10.9 |      9.242 |      0.000 |\n",
      "|        98 | 16:09:11.0 |      9.495 |      0.000 |\n",
      "|        99 | 16:09:11.0 |      9.747 |      0.000 |\n",
      "+-----------+------------+------------+------------+\n",
      "|   seq_num |       time |      motor |     my_det |\n",
      "+-----------+------------+------------+------------+\n",
      "|       100 | 16:09:11.0 |     10.000 |      0.000 |\n",
      "+-----------+------------+------------+------------+\n",
      "generator scan ['0b400e08'] (scan num: 1)\n",
      "\n",
      "\n",
      "\n"
     ]
    },
    {
     "data": {
      "text/plain": [
       "('0b400e08-d91e-4397-a754-91cbbe944f3b',)"
      ]
     },
     "execution_count": 4,
     "metadata": {},
     "output_type": "execute_result"
    },
    {
     "data": {
      "image/png": "[encoded data removed]",
      "text/plain": [
       "<Figure size 360x360 with 1 Axes>"
      ]
     },
     "metadata": {
      "needs_background": "light"
     },
     "output_type": "display_data"
    }
   ],
   "source": [
    "# Now we can perform a scan and see the result\n",
    "\n",
    "RE(scan([my_det],motor, -15,10,100))\n",
    "\n"
   ]
  },
  {
   "cell_type": "markdown",
   "id": "scheduled-holocaust",
   "metadata": {},
   "source": [
    "**1D Adaptive Scan**"
   ]
  },
  {
   "cell_type": "code",
   "execution_count": 5,
   "id": "authentic-rider",
   "metadata": {},
   "outputs": [
    {
     "name": "stdout",
     "output_type": "stream",
     "text": [
      "\n",
      "\n",
      "Transient Scan ID: 2     Time: 2021-06-02 16:09:14\n",
      "Persistent Unique Scan ID: '17ef7187-3c1a-4878-8a1f-9bd059c19fe6'\n",
      "New stream: 'primary'\n",
      "+-----------+------------+------------+------------+\n",
      "|   seq_num |       time |      motor |     my_det |\n",
      "+-----------+------------+------------+------------+\n",
      "|         1 | 16:09:14.7 |    -15.000 |      0.000 |\n",
      "|         2 | 16:09:14.7 |    -12.505 |      0.000 |\n",
      "|         3 | 16:09:14.8 |     -9.509 |      0.000 |\n",
      "|         4 | 16:09:14.8 |     -6.112 |      0.000 |\n",
      "|         5 | 16:09:14.9 |     -2.395 |      0.057 |\n",
      "|         6 | 16:09:14.9 |      1.233 |      0.468 |\n",
      "|         7 | 16:09:15.0 |     -1.953 |      0.148 |\n",
      "|         8 | 16:09:15.0 |     -2.154 |      0.098 |\n",
      "|         9 | 16:09:15.0 |     -1.903 |      0.164 |\n",
      "|        10 | 16:09:15.1 |     -1.961 |      0.146 |\n",
      "|        11 | 16:09:15.1 |     -1.767 |      0.210 |\n",
      "|        12 | 16:09:15.1 |     -1.809 |      0.195 |\n",
      "|        13 | 16:09:15.2 |     -1.656 |      0.254 |\n",
      "|        14 | 16:09:15.2 |     -1.507 |      0.321 |\n",
      "|        15 | 16:09:15.2 |     -1.545 |      0.303 |\n",
      "|        16 | 16:09:15.2 |     -1.435 |      0.357 |\n",
      "|        17 | 16:09:15.3 |     -1.325 |      0.415 |\n",
      "|        18 | 16:09:15.3 |     -1.219 |      0.475 |\n",
      "|        19 | 16:09:15.3 |     -1.117 |      0.536 |\n",
      "|        20 | 16:09:15.4 |     -1.018 |      0.596 |\n",
      "|        21 | 16:09:15.4 |     -0.922 |      0.654 |\n",
      "|        22 | 16:09:15.4 |     -0.829 |      0.709 |\n",
      "|        23 | 16:09:15.5 |     -0.738 |      0.762 |\n",
      "|        24 | 16:09:15.5 |     -0.647 |      0.811 |\n",
      "|        25 | 16:09:15.5 |     -0.557 |      0.856 |\n",
      "|        26 | 16:09:15.6 |     -0.464 |      0.898 |\n",
      "|        27 | 16:09:15.6 |     -0.368 |      0.935 |\n",
      "|        28 | 16:09:15.6 |     -0.265 |      0.966 |\n",
      "|        29 | 16:09:15.7 |     -0.149 |      0.989 |\n",
      "|        30 | 16:09:15.7 |     -0.007 |      1.000 |\n",
      "|        31 | 16:09:15.7 |      0.236 |      0.972 |\n",
      "|        32 | 16:09:15.8 |      0.519 |      0.874 |\n",
      "|        33 | 16:09:15.8 |      0.380 |      0.930 |\n",
      "|        34 | 16:09:15.8 |      0.529 |      0.870 |\n",
      "|        35 | 16:09:15.8 |      0.672 |      0.798 |\n",
      "|        36 | 16:09:15.9 |      0.629 |      0.821 |\n",
      "|        37 | 16:09:15.9 |      0.729 |      0.767 |\n",
      "|        38 | 16:09:15.9 |      0.828 |      0.710 |\n",
      "|        39 | 16:09:16.0 |      0.925 |      0.652 |\n",
      "|        40 | 16:09:16.0 |      1.018 |      0.595 |\n",
      "|        41 | 16:09:16.0 |      1.110 |      0.540 |\n",
      "|        42 | 16:09:16.0 |      1.200 |      0.487 |\n",
      "|        43 | 16:09:16.1 |      1.289 |      0.436 |\n",
      "|        44 | 16:09:16.1 |      1.377 |      0.387 |\n",
      "|        45 | 16:09:16.1 |      1.466 |      0.341 |\n",
      "|        46 | 16:09:16.2 |      1.557 |      0.298 |\n",
      "|        47 | 16:09:16.2 |      1.650 |      0.256 |\n",
      "|        48 | 16:09:16.2 |      1.747 |      0.217 |\n",
      "|        49 | 16:09:16.3 |      1.850 |      0.181 |\n",
      "+-----------+------------+------------+------------+\n",
      "|   seq_num |       time |      motor |     my_det |\n",
      "+-----------+------------+------------+------------+\n",
      "|        50 | 16:09:16.3 |      1.960 |      0.146 |\n",
      "|        51 | 16:09:16.3 |      2.080 |      0.115 |\n",
      "|        52 | 16:09:16.3 |      2.215 |      0.086 |\n",
      "|        53 | 16:09:16.4 |      2.369 |      0.060 |\n",
      "|        54 | 16:09:16.4 |      2.552 |      0.039 |\n",
      "|        55 | 16:09:16.4 |      2.783 |      0.021 |\n",
      "|        56 | 16:09:16.5 |      3.097 |      0.008 |\n",
      "|        57 | 16:09:16.5 |      3.599 |      0.002 |\n",
      "|        58 | 16:09:16.5 |      4.747 |      0.000 |\n",
      "|        59 | 16:09:16.6 |      6.666 |      0.000 |\n",
      "|        60 | 16:09:16.6 |      9.200 |      0.000 |\n",
      "+-----------+------------+------------+------------+\n",
      "generator adaptive_scan ['17ef7187'] (scan num: 2)\n",
      "\n",
      "\n",
      "\n"
     ]
    },
    {
     "data": {
      "text/plain": [
       "('17ef7187-3c1a-4878-8a1f-9bd059c19fe6',)"
      ]
     },
     "execution_count": 5,
     "metadata": {},
     "output_type": "execute_result"
    },
    {
     "data": {
      "image/png": "[encoded data removed]",
      "text/plain": [
       "<Figure size 360x360 with 1 Axes>"
      ]
     },
     "metadata": {
      "needs_background": "light"
     },
     "output_type": "display_data"
    }
   ],
   "source": [
    "#https://nsls-ii.github.io/bluesky/plans.html#adaptive-scans\n",
    "RE(adaptive_scan([my_det], 'my_det', motor,\n",
    "                 start=-15.0,\n",
    "                 stop=10.0,\n",
    "                 min_step=0.01,\n",
    "                 max_step=5,\n",
    "                 target_delta=.05,\n",
    "                 backstep=True))\n",
    "\n",
    "# A small bug means that the start and stop values must be floats (15.0 rather than 15) otherwise the table doesn't plot correctly"
   ]
  },
  {
   "cell_type": "markdown",
   "id": "empirical-career",
   "metadata": {},
   "source": [
    "**2D Scan**"
   ]
  },
  {
   "cell_type": "code",
   "execution_count": 50,
   "id": "digital-democracy",
   "metadata": {},
   "outputs": [],
   "source": [
    "import numpy as np\n",
    "s = np.random.RandomState(0)\n",
    "det_2D = Syn2DGauss('det_2D', motor1, 'motor1', motor2, 'motor2',\n",
    "                               center=(0, 0), Imax=1, noise='uniform',\n",
    "                               sigma=1, noise_multiplier=0.1, random_state=s)"
   ]
  },
  {
   "cell_type": "code",
   "execution_count": 52,
   "id": "particular-roots",
   "metadata": {},
   "outputs": [
    {
     "name": "stdout",
     "output_type": "stream",
     "text": [
      "\n",
      "\n",
      "Transient Scan ID: 27     Time: 2021-06-02 14:24:24\n",
      "Persistent Unique Scan ID: 'e9362a7d-9555-4ee1-8625-a1dede8db45d'\n",
      "New stream: 'primary'\n",
      "+-----------+------------+------------+------------+------------+\n",
      "|   seq_num |       time |     motor1 |     motor2 |     det_2D |\n",
      "+-----------+------------+------------+------------+------------+\n",
      "|         1 | 14:24:25.0 |     -2.000 |     -2.000 |     -0.028 |\n",
      "|         2 | 14:24:25.0 |     -2.000 |     -1.556 |      0.087 |\n",
      "|         3 | 14:24:25.1 |     -2.000 |     -1.111 |      0.165 |\n",
      "|         4 | 14:24:25.1 |     -2.000 |     -0.667 |      0.058 |\n",
      "|         5 | 14:24:25.2 |     -2.000 |     -0.222 |      0.147 |\n",
      "|         6 | 14:24:25.2 |     -2.000 |      0.222 |      0.150 |\n",
      "|         7 | 14:24:25.3 |     -2.000 |      0.667 |      0.123 |\n",
      "|         8 | 14:24:25.3 |     -2.000 |      1.111 |      0.018 |\n",
      "|         9 | 14:24:25.4 |     -2.000 |      1.556 |      0.131 |\n",
      "|        10 | 14:24:25.4 |     -2.000 |      2.000 |      0.008 |\n",
      "|        11 | 14:24:25.5 |     -1.556 |     -2.000 |      0.110 |\n",
      "|        12 | 14:24:25.5 |     -1.556 |     -1.556 |      0.129 |\n",
      "|        13 | 14:24:25.6 |     -1.556 |     -1.111 |      0.120 |\n",
      "|        14 | 14:24:25.6 |     -1.556 |     -0.667 |      0.302 |\n",
      "|        15 | 14:24:25.7 |     -1.556 |     -0.222 |      0.270 |\n",
      "|        16 | 14:24:25.7 |     -1.556 |      0.222 |      0.367 |\n",
      "|        17 | 14:24:25.8 |     -1.556 |      0.667 |      0.255 |\n",
      "|        18 | 14:24:25.8 |     -1.556 |      1.111 |      0.237 |\n",
      "|        19 | 14:24:25.9 |     -1.556 |      1.556 |      0.127 |\n",
      "|        20 | 14:24:25.9 |     -1.556 |      2.000 |      0.085 |\n",
      "|        21 | 14:24:26.0 |     -1.111 |     -2.000 |      0.073 |\n",
      "|        22 | 14:24:26.0 |     -1.111 |     -1.556 |      0.252 |\n",
      "|        23 | 14:24:26.1 |     -1.111 |     -1.111 |      0.320 |\n",
      "|        24 | 14:24:26.1 |     -1.111 |     -0.667 |      0.417 |\n",
      "|        25 | 14:24:26.2 |     -1.111 |     -0.222 |      0.548 |\n",
      "|        26 | 14:24:26.2 |     -1.111 |      0.222 |      0.430 |\n",
      "|        27 | 14:24:26.3 |     -1.111 |      0.667 |      0.392 |\n",
      "|        28 | 14:24:26.3 |     -1.111 |      1.111 |      0.323 |\n",
      "|        29 | 14:24:26.4 |     -1.111 |      1.556 |      0.119 |\n",
      "|        30 | 14:24:26.4 |     -1.111 |      2.000 |      0.097 |\n",
      "|        31 | 14:24:26.4 |     -0.667 |     -2.000 |      0.094 |\n",
      "|        32 | 14:24:26.5 |     -0.667 |     -1.556 |      0.166 |\n",
      "|        33 | 14:24:26.5 |     -0.667 |     -1.111 |      0.392 |\n",
      "|        34 | 14:24:26.6 |     -0.667 |     -0.667 |      0.655 |\n",
      "|        35 | 14:24:26.6 |     -0.667 |     -0.222 |      0.799 |\n",
      "|        36 | 14:24:26.7 |     -0.667 |      0.222 |      0.796 |\n",
      "|        37 | 14:24:26.7 |     -0.667 |      0.667 |      0.672 |\n",
      "|        38 | 14:24:26.8 |     -0.667 |      1.111 |      0.462 |\n",
      "|        39 | 14:24:26.8 |     -0.667 |      1.556 |      0.225 |\n",
      "|        40 | 14:24:26.9 |     -0.667 |      2.000 |      0.188 |\n",
      "|        41 | 14:24:26.9 |     -0.222 |     -2.000 |      0.106 |\n",
      "|        42 | 14:24:27.0 |     -0.222 |     -1.556 |      0.278 |\n",
      "|        43 | 14:24:27.0 |     -0.222 |     -1.111 |      0.605 |\n",
      "|        44 | 14:24:27.1 |     -0.222 |     -0.667 |      0.842 |\n",
      "|        45 | 14:24:27.1 |     -0.222 |     -0.222 |      0.993 |\n",
      "|        46 | 14:24:27.2 |     -0.222 |      0.222 |      0.872 |\n",
      "|        47 | 14:24:27.2 |     -0.222 |      0.667 |      0.865 |\n",
      "|        48 | 14:24:27.3 |     -0.222 |      1.111 |      0.569 |\n",
      "|        49 | 14:24:27.3 |     -0.222 |      1.556 |      0.391 |\n",
      "+-----------+------------+------------+------------+------------+\n",
      "|   seq_num |       time |     motor1 |     motor2 |     det_2D |\n",
      "+-----------+------------+------------+------------+------------+\n",
      "|        50 | 14:24:27.4 |     -0.222 |      2.000 |      0.062 |\n",
      "|        51 | 14:24:27.4 |      0.222 |     -2.000 |      0.206 |\n",
      "|        52 | 14:24:27.5 |      0.222 |     -1.556 |      0.223 |\n",
      "|        53 | 14:24:27.5 |      0.222 |     -1.111 |      0.549 |\n",
      "|        54 | 14:24:27.5 |      0.222 |     -0.667 |      0.706 |\n",
      "|        55 | 14:24:27.6 |      0.222 |     -0.222 |      1.021 |\n",
      "|        56 | 14:24:27.6 |      0.222 |      0.222 |      1.013 |\n",
      "|        57 | 14:24:27.7 |      0.222 |      0.667 |      0.795 |\n",
      "|        58 | 14:24:27.7 |      0.222 |      1.111 |      0.508 |\n",
      "|        59 | 14:24:27.8 |      0.222 |      1.556 |      0.205 |\n",
      "|        60 | 14:24:27.8 |      0.222 |      2.000 |      0.172 |\n",
      "|        61 | 14:24:27.9 |      0.667 |     -2.000 |      0.099 |\n",
      "|        62 | 14:24:27.9 |      0.667 |     -1.556 |      0.283 |\n",
      "|        63 | 14:24:28.0 |      0.667 |     -1.111 |      0.505 |\n",
      "|        64 | 14:24:28.0 |      0.667 |     -0.667 |      0.736 |\n",
      "|        65 | 14:24:28.0 |      0.667 |     -0.222 |      0.852 |\n",
      "|        66 | 14:24:28.1 |      0.667 |      0.222 |      0.684 |\n",
      "|        67 | 14:24:28.1 |      0.667 |      0.667 |      0.613 |\n",
      "|        68 | 14:24:28.2 |      0.667 |      1.111 |      0.478 |\n",
      "|        69 | 14:24:28.2 |      0.667 |      1.556 |      0.173 |\n",
      "|        70 | 14:24:28.3 |      0.667 |      2.000 |      0.113 |\n",
      "|        71 | 14:24:28.3 |      1.111 |     -2.000 |     -0.016 |\n",
      "|        72 | 14:24:28.4 |      1.111 |     -1.556 |      0.101 |\n",
      "|        73 | 14:24:28.4 |      1.111 |     -1.111 |      0.195 |\n",
      "|        74 | 14:24:28.5 |      1.111 |     -0.667 |      0.491 |\n",
      "|        75 | 14:24:28.5 |      1.111 |     -0.222 |      0.471 |\n",
      "|        76 | 14:24:28.6 |      1.111 |      0.222 |      0.495 |\n",
      "|        77 | 14:24:28.6 |      1.111 |      0.667 |      0.518 |\n",
      "|        78 | 14:24:28.7 |      1.111 |      1.111 |      0.332 |\n",
      "|        79 | 14:24:28.7 |      1.111 |      1.556 |      0.067 |\n",
      "|        80 | 14:24:28.8 |      1.111 |      2.000 |      0.006 |\n",
      "|        81 | 14:24:28.8 |      1.556 |     -2.000 |      0.065 |\n",
      "|        82 | 14:24:28.8 |      1.556 |     -1.556 |      0.104 |\n",
      "|        83 | 14:24:28.9 |      1.556 |     -1.111 |      0.108 |\n",
      "|        84 | 14:24:28.9 |      1.556 |     -0.667 |      0.326 |\n",
      "|        85 | 14:24:29.0 |      1.556 |     -0.222 |      0.314 |\n",
      "|        86 | 14:24:29.0 |      1.556 |      0.222 |      0.298 |\n",
      "|        87 | 14:24:29.1 |      1.556 |      0.667 |      0.257 |\n",
      "|        88 | 14:24:29.1 |      1.556 |      1.111 |      0.207 |\n",
      "|        89 | 14:24:29.2 |      1.556 |      1.556 |      0.051 |\n",
      "|        90 | 14:24:29.2 |      1.556 |      2.000 |      0.020 |\n",
      "|        91 | 14:24:29.3 |      2.000 |     -2.000 |     -0.040 |\n",
      "|        92 | 14:24:29.3 |      2.000 |     -1.556 |     -0.022 |\n",
      "|        93 | 14:24:29.3 |      2.000 |     -1.111 |      0.162 |\n",
      "|        94 | 14:24:29.4 |      2.000 |     -0.667 |      0.156 |\n",
      "|        95 | 14:24:29.4 |      2.000 |     -0.222 |      0.130 |\n",
      "|        96 | 14:24:29.5 |      2.000 |      0.222 |      0.078 |\n",
      "|        97 | 14:24:29.5 |      2.000 |      0.667 |      0.059 |\n",
      "|        98 | 14:24:29.6 |      2.000 |      1.111 |     -0.015 |\n",
      "|        99 | 14:24:29.6 |      2.000 |      1.556 |      0.027 |\n",
      "+-----------+------------+------------+------------+------------+\n",
      "|   seq_num |       time |     motor1 |     motor2 |     det_2D |\n",
      "+-----------+------------+------------+------------+------------+\n",
      "|       100 | 14:24:29.7 |      2.000 |      2.000 |     -0.019 |\n",
      "+-----------+------------+------------+------------+------------+\n",
      "generator grid_scan ['e9362a7d'] (scan num: 27)\n",
      "\n",
      "\n",
      "\n"
     ]
    },
    {
     "data": {
      "text/plain": [
       "('e9362a7d-9555-4ee1-8625-a1dede8db45d',)"
      ]
     },
     "execution_count": 52,
     "metadata": {},
     "output_type": "execute_result"
    },
    {
     "data": {
      "image/png": "[encoded data removed]",
      "text/plain": [
       "<Figure size 360x360 with 2 Axes>"
      ]
     },
     "metadata": {
      "needs_background": "light"
     },
     "output_type": "display_data"
    }
   ],
   "source": [
    "RE(grid_scan([det_2D],\n",
    "             motor1, -2, 2, 10,  \n",
    "             motor2, -2, 2, 10))\n"
   ]
  },
  {
   "cell_type": "code",
   "execution_count": null,
   "id": "alternate-partnership",
   "metadata": {},
   "outputs": [],
   "source": []
  }
 ],
 "metadata": {
  "kernelspec": {
   "display_name": "Python 3",
   "language": "python",
   "name": "python3"
  },
  "language_info": {
   "codemirror_mode": {
    "name": "ipython",
    "version": 3
   },
   "file_extension": ".py",
   "mimetype": "text/x-python",
   "name": "python",
   "nbconvert_exporter": "python",
   "pygments_lexer": "ipython3",
   "version": "3.7.3"
  }
 },
 "nbformat": 4,
 "nbformat_minor": 5
}
