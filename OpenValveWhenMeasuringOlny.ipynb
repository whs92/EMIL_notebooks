{
 "cells": [
  {
   "cell_type": "markdown",
   "id": "absent-pattern",
   "metadata": {},
   "source": [
    "**Open a Valve during a scan**\n",
    "\n",
    "We want to do somthing to existing . For that we use prepocessors: https://nsls-ii.github.io/bluesky/plans.html#plan-preprocessors\n",
    "\n",
    "We can see existing ones here: https://nsls-ii.github.io/bluesky/_modules/bluesky/preprocessors.html#suspend_wrapper"
   ]
  },
  {
   "cell_type": "code",
   "execution_count": 3,
   "id": "eastern-lightweight",
   "metadata": {},
   "outputs": [
    {
     "data": {
      "text/plain": [
       "1"
      ]
     },
     "execution_count": 3,
     "metadata": {},
     "output_type": "execute_result"
    }
   ],
   "source": [
    "#configure a temp run engine environment\n",
    "\n",
    "from bluesky import RunEngine\n",
    "\n",
    "RE = RunEngine({})\n",
    "\n",
    "from bluesky.callbacks.best_effort import BestEffortCallback\n",
    "bec = BestEffortCallback()\n",
    "\n",
    "# Send all metadata/data captured to the BestEffortCallback.\n",
    "RE.subscribe(bec)\n",
    "\n",
    "#Get the databroker https://gist.github.com/untzag/53281819709b1058c7708a250cbd3676\n",
    "from databroker.v2 import temp\n",
    "db = temp()\n",
    "\n",
    "# Insert all metadata/data captured into db.\n",
    "RE.subscribe(db.v1.insert)"
   ]
  },
  {
   "cell_type": "code",
   "execution_count": 2,
   "id": "buried-bones",
   "metadata": {},
   "outputs": [],
   "source": [
    "from ophyd.sim import det, motor\n",
    "from bluesky.plans import scan"
   ]
  },
  {
   "cell_type": "code",
   "execution_count": 14,
   "id": "acute-castle",
   "metadata": {},
   "outputs": [],
   "source": [
    "# We can just add some moves around the existing scan plan\n",
    "from bluesky.plan_stubs import mv\n",
    "\n",
    "def scan_with_valve(detectors, *args, num=None, num_runs=None, per_step=None, md=None, valve=None):\n",
    "    # Single-run plans may be called consecutively. No special handling is required\n",
    "    #   as long as the previous scan is closed before the next one is opened\n",
    "    \n",
    "    yield from mv(valve,1)\n",
    "    yield from scan(detectors, *args, num=None, per_step=None, md=None)\n",
    "    yield from mv(valve,0)"
   ]
  },
  {
   "cell_type": "code",
   "execution_count": 15,
   "id": "constant-general",
   "metadata": {},
   "outputs": [
    {
     "data": {
      "text/plain": [
       "AxisTuple(done=0, setpoint=2.0, readback=2.0)"
      ]
     },
     "execution_count": 15,
     "metadata": {},
     "output_type": "execute_result"
    }
   ],
   "source": [
    "#Let's test it with a simulated motor\n",
    "from bessyii_devices.subclassed_device import Robot\n",
    "dummy_axis = Robot('EMILEL:TestIOC00:',name='dummy_axis')\n",
    "\n"
   ]
  },
  {
   "cell_type": "code",
   "execution_count": 17,
   "id": "frozen-accuracy",
   "metadata": {},
   "outputs": [
    {
     "name": "stdout",
     "output_type": "stream",
     "text": [
      "\n",
      "\n",
      "Transient Scan ID: 4     Time: 2021-08-31 15:16:46\n",
      "Persistent Unique Scan ID: '560a7404-8d83-4533-9653-68c1e428f70a'\n",
      "New stream: 'primary'\n",
      "+-----------+------------+------------+------------+\n",
      "|   seq_num |       time |      motor |        det |\n",
      "+-----------+------------+------------+------------+\n",
      "|         1 | 15:16:46.0 |     -1.000 |      0.607 |\n",
      "|         2 | 15:16:46.1 |     -0.778 |      0.739 |\n",
      "|         3 | 15:16:46.1 |     -0.556 |      0.857 |\n",
      "|         4 | 15:16:46.2 |     -0.333 |      0.946 |\n",
      "|         5 | 15:16:46.2 |     -0.111 |      0.994 |\n",
      "|         6 | 15:16:46.3 |      0.111 |      0.994 |\n",
      "|         7 | 15:16:46.3 |      0.333 |      0.946 |\n",
      "|         8 | 15:16:46.4 |      0.556 |      0.857 |\n",
      "|         9 | 15:16:46.4 |      0.778 |      0.739 |\n",
      "|        10 | 15:16:46.4 |      1.000 |      0.607 |\n",
      "+-----------+------------+------------+------------+\n",
      "generator scan ['560a7404'] (scan num: 4)\n",
      "\n",
      "\n",
      "\n"
     ]
    },
    {
     "data": {
      "text/plain": [
       "('560a7404-8d83-4533-9653-68c1e428f70a',)"
      ]
     },
     "execution_count": 17,
     "metadata": {},
     "output_type": "execute_result"
    },
    {
     "data": {
      "image/png": "[encoded data removed]",
      "text/plain": [
       "<Figure size 360x360 with 1 Axes>"
      ]
     },
     "metadata": {
      "needs_background": "light"
     },
     "output_type": "display_data"
    }
   ],
   "source": [
    "RE(scan_with_valve([det],motor,-1,1,10,valve=dummy_axis.axis_1))"
   ]
  },
  {
   "cell_type": "code",
   "execution_count": 18,
   "id": "technical-framework",
   "metadata": {},
   "outputs": [
    {
     "name": "stdout",
     "output_type": "stream",
     "text": [
      "\n",
      "\n",
      "Transient Scan ID: 5     Time: 2021-08-31 15:17:39\n",
      "Persistent Unique Scan ID: '2c1c02f4-915a-4698-943f-72325d93a821'\n",
      "New stream: 'primary'\n",
      "+-----------+------------+------------+------------+\n",
      "|   seq_num |       time |      motor |        det |\n",
      "+-----------+------------+------------+------------+\n",
      "|         1 | 15:17:39.7 |     -1.000 |      0.607 |\n",
      "|         2 | 15:17:39.8 |     -0.778 |      0.739 |\n",
      "|         3 | 15:17:39.8 |     -0.556 |      0.857 |\n",
      "|         4 | 15:17:39.9 |     -0.333 |      0.946 |\n",
      "|         5 | 15:17:39.9 |     -0.111 |      0.994 |\n",
      "|         6 | 15:17:40.0 |      0.111 |      0.994 |\n",
      "|         7 | 15:17:40.0 |      0.333 |      0.946 |\n",
      "|         8 | 15:17:40.0 |      0.556 |      0.857 |\n",
      "|         9 | 15:17:40.1 |      0.778 |      0.739 |\n",
      "|        10 | 15:17:40.1 |      1.000 |      0.607 |\n",
      "+-----------+------------+------------+------------+\n",
      "generator scan ['2c1c02f4'] (scan num: 5)\n",
      "\n",
      "\n",
      "\n"
     ]
    },
    {
     "data": {
      "text/plain": [
       "('2c1c02f4-915a-4698-943f-72325d93a821',)"
      ]
     },
     "execution_count": 18,
     "metadata": {},
     "output_type": "execute_result"
    },
    {
     "data": {
      "image/png": "[encoded data removed]",
      "text/plain": [
       "<Figure size 360x360 with 1 Axes>"
      ]
     },
     "metadata": {
      "needs_background": "light"
     },
     "output_type": "display_data"
    }
   ],
   "source": [
    "#We can also make it always connect to a particular valve\n",
    "\n",
    "def emil_scan(detectors, *args, num=None, num_runs=None, per_step=None, md=None):\n",
    "    # Single-run plans may be called consecutively. No special handling is required\n",
    "    #   as long as the previous scan is closed before the next one is opened\n",
    "    \n",
    "    yield from mv(dummy_axis.axis_1,1)\n",
    "    yield from scan(detectors, *args, num=None, per_step=None, md=None)\n",
    "    yield from mv(dummy_axis.axis_1,0)\n",
    "\n",
    "RE(emil_scan([det],motor,-1,1,10))\n"
   ]
  },
  {
   "cell_type": "code",
   "execution_count": 1,
   "id": "wanted-windows",
   "metadata": {},
   "outputs": [],
   "source": [
    "# We can make a special per step plan that includes moving the valves. \n",
    "\n",
    "from bluesky.plan_stubs import trigger_and_read, move_per_step\n",
    "def one_nd_step_with_valves(detectors, step, pos_cache, take_reading=trigger_and_read):\n",
    "    \"\"\"\n",
    "    Inner loop of an N-dimensional step scan\n",
    "\n",
    "    This is the default function for ``per_step`` param`` in ND plans.\n",
    "\n",
    "    Parameters\n",
    "    ----------\n",
    "    detectors : iterable\n",
    "        devices to read\n",
    "    step : dict\n",
    "        mapping motors to positions in this step\n",
    "    pos_cache : dict\n",
    "        mapping motors to their last-set positions\n",
    "    take_reading : plan, optional\n",
    "        function to do the actual acquisition ::\n",
    "\n",
    "           def take_reading(dets, name='primary'):\n",
    "                yield from ...\n",
    "\n",
    "        Callable[List[OphydObj], Optional[str]] -> Generator[Msg], optional\n",
    "\n",
    "        Defaults to `trigger_and_read`\n",
    "    \"\"\"\n",
    "    yield from mv(dummy_axis.axis_1,1)\n",
    "    motors = step.keys()\n",
    "    yield from move_per_step(step, pos_cache)\n",
    "    yield from take_reading(list(detectors) + list(motors))\n",
    "    yield from mv(dummy_axis.axis_1,0)\n",
    "    \n"
   ]
  },
  {
   "cell_type": "code",
   "execution_count": 2,
   "id": "biological-fleece",
   "metadata": {},
   "outputs": [
    {
     "ename": "NameError",
     "evalue": "name 'RE' is not defined",
     "output_type": "error",
     "traceback": [
      "\u001b[0;31m---------------------------------------------------------------------------\u001b[0m",
      "\u001b[0;31mNameError\u001b[0m                                 Traceback (most recent call last)",
      "\u001b[0;32m<ipython-input-2-9bb952ed959e>\u001b[0m in \u001b[0;36m<module>\u001b[0;34m\u001b[0m\n\u001b[0;32m----> 1\u001b[0;31m \u001b[0mRE\u001b[0m\u001b[0;34m(\u001b[0m\u001b[0mscan\u001b[0m\u001b[0;34m(\u001b[0m\u001b[0;34m[\u001b[0m\u001b[0mdet\u001b[0m\u001b[0;34m]\u001b[0m\u001b[0;34m,\u001b[0m\u001b[0mmotor\u001b[0m\u001b[0;34m,\u001b[0m\u001b[0;34m-\u001b[0m\u001b[0;36m1\u001b[0m\u001b[0;34m,\u001b[0m\u001b[0;36m1\u001b[0m\u001b[0;34m,\u001b[0m\u001b[0;36m10\u001b[0m\u001b[0;34m,\u001b[0m\u001b[0mper_step\u001b[0m\u001b[0;34m=\u001b[0m\u001b[0mone_nd_step_with_valves\u001b[0m\u001b[0;34m)\u001b[0m\u001b[0;34m)\u001b[0m\u001b[0;34m\u001b[0m\u001b[0;34m\u001b[0m\u001b[0m\n\u001b[0m",
      "\u001b[0;31mNameError\u001b[0m: name 'RE' is not defined"
     ]
    }
   ],
   "source": [
    "RE(scan([det],motor,-1,1,10,per_step=one_nd_step_with_valves))"
   ]
  },
  {
   "cell_type": "code",
   "execution_count": 29,
   "id": "plain-phone",
   "metadata": {},
   "outputs": [
    {
     "ename": "NameError",
     "evalue": "name 'Signal' is not defined",
     "output_type": "error",
     "traceback": [
      "\u001b[0;31m---------------------------------------------------------------------------\u001b[0m",
      "\u001b[0;31mNameError\u001b[0m                                 Traceback (most recent call last)",
      "\u001b[0;32m<ipython-input-29-07a6f2f30ca1>\u001b[0m in \u001b[0;36m<module>\u001b[0;34m\u001b[0m\n\u001b[1;32m      3\u001b[0m     \u001b[0mprint\u001b[0m\u001b[0;34m(\u001b[0m\u001b[0;34mf\"Value Changed from {old_value} to {value} \"\u001b[0m\u001b[0;34m)\u001b[0m\u001b[0;34m\u001b[0m\u001b[0;34m\u001b[0m\u001b[0m\n\u001b[1;32m      4\u001b[0m \u001b[0;34m\u001b[0m\u001b[0m\n\u001b[0;32m----> 5\u001b[0;31m \u001b[0mcallback_id\u001b[0m \u001b[0;34m=\u001b[0m \u001b[0mdummy_axis\u001b[0m\u001b[0;34m.\u001b[0m\u001b[0maxis_1\u001b[0m\u001b[0;34m.\u001b[0m\u001b[0mreadback\u001b[0m\u001b[0;34m.\u001b[0m\u001b[0msubscribe\u001b[0m\u001b[0;34m(\u001b[0m\u001b[0monChanges\u001b[0m\u001b[0;34m,\u001b[0m\u001b[0mevent_type\u001b[0m\u001b[0;34m=\u001b[0m\u001b[0mSignal\u001b[0m\u001b[0;34m.\u001b[0m\u001b[0mSUB_VALUE\u001b[0m\u001b[0;34m,\u001b[0m\u001b[0mrun\u001b[0m\u001b[0;34m=\u001b[0m\u001b[0;32mFalse\u001b[0m\u001b[0;34m)\u001b[0m\u001b[0;34m\u001b[0m\u001b[0;34m\u001b[0m\u001b[0m\n\u001b[0m\u001b[1;32m      6\u001b[0m \u001b[0;34m\u001b[0m\u001b[0m\n\u001b[1;32m      7\u001b[0m \u001b[0;34m\u001b[0m\u001b[0m\n",
      "\u001b[0;31mNameError\u001b[0m: name 'Signal' is not defined"
     ]
    }
   ],
   "source": [
    "def onChanges(*,old_value,value,**kwargs):\n",
    "\n",
    "    print(f\"Value Changed from {old_value} to {value} \")\n",
    "    \n",
    "callback_id = dummy_axis.axis_1.readback.subscribe(onChanges,event_type=Signal.SUB_VALUE,run=False)\n",
    "\n",
    "\n",
    "dummy_axis.axis_1.set(2)"
   ]
  },
  {
   "cell_type": "code",
   "execution_count": null,
   "id": "associate-deposit",
   "metadata": {},
   "outputs": [],
   "source": []
  },
  {
   "cell_type": "code",
   "execution_count": null,
   "id": "leading-hormone",
   "metadata": {},
   "outputs": [],
   "source": []
  }
 ],
 "metadata": {
  "kernelspec": {
   "display_name": "Python 3",
   "language": "python",
   "name": "python3"
  },
  "language_info": {
   "codemirror_mode": {
    "name": "ipython",
    "version": 3
   },
   "file_extension": ".py",
   "mimetype": "text/x-python",
   "name": "python",
   "nbconvert_exporter": "python",
   "pygments_lexer": "ipython3",
   "version": "3.7.3"
  }
 },
 "nbformat": 4,
 "nbformat_minor": 5
}
