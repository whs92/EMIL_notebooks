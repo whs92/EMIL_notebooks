{
 "cells": [
  {
   "cell_type": "markdown",
   "id": "stuck-protest",
   "metadata": {},
   "source": [
    "**Playing with Live Plotting in Jupyter**\n",
    "\n",
    "We would like to have live tables, and live plots from scalers. We'd also like to know how to implement live image, and live fit plotting\n",
    "\n",
    "In Jupyter I think we have to realise this with bluesky-widgets\n",
    "\n",
    "A relevant pull request is: https://github.com/bluesky/bluesky-widgets/pull/46\n",
    "\n",
    "An example is shown here: https://github.com/bluesky/bluesky-widgets/blob/master/bluesky_widgets/examples/AutoRecentLines.ipynb"
   ]
  },
  {
   "cell_type": "code",
   "execution_count": 7,
   "id": "burning-benefit",
   "metadata": {},
   "outputs": [],
   "source": [
    "import os\n",
    "import matplotlib\n",
    "\n",
    "get_ipython().run_line_magic(\"matplotlib\", \"widget\")  # i.e. %matplotlib widget\n",
    "import matplotlib.pyplot\n",
    "\n",
    "from ophyd import Device, Component, EpicsSignal\n",
    "from ophyd.signal import EpicsSignalBase\n",
    "import uuid\n",
    "import os\n",
    "from pathlib import Path\n",
    "import numpy as np\n",
    "from IPython import get_ipython\n",
    "\n",
    "#configure a temp run engine environment\n",
    "\n",
    "from bluesky import RunEngine\n",
    "\n",
    "RE = RunEngine({})\n",
    "\n",
    "\n",
    "#Get the databroker https://gist.github.com/untzag/53281819709b1058c7708a250cbd3676\n",
    "from databroker.v2 import temp\n",
    "db = temp()\n",
    "\n",
    "# Insert all metadata/data captured into db.\n",
    "RE.subscribe(db.v1.insert)\n",
    "\n",
    "\n",
    "# Register bluesky IPython magics.\n",
    "from bluesky.magics import BlueskyMagics\n",
    "\n",
    "get_ipython().register_magics(BlueskyMagics)\n",
    "\n",
    "# Set up plots with bluesky_widgets.\n",
    "from bluesky_widgets.models.auto_plot_builders import AutoLines\n",
    "from bluesky_widgets.utils.streaming import stream_documents_into_runs\n",
    "from bluesky_widgets.jupyter.figures import JupyterFigures\n",
    "\n",
    "auto_plot_model = AutoLines(max_runs=10)\n",
    "RE.subscribe(stream_documents_into_runs(auto_plot_model.add_run))\n",
    "auto_plot_view = JupyterFigures(auto_plot_model.figures)\n",
    "\n",
    "# Use BestEffortCallback just for the table\n",
    "# TODO: Retire our use of BestEffortCallback, using a table from\n",
    "# bluesky_widgets once one is available.\n",
    "from bluesky.callbacks.best_effort import BestEffortCallback\n",
    "bec = BestEffortCallback()\n",
    "\n",
    "# Send all metadata/data captured to the BestEffortCallback.\n",
    "bec.disable_plots() #turn off plots as this crashes the kernel!\n",
    "RE.subscribe(bec)\n",
    "\n",
    "# Import matplotlib and put it in interactive mode.\n",
    "import matplotlib.pyplot as plt\n",
    "\n",
    "plt.ion()\n",
    "\n",
    "        \n",
    "# Make plots update live while scans run.\n",
    "from bluesky.utils import install_nb_kicker\n",
    "\n",
    "install_nb_kicker()\n",
    "\n",
    "# convenience imports\n",
    "# some of the * imports are for 'back-compatibility' of a sort -- we have\n",
    "# taught BL staff to expect LiveTable and LivePlot etc. to be in their\n",
    "# namespace\n",
    "\n",
    "\n",
    "\n"
   ]
  },
  {
   "cell_type": "code",
   "execution_count": 8,
   "id": "looking-tuesday",
   "metadata": {},
   "outputs": [
    {
     "data": {
      "application/vnd.jupyter.widget-view+json": {
       "model_id": "f00198fc24c846a098dd21661749ed75",
       "version_major": 2,
       "version_minor": 0
      },
      "text/plain": [
       "JupyterFigures()"
      ]
     },
     "metadata": {},
     "output_type": "display_data"
    }
   ],
   "source": [
    "# For this to work it's critical that bec is not subscribed!\n",
    "auto_plot_view"
   ]
  },
  {
   "cell_type": "code",
   "execution_count": 9,
   "id": "incomplete-submission",
   "metadata": {},
   "outputs": [
    {
     "name": "stdout",
     "output_type": "stream",
     "text": [
      "\n",
      "\n",
      "Transient Scan ID: 1     Time: 2021-09-03 09:28:26\n",
      "Persistent Unique Scan ID: '91a1a4ea-bcca-4cc9-85c0-1b77ab123910'\n",
      "New stream: 'primary'\n",
      "+-----------+------------+------------+\n",
      "|   seq_num |       time |        det |\n",
      "+-----------+------------+------------+\n",
      "|         1 | 09:28:27.1 |      0.607 |\n",
      "|         2 | 09:28:27.2 |      0.607 |\n",
      "|         3 | 09:28:27.4 |      0.607 |\n",
      "|         4 | 09:28:27.6 |      0.607 |\n",
      "|         5 | 09:28:27.8 |      0.607 |\n",
      "|         6 | 09:28:28.0 |      0.607 |\n",
      "|         7 | 09:28:28.2 |      0.607 |\n",
      "|         8 | 09:28:28.4 |      0.607 |\n",
      "|         9 | 09:28:28.6 |      0.607 |\n",
      "|        10 | 09:28:28.8 |      0.607 |\n",
      "+-----------+------------+------------+\n",
      "generator count ['91a1a4ea'] (scan num: 1)\n",
      "\n",
      "\n",
      "\n"
     ]
    },
    {
     "data": {
      "text/plain": [
       "('91a1a4ea-bcca-4cc9-85c0-1b77ab123910',)"
      ]
     },
     "execution_count": 9,
     "metadata": {},
     "output_type": "execute_result"
    }
   ],
   "source": [
    "from ophyd.sim import det,motor\n",
    "\n",
    "# five consecutive readings\n",
    "RE(count([det],10,0.2))"
   ]
  },
  {
   "cell_type": "code",
   "execution_count": 10,
   "id": "august-garlic",
   "metadata": {},
   "outputs": [
    {
     "name": "stdout",
     "output_type": "stream",
     "text": [
      "\n",
      "\n",
      "Transient Scan ID: 2     Time: 2021-09-03 09:28:42\n",
      "Persistent Unique Scan ID: '957c490c-e02c-4449-9901-4caf88cf3fd4'\n",
      "New stream: 'primary'\n",
      "+-----------+------------+------------+------------+\n",
      "|   seq_num |       time |      motor |        det |\n",
      "+-----------+------------+------------+------------+\n",
      "|         1 | 09:28:42.8 |     -1.000 |      0.607 |\n",
      "|         2 | 09:28:42.8 |     -0.778 |      0.739 |\n",
      "|         3 | 09:28:42.9 |     -0.556 |      0.857 |\n",
      "|         4 | 09:28:43.0 |     -0.333 |      0.946 |\n",
      "|         5 | 09:28:43.1 |     -0.111 |      0.994 |\n",
      "|         6 | 09:28:43.2 |      0.111 |      0.994 |\n",
      "|         7 | 09:28:43.3 |      0.333 |      0.946 |\n",
      "|         8 | 09:28:43.3 |      0.556 |      0.857 |\n",
      "|         9 | 09:28:43.4 |      0.778 |      0.739 |\n",
      "|        10 | 09:28:43.5 |      1.000 |      0.607 |\n",
      "+-----------+------------+------------+------------+\n",
      "generator scan ['957c490c'] (scan num: 2)\n",
      "\n",
      "\n",
      "\n"
     ]
    },
    {
     "data": {
      "text/plain": [
       "('957c490c-e02c-4449-9901-4caf88cf3fd4',)"
      ]
     },
     "execution_count": 10,
     "metadata": {},
     "output_type": "execute_result"
    }
   ],
   "source": [
    "from ophyd.sim import det,motor\n",
    "\n",
    "# five consecutive readings\n",
    "RE(scan([det],motor,-1,1,10))"
   ]
  },
  {
   "cell_type": "code",
   "execution_count": 6,
   "id": "excited-seller",
   "metadata": {},
   "outputs": [
    {
     "data": {
      "text/plain": [
       "('e0755b0a-7700-4660-b43d-3f4b153c0b96',)"
      ]
     },
     "execution_count": 6,
     "metadata": {},
     "output_type": "execute_result"
    }
   ],
   "source": [
    "from ophyd.sim import det,motor\n",
    "\n",
    "# five consecutive readings\n",
    "RE(scan([det],motor,-1,1,10))"
   ]
  },
  {
   "cell_type": "code",
   "execution_count": null,
   "id": "clean-cleaners",
   "metadata": {},
   "outputs": [],
   "source": []
  }
 ],
 "metadata": {
  "kernelspec": {
   "display_name": "Python 3",
   "language": "python",
   "name": "python3"
  },
  "language_info": {
   "codemirror_mode": {
    "name": "ipython",
    "version": 3
   },
   "file_extension": ".py",
   "mimetype": "text/x-python",
   "name": "python",
   "nbconvert_exporter": "python",
   "pygments_lexer": "ipython3",
   "version": "3.7.3"
  }
 },
 "nbformat": 4,
 "nbformat_minor": 5
}
