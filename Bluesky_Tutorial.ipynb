{
 "cells": [
  {
   "cell_type": "markdown",
   "id": "compound-temple",
   "metadata": {},
   "source": [
    "Taken from https://nsls-ii.github.io/bluesky/tutorial.html\n"
   ]
  },
  {
   "cell_type": "code",
   "execution_count": 1,
   "id": "capable-fraud",
   "metadata": {},
   "outputs": [
    {
     "name": "stderr",
     "output_type": "stream",
     "text": [
      "/opt/tljh/user/lib/python3.7/site-packages/pims/image_reader.py:26: RuntimeWarning: PIMS image_reader.py could not find scikit-image. Falling back to matplotlib's imread(), which uses floats instead of integers. This may break your scripts. \n",
      "(To ignore this warning, include the line \"warnings.simplefilter(\"ignore\", RuntimeWarning)\" in your script.)\n",
      "  warnings.warn(RuntimeWarning(ski_preferred))\n"
     ]
    },
    {
     "name": "stdout",
     "output_type": "stream",
     "text": [
      "\n",
      "\n",
      "Transient Scan ID: 1     Time: 2021-02-16 10:47:47\n",
      "Persistent Unique Scan ID: 'e37047e8-7e41-46f3-990a-4c0822e9a3b1'\n",
      "New stream: 'primary'\n",
      "+-----------+------------+------------+------------+\n",
      "|   seq_num |       time |      motor |        det |\n",
      "+-----------+------------+------------+------------+\n",
      "|         1 | 10:47:47.5 |     -1.000 |      0.607 |\n",
      "|         2 | 10:47:47.6 |     -0.778 |      0.739 |\n",
      "|         3 | 10:47:47.6 |     -0.556 |      0.857 |\n",
      "|         4 | 10:47:47.7 |     -0.333 |      0.946 |\n",
      "|         5 | 10:47:47.7 |     -0.111 |      0.994 |\n",
      "|         6 | 10:47:47.7 |      0.111 |      0.994 |\n",
      "|         7 | 10:47:47.8 |      0.333 |      0.946 |\n",
      "|         8 | 10:47:47.8 |      0.556 |      0.857 |\n",
      "|         9 | 10:47:47.8 |      0.778 |      0.739 |\n",
      "|        10 | 10:47:47.9 |      1.000 |      0.607 |\n",
      "+-----------+------------+------------+------------+\n",
      "generator scan ['e37047e8'] (scan num: 1)\n",
      "\n",
      "\n",
      "\n"
     ]
    },
    {
     "data": {
      "text/plain": [
       "('e37047e8-7e41-46f3-990a-4c0822e9a3b1',)"
      ]
     },
     "execution_count": 1,
     "metadata": {},
     "output_type": "execute_result"
    },
    {
     "data": {
      "image/png": "[encoded data removed]",
      "text/plain": [
       "<Figure size 360x360 with 1 Axes>"
      ]
     },
     "metadata": {
      "needs_background": "light"
     },
     "output_type": "display_data"
    }
   ],
   "source": [
    "from bluesky import RunEngine\n",
    "RE = RunEngine({})\n",
    "\n",
    "from bluesky.callbacks.best_effort import BestEffortCallback\n",
    "bec = BestEffortCallback()\n",
    "\n",
    "# Send all metadata/data captured to the BestEffortCallback.\n",
    "RE.subscribe(bec)\n",
    "\n",
    "from databroker import Broker\n",
    "db = Broker.named('temp')\n",
    "\n",
    "# Insert all metadata/data captured into db.\n",
    "RE.subscribe(db.insert)\n",
    "\n",
    "from ophyd.sim import det, motor\n",
    "from bluesky.plans import scan\n",
    "dets = [det]   # just one in this case, but it could be more than one\n",
    "\n",
    "RE(scan(dets, motor, -1, 1, 10))"
   ]
  },
  {
   "cell_type": "code",
   "execution_count": null,
   "id": "directed-memorial",
   "metadata": {},
   "outputs": [],
   "source": []
  }
 ],
 "metadata": {
  "kernelspec": {
   "display_name": "Python 3",
   "language": "python",
   "name": "python3"
  },
  "language_info": {
   "codemirror_mode": {
    "name": "ipython",
    "version": 3
   },
   "file_extension": ".py",
   "mimetype": "text/x-python",
   "name": "python",
   "nbconvert_exporter": "python",
   "pygments_lexer": "ipython3",
   "version": "3.7.3"
  }
 },
 "nbformat": 4,
 "nbformat_minor": 5
}
