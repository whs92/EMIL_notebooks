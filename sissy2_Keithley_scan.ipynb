{
 "cells": [
  {
   "cell_type": "markdown",
   "id": "expired-raising",
   "metadata": {},
   "source": [
    "sissy2_config.py sets up the enviroment, connects you to the database that data is saved in and prepares devices that should be in a baseline reading"
   ]
  },
  {
   "cell_type": "code",
   "execution_count": 1,
   "id": "departmental-complexity",
   "metadata": {},
   "outputs": [],
   "source": [
    "%run /srv/scratch/scripts/sissy2_config.py"
   ]
  },
  {
   "cell_type": "code",
   "execution_count": 6,
   "id": "characteristic-chorus",
   "metadata": {},
   "outputs": [
    {
     "data": {
      "application/vnd.jupyter.widget-view+json": {
       "model_id": "dd4868c1209f4eeb90891c0dfe0dad9a",
       "version_major": 2,
       "version_minor": 0
      },
      "text/plain": [
       "JupyterFigures(children=(_JupyterFigureTab(children=(JupyterFigure(children=(Canvas(toolbar=Toolbar(toolitems=…"
      ]
     },
     "metadata": {},
     "output_type": "display_data"
    }
   ],
   "source": [
    "#create a plot that updates\n",
    "\n",
    "auto_plot_view\n",
    "\n",
    "#right click on the [2] on the left and select \"Create New View for Output to move this widget\""
   ]
  },
  {
   "cell_type": "code",
   "execution_count": 7,
   "id": "narrow-variety",
   "metadata": {},
   "outputs": [],
   "source": [
    "from bluesky.plans import count\n",
    "from bluesky.callbacks import LiveTable\n",
    "\n",
    "lt = LiveTable([sissy2_keithley0])\n",
    "RE.subscribe(lt)\n",
    "\n",
    "sissy2_keithley0.wait_for_connection()\n",
    "\n"
   ]
  },
  {
   "cell_type": "code",
   "execution_count": 8,
   "id": "sticky-museum",
   "metadata": {},
   "outputs": [
    {
     "name": "stdout",
     "output_type": "stream",
     "text": [
      "\n",
      "\n",
      "+-----------+------------+---------------------------+\n",
      "|   seq_num |       time | sissy2_keithley0_readback |\n",
      "+-----------+------------+---------------------------+\n",
      "\n",
      "\n",
      "+-----------+------------+---------------------------+\n",
      "|   seq_num |       time | sissy2_keithley0_readback |\n",
      "+-----------+------------+---------------------------+\n",
      "|         1 | 07:59:40.0 |        0.0000000000000011 |\n",
      "|         1 | 07:59:40.0 |        0.0000000000000011 |\n",
      "|         2 | 07:59:40.3 |        0.0000000000000012 |\n",
      "|         2 | 07:59:40.3 |        0.0000000000000012 |\n",
      "|         3 | 07:59:40.8 |        0.0000000000000012 |\n",
      "|         3 | 07:59:40.8 |        0.0000000000000012 |\n",
      "|         4 | 07:59:41.3 |        0.0000000000000010 |\n",
      "|         4 | 07:59:41.3 |        0.0000000000000010 |\n",
      "|         5 | 07:59:41.8 |        0.0000000000000013 |\n",
      "|         5 | 07:59:41.8 |        0.0000000000000013 |\n",
      "|         6 | 07:59:42.3 |        0.0000000000000009 |\n",
      "|         6 | 07:59:42.3 |        0.0000000000000009 |\n",
      "|         7 | 07:59:42.8 |        0.0000000000000007 |\n",
      "|         7 | 07:59:42.8 |        0.0000000000000007 |\n",
      "|         8 | 07:59:43.3 |        0.0000000000000009 |\n",
      "|         8 | 07:59:43.3 |        0.0000000000000009 |\n",
      "|         9 | 07:59:43.8 |        0.0000000000000010 |\n",
      "|         9 | 07:59:43.8 |        0.0000000000000010 |\n",
      "|        10 | 07:59:44.3 |        0.0000000000000011 |\n",
      "|        10 | 07:59:44.3 |        0.0000000000000011 |\n",
      "+-----------+------------+---------------------------+\n",
      "generator count ['1bcf3753'] (scan num: 3)\n",
      "\n",
      "\n",
      "+-----------+------------+---------------------------+\n",
      "generator count ['1bcf3753'] (scan num: 3)\n",
      "\n",
      "\n"
     ]
    },
    {
     "data": {
      "text/plain": [
       "('1bcf3753-6eba-46f3-a40c-2666edc1c65c',)"
      ]
     },
     "execution_count": 8,
     "metadata": {},
     "output_type": "execute_result"
    }
   ],
   "source": [
    "RE(count([sissy2_keithley0], num=10, delay=0.5), purpose='testing', operator='Will')"
   ]
  },
  {
   "cell_type": "code",
   "execution_count": null,
   "id": "adverse-eight",
   "metadata": {},
   "outputs": [],
   "source": [
    "\n",
    "\n"
   ]
  },
  {
   "cell_type": "code",
   "execution_count": null,
   "id": "built-gravity",
   "metadata": {},
   "outputs": [],
   "source": []
  }
 ],
 "metadata": {
  "kernelspec": {
   "display_name": "Python 3",
   "language": "python",
   "name": "python3"
  },
  "language_info": {
   "codemirror_mode": {
    "name": "ipython",
    "version": 3
   },
   "file_extension": ".py",
   "mimetype": "text/x-python",
   "name": "python",
   "nbconvert_exporter": "python",
   "pygments_lexer": "ipython3",
   "version": "3.7.3"
  }
 },
 "nbformat": 4,
 "nbformat_minor": 5
}
