{
 "cells": [
  {
   "cell_type": "markdown",
   "id": "continental-above",
   "metadata": {},
   "source": [
    "**Using flyscan**\n"
   ]
  },
  {
   "cell_type": "code",
   "execution_count": 1,
   "id": "international-bosnia",
   "metadata": {},
   "outputs": [
    {
     "data": {
      "text/plain": [
       "1"
      ]
     },
     "execution_count": 1,
     "metadata": {},
     "output_type": "execute_result"
    }
   ],
   "source": [
    "from bluesky import RunEngine\n",
    "\n",
    "RE = RunEngine({})\n",
    "\n",
    "from bluesky.callbacks.best_effort import BestEffortCallback\n",
    "bec = BestEffortCallback()\n",
    "\n",
    "# Send all metadata/data captured to the BestEffortCallback.\n",
    "RE.subscribe(bec)\n",
    "\n",
    "#Get the databroker https://gist.github.com/untzag/53281819709b1058c7708a250cbd3676\n",
    "from databroker.v2 import temp\n",
    "db = temp()\n",
    "\n",
    "# Insert all metadata/data captured into db.\n",
    "RE.subscribe(db.v1.insert)"
   ]
  },
  {
   "cell_type": "code",
   "execution_count": 2,
   "id": "finished-cleveland",
   "metadata": {},
   "outputs": [],
   "source": [
    "from bessyii.plans.flying import flyscan\n",
    "from bessyii_devices.flyer import MyMotor, MyDetector, BasicFlyer\n",
    "\n",
    "\n",
    "#Flyer Sim\n",
    "my_det = MyDetector('EMILEL:TestIOC00:', name='my_det')\n",
    "fdev = MyMotor('EMILEL:TestIOC00:', name='fdev')\n",
    "fdev.wait_for_connection()"
   ]
  },
  {
   "cell_type": "code",
   "execution_count": 3,
   "id": "consolidated-conflict",
   "metadata": {},
   "outputs": [
    {
     "data": {
      "text/plain": [
       "<function bessyii.plans.flying.flyscan(detectors, flyer, start=None, stop=None, vel=0.2, delay=0.2, *, md=None)>"
      ]
     },
     "execution_count": 3,
     "metadata": {},
     "output_type": "execute_result"
    }
   ],
   "source": [
    "#The flyscan plan has the following arguments\n",
    "flyscan\n"
   ]
  },
  {
   "cell_type": "code",
   "execution_count": 4,
   "id": "center-retailer",
   "metadata": {},
   "outputs": [
    {
     "name": "stdout",
     "output_type": "stream",
     "text": [
      "\n",
      "\n",
      "Transient Scan ID: 1     Time: 2021-09-03 13:58:16\n",
      "Persistent Unique Scan ID: '7d08c764-ece6-4523-88e4-bf9a6f91ea52'\n",
      "we've be asked to complete\n",
      "New stream: 'primary'\n",
      "+-----------+------------+------------+--------------+\n",
      "|   seq_num |       time |   fdev_pos | my_det_count |\n",
      "+-----------+------------+------------+--------------+\n",
      "|         1 | 13:58:16.4 |          1 |        46404 |\n",
      "|         2 | 13:58:16.7 |          1 |        48166 |\n",
      "|         3 | 13:58:17.0 |          1 |        49310 |\n",
      "|         4 | 13:58:17.2 |          1 |        50977 |\n",
      "|         5 | 13:58:17.4 |          1 |        52052 |\n",
      "|         6 | 13:58:17.7 |          1 |        53096 |\n",
      "|         7 | 13:58:17.9 |          1 |        54600 |\n",
      "|         8 | 13:58:18.1 |          1 |        55560 |\n",
      "|         9 | 13:58:18.4 |          1 |        56930 |\n",
      "|        10 | 13:58:18.6 |          1 |        57796 |\n",
      "|        11 | 13:58:18.8 |          1 |        58622 |\n",
      "|        12 | 13:58:19.1 |          1 |        59783 |\n",
      "|        13 | 13:58:19.3 |          1 |        60503 |\n",
      "|        14 | 13:58:19.6 |          1 |        61178 |\n",
      "|        15 | 13:58:19.8 |          1 |        62106 |\n",
      "|        16 | 13:58:20.0 |          1 |        62666 |\n",
      "|        17 | 13:58:20.3 |          1 |        63417 |\n",
      "|        18 | 13:58:20.5 |          1 |        63856 |\n",
      "|        19 | 13:58:20.7 |          1 |        64245 |\n",
      "|        20 | 13:58:21.0 |          1 |        64734 |\n",
      "|        21 | 13:58:21.2 |          1 |        64997 |\n",
      "|        22 | 13:58:21.5 |          2 |        65208 |\n",
      "|        23 | 13:58:21.7 |          2 |        65426 |\n",
      "|        24 | 13:58:21.9 |          2 |        65507 |\n",
      "|        25 | 13:58:22.1 |          2 |        65535 |\n",
      "|        26 | 13:58:22.4 |          2 |        65480 |\n",
      "|        27 | 13:58:22.6 |          2 |        65377 |\n",
      "|        28 | 13:58:22.8 |          2 |        65222 |\n",
      "|        29 | 13:58:23.1 |          2 |        64893 |\n",
      "|        30 | 13:58:23.3 |          2 |        64609 |\n",
      "|        31 | 13:58:23.5 |          2 |        64274 |\n",
      "|        32 | 13:58:23.8 |          2 |        63677 |\n",
      "|        33 | 13:58:24.0 |          2 |        63217 |\n",
      "|        34 | 13:58:24.2 |          2 |        62709 |\n",
      "|        35 | 13:58:24.5 |          2 |        61857 |\n",
      "|        36 | 13:58:24.7 |          2 |        61230 |\n",
      "|        37 | 13:58:24.9 |          2 |        60558 |\n",
      "|        38 | 13:58:25.2 |          2 |        59842 |\n",
      "|        39 | 13:58:25.4 |          2 |        58686 |\n",
      "|        40 | 13:58:25.6 |          2 |        57863 |\n",
      "|        41 | 13:58:25.9 |          2 |        57001 |\n",
      "+-----------+------------+------------+--------------+\n",
      "generator flycount ['7d08c764'] (scan num: 1)\n",
      "\n",
      "\n",
      "\n"
     ]
    },
    {
     "data": {
      "text/plain": [
       "('7d08c764-ece6-4523-88e4-bf9a6f91ea52',)"
      ]
     },
     "execution_count": 4,
     "metadata": {},
     "output_type": "execute_result"
    },
    {
     "data": {
      "image/png": "[encoded data removed]",
      "text/plain": [
       "<Figure size 360x360 with 1 Axes>"
      ]
     },
     "metadata": {
      "needs_background": "light"
     },
     "output_type": "display_data"
    }
   ],
   "source": [
    "#Lets call it with a simulated device and simulated detector\n",
    "\n",
    "#We can also call this method on the ue48_pgm device\n",
    "\n",
    "RE(flyscan([my_det],fdev,1.0,2.0,0.1))"
   ]
  },
  {
   "cell_type": "code",
   "execution_count": null,
   "id": "compact-trunk",
   "metadata": {},
   "outputs": [],
   "source": []
  }
 ],
 "metadata": {
  "kernelspec": {
   "display_name": "Python 3",
   "language": "python",
   "name": "python3"
  },
  "language_info": {
   "codemirror_mode": {
    "name": "ipython",
    "version": 3
   },
   "file_extension": ".py",
   "mimetype": "text/x-python",
   "name": "python",
   "nbconvert_exporter": "python",
   "pygments_lexer": "ipython3",
   "version": "3.7.3"
  }
 },
 "nbformat": 4,
 "nbformat_minor": 5
}
