{
 "cells": [
  {
   "cell_type": "markdown",
   "id": "painful-borough",
   "metadata": {},
   "source": [
    "**Simulating Manipulator Control**\n",
    "\n",
    "We want to simulate the way that we will interact with the manipulator to practice:\n",
    "\n",
    "1. Moving it in x,y,z,r1,r2 space\n",
    "2. Saving the current position in a dictionary by name\n",
    "3. Moving to that position by name\n",
    "\n"
   ]
  },
  {
   "cell_type": "code",
   "execution_count": 1,
   "id": "measured-reception",
   "metadata": {},
   "outputs": [],
   "source": [
    "from ophyd import Device, PVPositioner\n",
    "from ophyd.sim import FakeEpicsSignal, FakeEpicsSignalRO\n",
    "from ophyd import Component as Cpt"
   ]
  },
  {
   "cell_type": "code",
   "execution_count": 45,
   "id": "popular-vanilla",
   "metadata": {},
   "outputs": [],
   "source": [
    "from ophyd.sim import SynAxis\n",
    "\n",
    "class ManipulatorSim(Device):\n",
    "    \n",
    "    x = Cpt(SynAxis,name='x')\n",
    "    y = Cpt(SynAxis,name='y')\n",
    "    z = Cpt(SynAxis,name='z')\n",
    "    r1 = Cpt(SynAxis,name='r1')\n",
    "    r2 = Cpt(SynAxis,name='r2')\n",
    "    \n",
    "    pos_dict={}\n",
    "    pos_dict['zero'] = [0,0,0,0,0]\n",
    "    \n",
    "    \n",
    "    #save the current position with a particular name\n",
    "    def save(self, name):\n",
    "        \n",
    "        self.pos_dict[name]= [self.x.readback.get(),\n",
    "                              self.y.readback.get(),\n",
    "                              self.z.readback.get(),\n",
    "                              self.r1.readback.get(),\n",
    "                              self.r2.readback.get()]\n",
    "    \n",
    "    def move_to(self, name):\n",
    "        \n",
    "        if name in self.pos_dict:\n",
    "            \n",
    "            self.x.setpoint.set(self.pos_dict[name][0])\n",
    "            self.y.setpoint.set(self.pos_dict[name][1])\n",
    "            self.z.setpoint.set(self.pos_dict[name][2])\n",
    "            self.r1.setpoint.set(self.pos_dict[name][3])\n",
    "            self.r2.setpoint.set(self.pos_dict[name][4])\n",
    "            print(f'Manipulator at {name}')\n",
    "        else:\n",
    "            \n",
    "            print(f'No position names {name} in position list')\n",
    "\n",
    "es_man_sim = ManipulatorSim(name = 'es_man_sim')\n",
    "ana_man_sim = ManipulatorSim(name = 'ana_man_sim')\n",
    "\n"
   ]
  },
  {
   "cell_type": "code",
   "execution_count": 46,
   "id": "polish-statement",
   "metadata": {},
   "outputs": [
    {
     "data": {
      "text/plain": [
       "Status(obj=_SetpointSignal(name='es_man_sim_r2_setpoint', parent='es_man_sim_r2', value=2.0, timestamp=1634148490.4573238), done=False, success=False)"
      ]
     },
     "execution_count": 46,
     "metadata": {},
     "output_type": "execute_result"
    }
   ],
   "source": [
    "# Now lets move the manipulator somewhere\n",
    "\n",
    "es_man_sim.x.setpoint.set(2)\n",
    "es_man_sim.y.setpoint.set(5)\n",
    "es_man_sim.z.setpoint.set(2)\n",
    "es_man_sim.r1.setpoint.set(1)\n",
    "es_man_sim.r2.setpoint.set(2)"
   ]
  },
  {
   "cell_type": "code",
   "execution_count": 47,
   "id": "double-senior",
   "metadata": {},
   "outputs": [],
   "source": [
    "# We can call the save method to name this position\n",
    "es_man_sim.save('sampleA')"
   ]
  },
  {
   "cell_type": "code",
   "execution_count": 48,
   "id": "original-bangladesh",
   "metadata": {},
   "outputs": [
    {
     "name": "stdout",
     "output_type": "stream",
     "text": [
      "No position names home in position list\n"
     ]
    }
   ],
   "source": [
    "es_man_sim.move_to('home')"
   ]
  },
  {
   "cell_type": "code",
   "execution_count": 49,
   "id": "assigned-indianapolis",
   "metadata": {},
   "outputs": [
    {
     "name": "stdout",
     "output_type": "stream",
     "text": [
      "Manipulator at zero\n"
     ]
    }
   ],
   "source": [
    "es_man_sim.move_to('zero')"
   ]
  },
  {
   "cell_type": "code",
   "execution_count": 50,
   "id": "above-surfing",
   "metadata": {},
   "outputs": [
    {
     "name": "stdout",
     "output_type": "stream",
     "text": [
      "Manipulator at sampleA\n"
     ]
    }
   ],
   "source": [
    "#Now we can move to that sample position again\n",
    "es_man_sim.move_to('sampleA')"
   ]
  },
  {
   "cell_type": "code",
   "execution_count": 51,
   "id": "editorial-sound",
   "metadata": {},
   "outputs": [
    {
     "data": {
      "text/plain": [
       "OrderedDict([('es_man_sim_x', {'value': 2.0, 'timestamp': 1634148496.5284214}),\n",
       "             ('es_man_sim_x_setpoint',\n",
       "              {'value': 2.0, 'timestamp': 1634148496.5272636}),\n",
       "             ('es_man_sim_y', {'value': 5.0, 'timestamp': 1634148496.5290315}),\n",
       "             ('es_man_sim_y_setpoint',\n",
       "              {'value': 5.0, 'timestamp': 1634148496.528246}),\n",
       "             ('es_man_sim_z', {'value': 2.0, 'timestamp': 1634148496.5297337}),\n",
       "             ('es_man_sim_z_setpoint',\n",
       "              {'value': 2.0, 'timestamp': 1634148496.5294464}),\n",
       "             ('es_man_sim_r1',\n",
       "              {'value': 1.0, 'timestamp': 1634148496.5306563}),\n",
       "             ('es_man_sim_r1_setpoint',\n",
       "              {'value': 1.0, 'timestamp': 1634148496.5302124}),\n",
       "             ('es_man_sim_r2', {'value': 2.0, 'timestamp': 1634148496.53143}),\n",
       "             ('es_man_sim_r2_setpoint',\n",
       "              {'value': 2.0, 'timestamp': 1634148496.5308244})])"
      ]
     },
     "execution_count": 51,
     "metadata": {},
     "output_type": "execute_result"
    }
   ],
   "source": [
    "es_man_sim.read()"
   ]
  },
  {
   "cell_type": "code",
   "execution_count": 56,
   "id": "sudden-brighton",
   "metadata": {},
   "outputs": [
    {
     "data": {
      "text/plain": [
       "1"
      ]
     },
     "execution_count": 56,
     "metadata": {},
     "output_type": "execute_result"
    }
   ],
   "source": [
    "#If we want to move the motors in parallel we need to do somthing different. \n",
    "\n",
    "from bluesky import RunEngine\n",
    "\n",
    "RE = RunEngine({})\n",
    "\n",
    "from bluesky.callbacks.best_effort import BestEffortCallback\n",
    "bec = BestEffortCallback()\n",
    "\n",
    "# Send all metadata/data captured to the BestEffortCallback.\n",
    "RE.subscribe(bec)\n",
    "\n",
    "#Get the databroker https://gist.github.com/untzag/53281819709b1058c7708a250cbd3676\n",
    "from databroker.v2 import temp\n",
    "db = temp()\n",
    "\n",
    "# Insert all metadata/data captured into db.\n",
    "RE.subscribe(db.v1.insert)\n",
    "\n"
   ]
  },
  {
   "cell_type": "code",
   "execution_count": 57,
   "id": "interesting-conducting",
   "metadata": {},
   "outputs": [
    {
     "data": {
      "text/plain": [
       "()"
      ]
     },
     "execution_count": 57,
     "metadata": {},
     "output_type": "execute_result"
    }
   ],
   "source": [
    "#We can move things in parallel with the Bluesky stub plan mv\n",
    "\n",
    "from bluesky.plan_stubs import mv\n",
    "\n",
    "RE(mv(es_man_sim.x, 2.0, es_man_sim.y, 1.0))"
   ]
  },
  {
   "cell_type": "code",
   "execution_count": 58,
   "id": "constitutional-comedy",
   "metadata": {},
   "outputs": [
    {
     "data": {
      "text/plain": [
       "OrderedDict([('es_man_sim_x', {'value': 2.0, 'timestamp': 1634148763.295282}),\n",
       "             ('es_man_sim_x_setpoint',\n",
       "              {'value': 2.0, 'timestamp': 1634148763.2949808}),\n",
       "             ('es_man_sim_y', {'value': 1.0, 'timestamp': 1634148763.29574}),\n",
       "             ('es_man_sim_y_setpoint',\n",
       "              {'value': 1.0, 'timestamp': 1634148763.2954946}),\n",
       "             ('es_man_sim_z', {'value': 2.0, 'timestamp': 1634148496.5297337}),\n",
       "             ('es_man_sim_z_setpoint',\n",
       "              {'value': 2.0, 'timestamp': 1634148496.5294464}),\n",
       "             ('es_man_sim_r1',\n",
       "              {'value': 1.0, 'timestamp': 1634148496.5306563}),\n",
       "             ('es_man_sim_r1_setpoint',\n",
       "              {'value': 1.0, 'timestamp': 1634148496.5302124}),\n",
       "             ('es_man_sim_r2', {'value': 2.0, 'timestamp': 1634148496.53143}),\n",
       "             ('es_man_sim_r2_setpoint',\n",
       "              {'value': 2.0, 'timestamp': 1634148496.5308244})])"
      ]
     },
     "execution_count": 58,
     "metadata": {},
     "output_type": "execute_result"
    }
   ],
   "source": [
    "es_man_sim.read()"
   ]
  },
  {
   "cell_type": "code",
   "execution_count": 63,
   "id": "operating-habitat",
   "metadata": {},
   "outputs": [],
   "source": [
    "#Let's make a plan that moves things in parallel\n",
    "\n",
    "def move_man_to_sample(man, name, *, md=None):\n",
    "    \n",
    "    if name in man.pos_dict:\n",
    "        yield from mv(man.x,man.pos_dict[name][0],\n",
    "                      man.y,man.pos_dict[name][1],\n",
    "                      man.z,man.pos_dict[name][2],\n",
    "                      man.r1,man.pos_dict[name][3],\n",
    "                      man.r2,man.pos_dict[name][4])\n",
    "    \n",
    "    else:\n",
    "        print(f'No position names {name} in position list for this manipulator')\n",
    "        "
   ]
  },
  {
   "cell_type": "code",
   "execution_count": 64,
   "id": "compact-upset",
   "metadata": {},
   "outputs": [
    {
     "data": {
      "text/plain": [
       "()"
      ]
     },
     "execution_count": 64,
     "metadata": {},
     "output_type": "execute_result"
    }
   ],
   "source": [
    "RE(move_man_to_sample(es_man_sim,'zero'))"
   ]
  },
  {
   "cell_type": "code",
   "execution_count": null,
   "id": "hollow-overall",
   "metadata": {},
   "outputs": [],
   "source": [
    "# What are some benifits and problems with our implementation?"
   ]
  },
  {
   "cell_type": "code",
   "execution_count": null,
   "id": "touched-premium",
   "metadata": {},
   "outputs": [],
   "source": []
  }
 ],
 "metadata": {
  "kernelspec": {
   "display_name": "Python 3",
   "language": "python",
   "name": "python3"
  },
  "language_info": {
   "codemirror_mode": {
    "name": "ipython",
    "version": 3
   },
   "file_extension": ".py",
   "mimetype": "text/x-python",
   "name": "python",
   "nbconvert_exporter": "python",
   "pygments_lexer": "ipython3",
   "version": "3.7.3"
  }
 },
 "nbformat": 4,
 "nbformat_minor": 5
}
