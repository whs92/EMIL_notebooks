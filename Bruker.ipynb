{
 "cells": [
  {
   "cell_type": "code",
   "execution_count": 34,
   "id": "defensive-export",
   "metadata": {},
   "outputs": [],
   "source": [
    "# Notebook investigating using the mca\n",
    "#https://github.com/bluesky/ophyd/blob/master/ophyd/mca.py"
   ]
  },
  {
   "cell_type": "code",
   "execution_count": 9,
   "id": "incoming-reasoning",
   "metadata": {},
   "outputs": [],
   "source": [
    "from ophyd.mca import EpicsMCA, ROI\n",
    "\n",
    "from ophyd import EpicsSignal, EpicsSignalRO\n",
    "from ophyd import status, DeviceStatus, Signal\n",
    "from ophyd.status import SubscriptionStatus, MoveStatus, AndStatus \n",
    "from collections import OrderedDict\n",
    "\n",
    "from ophyd.device import (Device, Component as Cpt, DynamicDeviceComponent as DDC,\n",
    "                     Kind)\n",
    "\n",
    "class ROI(Device):\n",
    "\n",
    "    # 'name' is not an allowed attribute\n",
    "    label = Cpt(EpicsSignal, 'NM', lazy=True, kind='config')\n",
    "    count = Cpt(EpicsSignalRO, '', lazy=True)\n",
    "    net_count = Cpt(EpicsSignalRO, 'N', lazy=True, kind='config')\n",
    "    preset_count = Cpt(EpicsSignal, 'P', lazy=True, kind='config')\n",
    "    is_preset = Cpt(EpicsSignal, 'IP', lazy=True, kind='config')\n",
    "    bkgnd_chans = Cpt(EpicsSignal, 'BG', lazy=True, kind='config')\n",
    "    hi_chan = Cpt(EpicsSignal, 'HI', lazy=True, kind='config')\n",
    "    lo_chan = Cpt(EpicsSignal, 'LO', lazy=True, kind='config')\n",
    "\n",
    "    def __init__(self, prefix, *, read_attrs=None, configuration_attrs=None,\n",
    "                 name=None, parent=None, **kwargs):\n",
    "\n",
    "        super().__init__(prefix, read_attrs=read_attrs,\n",
    "                         configuration_attrs=configuration_attrs,\n",
    "                         name=name, parent=parent, **kwargs)\n",
    "\n",
    "\n",
    "def add_rois(range_, **kwargs):\n",
    "    '''Add one or more ROIs to an MCA instance\n",
    "       Parameters\n",
    "       ----------\n",
    "       range_ : sequence of ints\n",
    "           Must be be in the set [0,31]\n",
    "       By default, an EpicsMCA is initialized with all 32 rois.\n",
    "       These provide the following Components as EpicsSignals (N=[0,31]):\n",
    "       EpicsMCA.rois.roiN.(label,count,net_count,preset_cnt, is_preset,\n",
    "       bkgnd_chans, hi_chan, lo_chan)\n",
    "       '''\n",
    "    defn = OrderedDict()\n",
    "\n",
    "    for roi in range_:\n",
    "        if not (0 <= roi < 32):\n",
    "            raise ValueError('roi must be in the set [0,31]')\n",
    "\n",
    "        attr = 'roi{}'.format(roi)\n",
    "        defn[attr] = (ROI, '.R{}'.format(roi), kwargs)\n",
    "\n",
    "    return defn\n",
    "\n",
    "\n",
    "class MyEpicsMCA(EpicsMCA):\n",
    "    \n",
    "    erase_start = Cpt(EpicsSignal, 'EraseStart', kind='omitted')\n",
    "    acquiring = Cpt(EpicsSignal, '.ACQG', kind='omitted')\n",
    "    rois = DDC(add_rois(range(0, 32)))\n",
    "    \n",
    "    #calibration\n",
    "    offset = Cpt(EpicsSignalRO, '.CALO',kind='config')\n",
    "    slope = Cpt(EpicsSignalRO, '.CALS',kind='config')\n",
    "    quadratic = Cpt(EpicsSignalRO, '.CALQ',kind='config')\n",
    "    egu = Cpt(EpicsSignalRO, '.EGU',kind='config')\n",
    "    two_theta = Cpt(EpicsSignalRO, '.TTH',kind='config')\n",
    "    \n",
    "    def trigger(self):\n",
    "        \n",
    "        \n",
    "        #variable used as an event flag\n",
    "        acquisition_status = False\n",
    "           \n",
    "        def acquisition_started(status):\n",
    "            nonlocal acquisition_status #Define as nonlocal as we want to modify it\n",
    "            acquisition_status = True\n",
    "                \n",
    "        def check_value(*, old_value, value, **kwargs):\n",
    "            #Return True when the acquisition is complete, False otherwise.\n",
    "                                   \n",
    "            if not acquisition_status:  #But only report done if acquisition was already started\n",
    "                \n",
    "                return False\n",
    "                       \n",
    "            return (value == 0)\n",
    "        \n",
    "        # create the status with SubscriptionStatus that add's a callback to check_value.\n",
    "        sta_cnt = SubscriptionStatus(self.acquiring, check_value, run=False)\n",
    "         \n",
    "        # Start the acquisition\n",
    "        sta_acq = self.erase_start.set(1)\n",
    "        \n",
    "        sta_acq.add_callback(acquisition_started)\n",
    "        \n",
    "        stat = AndStatus(sta_cnt, sta_acq)\n",
    "        \n",
    "        return stat\n",
    "\n",
    "\n",
    "bruker = MyEpicsMCA('SISSY2EX:SDD00:mca1',name='bruker')\n",
    "bruker.wait_for_connection()"
   ]
  },
  {
   "cell_type": "code",
   "execution_count": 2,
   "id": "collective-shore",
   "metadata": {},
   "outputs": [
    {
     "name": "stdout",
     "output_type": "stream",
     "text": [
      "AndStatus(done=False, success=False) has started at 18:49:06\n",
      "AndStatus(done=True, success=True) has completed at 18:49:10\n"
     ]
    }
   ],
   "source": [
    "# Test to see if the status object that gets returned from trigger changes correctly when finished\n",
    "    \n",
    "from datetime import datetime\n",
    "now = datetime.now().strftime(\"%H:%M:%S\")\n",
    "\n",
    "def callback(status):\n",
    "    \n",
    "    now = datetime.now().strftime(\"%H:%M:%S\")\n",
    "    print(f\"{status} has completed at {now}\")\n",
    "\n",
    "bruker.enable_wait.set('Disable')\n",
    "status=bruker.trigger()\n",
    "now = datetime.now().strftime(\"%H:%M:%S\")\n",
    "print(f\"{status} has started at {now}\"  )\n",
    "status.add_callback(callback)"
   ]
  },
  {
   "cell_type": "markdown",
   "id": "static-lobby",
   "metadata": {},
   "source": [
    "Now we will try with the Run Engine\n"
   ]
  },
  {
   "cell_type": "code",
   "execution_count": 3,
   "id": "applied-restaurant",
   "metadata": {},
   "outputs": [
    {
     "data": {
      "text/plain": [
       "1"
      ]
     },
     "execution_count": 3,
     "metadata": {},
     "output_type": "execute_result"
    }
   ],
   "source": [
    "from bluesky import RunEngine\n",
    "\n",
    "RE = RunEngine({})\n",
    "\n",
    "from bluesky.callbacks.best_effort import BestEffortCallback\n",
    "bec = BestEffortCallback()\n",
    "\n",
    "# Send all metadata/data captured to the BestEffortCallback.\n",
    "RE.subscribe(bec)\n",
    "\n",
    "#Get the databroker https://gist.github.com/untzag/53281819709b1058c7708a250cbd3676\n",
    "from databroker.v2 import temp\n",
    "db = temp()\n",
    "\n",
    "# Insert all metadata/data captured into db.\n",
    "RE.subscribe(db.v1.insert)\n"
   ]
  },
  {
   "cell_type": "code",
   "execution_count": 68,
   "id": "banner-ebony",
   "metadata": {},
   "outputs": [
    {
     "name": "stdout",
     "output_type": "stream",
     "text": [
      "\n",
      "\n",
      "Transient Scan ID: 4     Time: 2021-10-01 19:08:36\n",
      "Persistent Unique Scan ID: '37e27f35-c76a-4218-ae7b-864057a2d7a4'\n",
      "New stream: 'primary'\n",
      "+-----------+------------+------------+------------------------+\n",
      "|   seq_num |       time |      motor | bruker_rois_roi0_count |\n",
      "+-----------+------------+------------+------------------------+\n",
      "|         1 | 19:08:38.0 |     -1.000 |                 224.00 |\n",
      "|         2 | 19:08:40.4 |     -0.500 |                  36.00 |\n",
      "|         3 | 19:08:41.9 |      0.000 |                  28.00 |\n",
      "|         4 | 19:08:43.3 |      0.500 |                  25.00 |\n",
      "|         5 | 19:08:45.9 |      1.000 |                  57.00 |\n",
      "+-----------+------------+------------+------------------------+\n",
      "generator scan ['37e27f35'] (scan num: 4)\n",
      "\n",
      "\n",
      "\n"
     ]
    },
    {
     "data": {
      "text/plain": [
       "('37e27f35-c76a-4218-ae7b-864057a2d7a4',)"
      ]
     },
     "execution_count": 68,
     "metadata": {},
     "output_type": "execute_result"
    },
    {
     "data": {
      "image/png": "[encoded data removed]",
      "text/plain": [
       "<Figure size 360x360 with 1 Axes>"
      ]
     },
     "metadata": {
      "needs_background": "light"
     },
     "output_type": "display_data"
    }
   ],
   "source": [
    "from bluesky.plans import count,scan\n",
    "from ophyd.sim import motor\n",
    "\n",
    "#We can define which counts we want to display. For now they are in counts and not energy, this is easy to change later\n",
    "bruker.rois.roi0.count.kind = 'hinted'\n",
    "RE(scan([bruker],motor,-1,1,5))"
   ]
  },
  {
   "cell_type": "code",
   "execution_count": 69,
   "id": "sublime-growth",
   "metadata": {},
   "outputs": [],
   "source": [
    "run = db[-1]"
   ]
  },
  {
   "cell_type": "code",
   "execution_count": 70,
   "id": "vocational-wells",
   "metadata": {},
   "outputs": [
    {
     "name": "stdout",
     "output_type": "stream",
     "text": [
      "-538.6077270507812 23.31550407409668 0.0 Wills 10.0\n"
     ]
    }
   ],
   "source": [
    "# Practice getting the config parameters from the dataset\n",
    "\n",
    "offset = run.primary.metadata['descriptors'][0]['configuration']['bruker']['data']['bruker_offset']\n",
    "slope = run.primary.metadata['descriptors'][0]['configuration']['bruker']['data']['bruker_slope']\n",
    "quadratic = run.primary.metadata['descriptors'][0]['configuration']['bruker']['data']['bruker_quadratic']\n",
    "egu = run.primary.metadata['descriptors'][0]['configuration']['bruker']['data']['bruker_egu']\n",
    "two_theta = run.primary.metadata['descriptors'][0]['configuration']['bruker']['data']['bruker_two_theta']\n",
    "\n",
    "print(offset,slope,quadratic,egu,two_theta)"
   ]
  },
  {
   "cell_type": "code",
   "execution_count": 76,
   "id": "established-voltage",
   "metadata": {},
   "outputs": [
    {
     "data": {
      "text/plain": [
       "[<matplotlib.lines.Line2D at 0x7fa1d8432710>]"
      ]
     },
     "execution_count": 76,
     "metadata": {},
     "output_type": "execute_result"
    },
    {
     "data": {
      "image/png": "[encoded data removed]",
      "text/plain": [
       "<Figure size 432x288 with 1 Axes>"
      ]
     },
     "metadata": {
      "needs_background": "light"
     },
     "output_type": "display_data"
    }
   ],
   "source": [
    "#Practice plotting\n",
    "\n",
    "data = run.primary.read()\n",
    "counts = data.bruker_rois_roi0_count\n",
    "motor_pos = data.motor\n",
    "\n",
    "import matplotlib.pyplot as plt\n",
    "\n",
    "\n",
    "plt.plot(motor_pos,counts)\n",
    "\n"
   ]
  },
  {
   "cell_type": "code",
   "execution_count": 66,
   "id": "lined-clerk",
   "metadata": {},
   "outputs": [
    {
     "data": {
      "text/plain": [
       "[<matplotlib.lines.Line2D at 0x7fa1d86576a0>]"
      ]
     },
     "execution_count": 66,
     "metadata": {},
     "output_type": "execute_result"
    },
    {
     "data": {
      "image/png": "[encoded data removed]",
      "text/plain": [
       "<Figure size 432x288 with 1 Axes>"
      ]
     },
     "metadata": {
      "needs_background": "light"
     },
     "output_type": "display_data"
    }
   ],
   "source": [
    "# And practice getting the spectra for a particular entry\n",
    "\n",
    "import matplotlib.pyplot as plt\n",
    "\n",
    "spectrum_at_first_sample = data.bruker_spectrum.values[0]\n",
    "plt.plot(spectrum_at_first_sample)"
   ]
  },
  {
   "cell_type": "code",
   "execution_count": null,
   "id": "noble-brooks",
   "metadata": {},
   "outputs": [],
   "source": []
  }
 ],
 "metadata": {
  "kernelspec": {
   "display_name": "Python 3",
   "language": "python",
   "name": "python3"
  },
  "language_info": {
   "codemirror_mode": {
    "name": "ipython",
    "version": 3
   },
   "file_extension": ".py",
   "mimetype": "text/x-python",
   "name": "python",
   "nbconvert_exporter": "python",
   "pygments_lexer": "ipython3",
   "version": "3.7.3"
  }
 },
 "nbformat": 4,
 "nbformat_minor": 5
}
