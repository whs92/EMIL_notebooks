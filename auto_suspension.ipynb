{
 "cells": [
  {
   "cell_type": "code",
   "execution_count": 5,
   "id": "wooden-court",
   "metadata": {},
   "outputs": [],
   "source": [
    "from bluesky import RunEngine\n",
    "from bluesky import Msg\n",
    "from bluesky.plan_stubs import *\n",
    "from IPython import get_ipython\n",
    "user_ns = get_ipython().user_ns\n",
    "from bluesky.preprocessors import SupplementalData\n",
    "import bluesky.plans\n",
    "from databroker import Broker\n",
    "from epics import caget, caput, cainfo\n",
    "from bluesky.plans import count, scan, list_grid_scan, grid_scan\n",
    "from bluesky.preprocessors import SupplementalData\n",
    "from ophyd.sim import det1, det2, det3, det4, motor1, motor2, motor, det\n",
    "\n",
    "RE = RunEngine({})\n",
    "\n",
    "from bluesky.callbacks.best_effort import BestEffortCallback\n",
    "bec = BestEffortCallback()\n",
    "\n",
    "# Send all metadata/data captured to the BestEffortCallback.\n",
    "RE.subscribe(bec)\n",
    "\n",
    "#Get the databroker https://gist.github.com/untzag/53281819709b1058c7708a250cbd3676\n",
    "from databroker.v2 import temp\n",
    "db = temp()\n",
    "\n",
    "# Insert all metadata/data captured into db.\n",
    "RE.subscribe(db.v1.insert)\n",
    "\n",
    "from tqdm import tqdm\n",
    "from bluesky.utils import ProgressBarManager, ProgressBar\n",
    "\n",
    "#from bluesky.utils.jupyter import pbar_manager_for_notebook\n",
    "#RE.waiting_hook = pbar_manager_for_notebook()\n",
    "\n",
    "#ProgressBarManager(delay_draw=0.1)\n",
    "#RE.subscribe(watch)\n",
    "\n",
    "#RE.waiting_hook = ProgressBarManager()\n",
    "\n",
    "#RE.waiting_hook = ProgressBa\n",
    "#sd = SupplementalData()\n",
    "#RE.preprocessors.append(sd)\n"
   ]
  },
  {
   "cell_type": "code",
   "execution_count": 6,
   "id": "boring-guarantee",
   "metadata": {},
   "outputs": [],
   "source": [
    "from bluesky.plans import count\n",
    "from bluesky.preprocessors import pchain\n",
    "from bluesky.plan_stubs import pause\n",
    "from ophyd.sim import det"
   ]
  },
  {
   "cell_type": "code",
   "execution_count": 6,
   "id": "tropical-prime",
   "metadata": {},
   "outputs": [
    {
     "name": "stdout",
     "output_type": "stream",
     "text": [
      "\n",
      "\n",
      "Transient Scan ID: 1     Time: 2021-07-22 12:22:24\n",
      "Persistent Unique Scan ID: 'd5896594-6726-44b8-98c7-9c230d1c8954'\n",
      "New stream: 'primary'\n",
      "+-----------+------------+------------+------------+\n",
      "|   seq_num |       time |      motor |       det3 |\n",
      "+-----------+------------+------------+------------+\n",
      "|         1 | 12:22:24.7 |    -10.000 |      1.213 |\n",
      "|         2 | 12:22:24.8 |     -8.571 |      1.213 |\n",
      "|         3 | 12:22:24.8 |     -7.143 |      1.213 |\n",
      "|         4 | 12:22:24.9 |     -5.714 |      1.213 |\n",
      "|         5 | 12:22:24.9 |     -4.286 |      1.213 |\n",
      "|         6 | 12:22:24.9 |     -2.857 |      1.213 |\n",
      "|         7 | 12:22:25.0 |     -1.429 |      1.213 |\n",
      "|         8 | 12:22:25.0 |      0.000 |      1.213 |\n",
      "|         9 | 12:22:25.1 |      1.429 |      1.213 |\n",
      "|        10 | 12:22:25.1 |      2.857 |      1.213 |\n",
      "|        11 | 12:22:25.1 |      4.286 |      1.213 |\n",
      "|        12 | 12:22:25.2 |      5.714 |      1.213 |\n",
      "|        13 | 12:22:25.2 |      7.143 |      1.213 |\n",
      "|        14 | 12:22:25.2 |      8.571 |      1.213 |\n",
      "|        15 | 12:22:25.3 |     10.000 |      1.213 |\n",
      "+-----------+------------+------------+------------+\n",
      "generator scan ['d5896594'] (scan num: 1)\n",
      "\n",
      "\n",
      "\n"
     ]
    },
    {
     "data": {
      "text/plain": [
       "('d5896594-6726-44b8-98c7-9c230d1c8954',)"
      ]
     },
     "execution_count": 6,
     "metadata": {},
     "output_type": "execute_result"
    },
    {
     "data": {
      "image/png": "[encoded data removed]",
      "text/plain": [
       "<Figure size 360x360 with 1 Axes>"
      ]
     },
     "metadata": {
      "needs_background": "light"
     },
     "output_type": "display_data"
    }
   ],
   "source": [
    "RE(scan([det3], motor, -10, 10, 15))"
   ]
  },
  {
   "cell_type": "code",
   "execution_count": 7,
   "id": "disturbed-rebel",
   "metadata": {},
   "outputs": [],
   "source": [
    "from ophyd import PVPositioner, EpicsSignal, EpicsSignalRO, Device, DerivedSignal\n",
    "from ophyd import Component as Cpt\n",
    "\n",
    "\n",
    "class Ring(Device):\n",
    "    \n",
    "    \"\"\"\n",
    "    Object to query machine BESSY II Beam status.   \n",
    "    \"\"\"\n",
    "        \n",
    "    current  = Cpt(EpicsSignalRO,      'current',   kind=\"hinted\", labels={\"detectors\"})\n",
    "    lifetime = Cpt(EpicsSignalRO,      'lt10',      kind=\"hinted\"                      )\n",
    "    \n",
    "    \n",
    "class RingInj(Device):\n",
    "    next_inj_cdwn = Cpt(EpicsSignalRO,  'estCntDwnS', kind=\"hinted\")\n",
    "    inj_b_current = Cpt(EpicsSignalRO,  'rdCurrentB', kind=\"hinted\")\n",
    "    "
   ]
  },
  {
   "cell_type": "code",
   "execution_count": 8,
   "id": "pending-turner",
   "metadata": {},
   "outputs": [],
   "source": [
    "bessy2 = Ring('MDIZ3T5G:', name='ring')\n",
    "bessy2_parameter = RingInj('TOPUPCC:', name='bessy2_parameter')"
   ]
  },
  {
   "cell_type": "code",
   "execution_count": 9,
   "id": "distant-algeria",
   "metadata": {},
   "outputs": [
    {
     "data": {
      "text/plain": [
       "297.6451546"
      ]
     },
     "execution_count": 9,
     "metadata": {},
     "output_type": "execute_result"
    }
   ],
   "source": [
    "bessy2.current.get()"
   ]
  },
  {
   "cell_type": "code",
   "execution_count": 4,
   "id": "pointed-double",
   "metadata": {},
   "outputs": [
    {
     "ename": "NameError",
     "evalue": "name 'bessy2' is not defined",
     "output_type": "error",
     "traceback": [
      "\u001b[0;31m---------------------------------------------------------------------------\u001b[0m",
      "\u001b[0;31mNameError\u001b[0m                                 Traceback (most recent call last)",
      "\u001b[0;32m<ipython-input-4-4d9fe1c5a65c>\u001b[0m in \u001b[0;36m<module>\u001b[0;34m\u001b[0m\n\u001b[0;32m----> 1\u001b[0;31m \u001b[0mbessy2\u001b[0m\u001b[0;34m.\u001b[0m\u001b[0mdescribe\u001b[0m\u001b[0;34m(\u001b[0m\u001b[0;34m)\u001b[0m\u001b[0;34m\u001b[0m\u001b[0;34m\u001b[0m\u001b[0m\n\u001b[0m",
      "\u001b[0;31mNameError\u001b[0m: name 'bessy2' is not defined"
     ]
    }
   ],
   "source": [
    "bessy2.describe()"
   ]
  },
  {
   "cell_type": "code",
   "execution_count": 28,
   "id": "possible-costa",
   "metadata": {},
   "outputs": [],
   "source": [
    "bessy_current = bessy2.current.get()"
   ]
  },
  {
   "cell_type": "code",
   "execution_count": null,
   "id": "introductory-truck",
   "metadata": {},
   "outputs": [],
   "source": []
  },
  {
   "cell_type": "code",
   "execution_count": 38,
   "id": "intended-serve",
   "metadata": {},
   "outputs": [],
   "source": [
    "ring_current1  = EpicsSignalRO('MDIZ3T5G:current',name='ring_current')"
   ]
  },
  {
   "cell_type": "code",
   "execution_count": 39,
   "id": "blond-sugar",
   "metadata": {},
   "outputs": [
    {
     "data": {
      "text/plain": [
       "EpicsSignalRO(read_pv='MDIZ3T5G:current', name='ring_current', timestamp=1626951796.795559, auto_monitor=False, string=False)"
      ]
     },
     "execution_count": 39,
     "metadata": {},
     "output_type": "execute_result"
    }
   ],
   "source": [
    "ring_current1"
   ]
  },
  {
   "cell_type": "code",
   "execution_count": 39,
   "id": "romantic-times",
   "metadata": {},
   "outputs": [],
   "source": [
    "ring_next_inj_cdn = EpicsSignalRO('TOPUPCC:log11',kind=\"hinted\",name='ring_next_inj_cdn')"
   ]
  },
  {
   "cell_type": "code",
   "execution_count": 40,
   "id": "foreign-message",
   "metadata": {},
   "outputs": [
    {
     "data": {
      "text/plain": [
       "'TopUp Off'"
      ]
     },
     "execution_count": 40,
     "metadata": {},
     "output_type": "execute_result"
    }
   ],
   "source": [
    "ring_next_inj_cdn.get()"
   ]
  },
  {
   "cell_type": "code",
   "execution_count": 77,
   "id": "lovely-blowing",
   "metadata": {},
   "outputs": [],
   "source": [
    "ring_next_inj_cdn_some = EpicsSignalRO('TOPUPCC:rdCurrentB',kind=\"hinted\",name='ring_next_inj_cdn_some')"
   ]
  },
  {
   "cell_type": "code",
   "execution_count": 85,
   "id": "american-spell",
   "metadata": {},
   "outputs": [
    {
     "data": {
      "text/plain": [
       "2.7646589027013038"
      ]
     },
     "execution_count": 85,
     "metadata": {},
     "output_type": "execute_result"
    },
    {
     "name": "stdout",
     "output_type": "stream",
     "text": [
      "Suspender SuspendFloor(EpicsSignalRO(read_pv='MDIZ3T5G:current', name='ring_current', parent='ring', value=297.9618265, timestamp=1626955550.05606, auto_monitor=False, string=False), sleep=0, pre_plan=None, post_plan=None,tripped_message=) reports a return to nominal conditions. Will sleep for 0 seconds and then release suspension at 2021-07-22 14:05:50.\n",
      "Suspender SuspendFloor(EpicsSignalRO(read_pv='MDIZ3T5G:current', name='ring_current', parent='ring', value=297.9061963, timestamp=1626955709.586916, auto_monitor=False, string=False), sleep=0, pre_plan=None, post_plan=None,tripped_message=) reports a return to nominal conditions. Will sleep for 0 seconds and then release suspension at 2021-07-22 14:08:29.\n",
      "Suspender SuspendFloor(EpicsSignalRO(read_pv='MDIZ3T5G:current', name='ring_current', parent='ring', value=297.9614279, timestamp=1626955870.212667, auto_monitor=False, string=False), sleep=0, pre_plan=None, post_plan=None,tripped_message=) reports a return to nominal conditions. Will sleep for 0 seconds and then release suspension at 2021-07-22 14:11:10.\n"
     ]
    }
   ],
   "source": [
    "ring_next_inj_cdn_some.get()"
   ]
  },
  {
   "cell_type": "code",
   "execution_count": 35,
   "id": "durable-gabriel",
   "metadata": {},
   "outputs": [
    {
     "data": {
      "text/plain": [
       "float"
      ]
     },
     "execution_count": 35,
     "metadata": {},
     "output_type": "execute_result"
    }
   ],
   "source": [
    "type(bessy_current)"
   ]
  },
  {
   "cell_type": "code",
   "execution_count": 4,
   "id": "determined-vinyl",
   "metadata": {},
   "outputs": [
    {
     "name": "stdout",
     "output_type": "stream",
     "text": [
      "current time:- 2021-07-22 13:21:23.833859\n"
     ]
    }
   ],
   "source": [
    "import datetime;\n",
    " \n",
    "\n",
    "timestamp = datetime.datetime.now()\n",
    "print(\"current time:-\", timestamp)"
   ]
  },
  {
   "cell_type": "code",
   "execution_count": 40,
   "id": "contemporary-fitness",
   "metadata": {},
   "outputs": [
    {
     "name": "stdout",
     "output_type": "stream",
     "text": [
      "Bessy current at 2021-07-22 13:09:47.045287: EpicsSignalRO(read_pv='MDIZ3T5G:current', name='ring_current', parent='ring', value=297.0623994, timestamp=1626951796.795559, auto_monitor=False, string=False)\n",
      "Bessy current at 2021-07-22 13:09:48.046694: EpicsSignalRO(read_pv='MDIZ3T5G:current', name='ring_current', parent='ring', value=297.0623994, timestamp=1626951796.795559, auto_monitor=False, string=False)\n",
      "Bessy current at 2021-07-22 13:09:49.048035: EpicsSignalRO(read_pv='MDIZ3T5G:current', name='ring_current', parent='ring', value=297.0623994, timestamp=1626951796.795559, auto_monitor=False, string=False)\n",
      "Bessy current at 2021-07-22 13:09:50.049372: EpicsSignalRO(read_pv='MDIZ3T5G:current', name='ring_current', parent='ring', value=297.0623994, timestamp=1626951796.795559, auto_monitor=False, string=False)\n",
      "Bessy current at 2021-07-22 13:09:51.050694: EpicsSignalRO(read_pv='MDIZ3T5G:current', name='ring_current', parent='ring', value=297.0623994, timestamp=1626951796.795559, auto_monitor=False, string=False)\n",
      "Bessy current at 2021-07-22 13:09:52.052065: EpicsSignalRO(read_pv='MDIZ3T5G:current', name='ring_current', parent='ring', value=297.0623994, timestamp=1626951796.795559, auto_monitor=False, string=False)\n",
      "Bessy current at 2021-07-22 13:09:53.053321: EpicsSignalRO(read_pv='MDIZ3T5G:current', name='ring_current', parent='ring', value=297.0623994, timestamp=1626951796.795559, auto_monitor=False, string=False)\n",
      "Bessy current at 2021-07-22 13:09:54.054629: EpicsSignalRO(read_pv='MDIZ3T5G:current', name='ring_current', parent='ring', value=297.0623994, timestamp=1626951796.795559, auto_monitor=False, string=False)\n",
      "Bessy current at 2021-07-22 13:09:55.055996: EpicsSignalRO(read_pv='MDIZ3T5G:current', name='ring_current', parent='ring', value=297.0623994, timestamp=1626951796.795559, auto_monitor=False, string=False)\n",
      "Bessy current at 2021-07-22 13:09:56.057294: EpicsSignalRO(read_pv='MDIZ3T5G:current', name='ring_current', parent='ring', value=297.0623994, timestamp=1626951796.795559, auto_monitor=False, string=False)\n"
     ]
    }
   ],
   "source": [
    "import time\n",
    "for i in range(10):\n",
    "    time.sleep(1)\n",
    "    timestamp = datetime.datetime.now()\n",
    "    bessy_current = bessy2.current\n",
    "    print(f'Bessy current at {timestamp}: {bessy_current}')"
   ]
  },
  {
   "cell_type": "code",
   "execution_count": 5,
   "id": "current-yukon",
   "metadata": {},
   "outputs": [],
   "source": [
    "from ophyd import EpicsSignal\n",
    "from bluesky.suspenders import SuspendFloor\n",
    "\n",
    "beam_current = bessy2.current\n",
    "sus = SuspendFloor(beam_current, 297.3, resume_thresh=297.35)\n",
    "RE.install_suspender(sus)"
   ]
  },
  {
   "cell_type": "code",
   "execution_count": 9,
   "id": "intellectual-february",
   "metadata": {},
   "outputs": [
    {
     "ename": "RuntimeError",
     "evalue": "The RunEngine is in a paused state",
     "output_type": "error",
     "traceback": [
      "\u001b[0;31m---------------------------------------------------------------------------\u001b[0m",
      "\u001b[0;31mRuntimeError\u001b[0m                              Traceback (most recent call last)",
      "\u001b[0;32m<ipython-input-9-1f83661eef8b>\u001b[0m in \u001b[0;36m<module>\u001b[0;34m\u001b[0m\n\u001b[0;32m----> 1\u001b[0;31m \u001b[0mRE\u001b[0m\u001b[0;34m(\u001b[0m\u001b[0mcount\u001b[0m\u001b[0;34m(\u001b[0m\u001b[0;34m[\u001b[0m\u001b[0mdet3\u001b[0m\u001b[0;34m]\u001b[0m\u001b[0;34m,\u001b[0m \u001b[0;36m100\u001b[0m\u001b[0;34m,\u001b[0m \u001b[0mdelay\u001b[0m \u001b[0;34m=\u001b[0m \u001b[0;36m2\u001b[0m\u001b[0;34m)\u001b[0m\u001b[0;34m)\u001b[0m\u001b[0;34m\u001b[0m\u001b[0;34m\u001b[0m\u001b[0m\n\u001b[0m",
      "\u001b[0;32m/opt/tljh/user/lib/python3.7/site-packages/bluesky/run_engine.py\u001b[0m in \u001b[0;36m__call__\u001b[0;34m(self, *args, **metadata_kw)\u001b[0m\n\u001b[1;32m    752\u001b[0m         \u001b[0;31m# If we are in the wrong state, raise.\u001b[0m\u001b[0;34m\u001b[0m\u001b[0;34m\u001b[0m\u001b[0;34m\u001b[0m\u001b[0m\n\u001b[1;32m    753\u001b[0m         \u001b[0;32mif\u001b[0m \u001b[0;32mnot\u001b[0m \u001b[0mself\u001b[0m\u001b[0;34m.\u001b[0m\u001b[0m_state\u001b[0m\u001b[0;34m.\u001b[0m\u001b[0mis_idle\u001b[0m\u001b[0;34m:\u001b[0m\u001b[0;34m\u001b[0m\u001b[0;34m\u001b[0m\u001b[0m\n\u001b[0;32m--> 754\u001b[0;31m             \u001b[0;32mraise\u001b[0m \u001b[0mRuntimeError\u001b[0m\u001b[0;34m(\u001b[0m\u001b[0;34m\"The RunEngine is in a %s state\"\u001b[0m \u001b[0;34m%\u001b[0m \u001b[0mself\u001b[0m\u001b[0;34m.\u001b[0m\u001b[0m_state\u001b[0m\u001b[0;34m)\u001b[0m\u001b[0;34m\u001b[0m\u001b[0;34m\u001b[0m\u001b[0m\n\u001b[0m\u001b[1;32m    755\u001b[0m \u001b[0;34m\u001b[0m\u001b[0m\n\u001b[1;32m    756\u001b[0m         \u001b[0mfuts\u001b[0m \u001b[0;34m=\u001b[0m \u001b[0;34m[\u001b[0m\u001b[0;34m]\u001b[0m\u001b[0;34m\u001b[0m\u001b[0;34m\u001b[0m\u001b[0m\n",
      "\u001b[0;31mRuntimeError\u001b[0m: The RunEngine is in a paused state"
     ]
    }
   ],
   "source": [
    "RE(count([det3], 100, delay = 2))"
   ]
  },
  {
   "cell_type": "code",
   "execution_count": null,
   "id": "passing-windows",
   "metadata": {},
   "outputs": [],
   "source": []
  },
  {
   "cell_type": "code",
   "execution_count": 99,
   "id": "broadband-pioneer",
   "metadata": {},
   "outputs": [
    {
     "name": "stdout",
     "output_type": "stream",
     "text": [
      "Stopping: running cleanup and marking exit_status as 'success'...\n",
      "+-----------+------------+------------+\n",
      "generator count ['e4a46588'] (scan num: 4)\n",
      "\n",
      "\n",
      "\n"
     ]
    },
    {
     "data": {
      "text/plain": [
       "('e4a46588-e8b8-4a49-aa01-424183b00554',)"
      ]
     },
     "execution_count": 99,
     "metadata": {},
     "output_type": "execute_result"
    }
   ],
   "source": [
    "RE.stop()"
   ]
  },
  {
   "cell_type": "code",
   "execution_count": 100,
   "id": "dependent-review",
   "metadata": {},
   "outputs": [],
   "source": [
    "RE.remove_suspender(sus)"
   ]
  },
  {
   "cell_type": "code",
   "execution_count": 98,
   "id": "loaded-possibility",
   "metadata": {},
   "outputs": [
    {
     "name": "stdout",
     "output_type": "stream",
     "text": [
      "\n",
      "\n",
      "Transient Scan ID: 4     Time: 2021-07-22 14:22:39\n",
      "Persistent Unique Scan ID: 'e4a46588-e8b8-4a49-aa01-424183b00554'\n",
      "New stream: 'primary'\n",
      "+-----------+------------+------------+\n",
      "|   seq_num |       time |       det3 |\n",
      "+-----------+------------+------------+\n",
      "|         1 | 14:22:39.9 |      1.213 |\n",
      "|         2 | 14:22:40.4 |      1.213 |\n",
      "|         3 | 14:22:40.9 |      1.213 |\n",
      "|         4 | 14:22:41.4 |      1.213 |\n",
      "|         5 | 14:22:41.9 |      1.213 |\n",
      "|         6 | 14:22:42.4 |      1.213 |\n",
      "A 'deferred pause' has been requested. The RunEngine will pause at the next checkpoint. To pause immediately, hit Ctrl+C again in the next 10 seconds.Deferred pause acknowledged. Continuing to checkpoint.\n",
      "\n",
      "trying a second time\n",
      "Pausing...\n"
     ]
    },
    {
     "ename": "RunEngineInterrupted",
     "evalue": "\nYour RunEngine is entering a paused state. These are your options for changing\nthe state of the RunEngine:\n\nRE.resume()    Resume the plan.\nRE.abort()     Perform cleanup, then kill plan. Mark exit_stats='aborted'.\nRE.stop()      Perform cleanup, then kill plan. Mark exit_status='success'.\nRE.halt()      Emergency Stop: Do not perform cleanup --- just stop.\n",
     "output_type": "error",
     "traceback": [
      "\u001b[0;31m---------------------------------------------------------------------------\u001b[0m",
      "\u001b[0;31mRunEngineInterrupted\u001b[0m                      Traceback (most recent call last)",
      "\u001b[0;32m<ipython-input-98-da2ab17cce24>\u001b[0m in \u001b[0;36m<module>\u001b[0;34m\u001b[0m\n\u001b[1;32m     12\u001b[0m \u001b[0mRE\u001b[0m\u001b[0;34m.\u001b[0m\u001b[0minstall_suspender\u001b[0m\u001b[0;34m(\u001b[0m\u001b[0msus\u001b[0m\u001b[0;34m)\u001b[0m\u001b[0;34m\u001b[0m\u001b[0;34m\u001b[0m\u001b[0m\n\u001b[1;32m     13\u001b[0m \u001b[0;34m\u001b[0m\u001b[0m\n\u001b[0;32m---> 14\u001b[0;31m \u001b[0mRE\u001b[0m\u001b[0;34m(\u001b[0m\u001b[0mcount\u001b[0m\u001b[0;34m(\u001b[0m\u001b[0;34m[\u001b[0m\u001b[0mdet3\u001b[0m\u001b[0;34m]\u001b[0m\u001b[0;34m,\u001b[0m \u001b[0;36m10000\u001b[0m\u001b[0;34m,\u001b[0m \u001b[0mdelay\u001b[0m \u001b[0;34m=\u001b[0m \u001b[0;36m0.5\u001b[0m\u001b[0;34m)\u001b[0m\u001b[0;34m)\u001b[0m\u001b[0;34m\u001b[0m\u001b[0;34m\u001b[0m\u001b[0m\n\u001b[0m",
      "\u001b[0;32m/opt/tljh/user/lib/python3.7/site-packages/bluesky/run_engine.py\u001b[0m in \u001b[0;36m__call__\u001b[0;34m(self, *args, **metadata_kw)\u001b[0m\n\u001b[1;32m    808\u001b[0m \u001b[0;34m\u001b[0m\u001b[0m\n\u001b[1;32m    809\u001b[0m         \u001b[0;32mif\u001b[0m \u001b[0mself\u001b[0m\u001b[0;34m.\u001b[0m\u001b[0m_interrupted\u001b[0m\u001b[0;34m:\u001b[0m\u001b[0;34m\u001b[0m\u001b[0;34m\u001b[0m\u001b[0m\n\u001b[0;32m--> 810\u001b[0;31m             \u001b[0;32mraise\u001b[0m \u001b[0mRunEngineInterrupted\u001b[0m\u001b[0;34m(\u001b[0m\u001b[0mself\u001b[0m\u001b[0;34m.\u001b[0m\u001b[0mpause_msg\u001b[0m\u001b[0;34m)\u001b[0m \u001b[0;32mfrom\u001b[0m \u001b[0;32mNone\u001b[0m\u001b[0;34m\u001b[0m\u001b[0;34m\u001b[0m\u001b[0m\n\u001b[0m\u001b[1;32m    811\u001b[0m \u001b[0;34m\u001b[0m\u001b[0m\n\u001b[1;32m    812\u001b[0m         \u001b[0;32mreturn\u001b[0m \u001b[0mtuple\u001b[0m\u001b[0;34m(\u001b[0m\u001b[0mself\u001b[0m\u001b[0;34m.\u001b[0m\u001b[0m_run_start_uids\u001b[0m\u001b[0;34m)\u001b[0m\u001b[0;34m\u001b[0m\u001b[0;34m\u001b[0m\u001b[0m\n",
      "\u001b[0;31mRunEngineInterrupted\u001b[0m: \nYour RunEngine is entering a paused state. These are your options for changing\nthe state of the RunEngine:\n\nRE.resume()    Resume the plan.\nRE.abort()     Perform cleanup, then kill plan. Mark exit_stats='aborted'.\nRE.stop()      Perform cleanup, then kill plan. Mark exit_status='success'.\nRE.halt()      Emergency Stop: Do not perform cleanup --- just stop.\n"
     ]
    },
    {
     "data": {
      "image/png": "[encoded data removed]",
      "text/plain": [
       "<Figure size 360x360 with 1 Axes>"
      ]
     },
     "metadata": {
      "needs_background": "light"
     },
     "output_type": "display_data"
    }
   ],
   "source": [
    "## focus on next injection in approx. time\n",
    "\n",
    "\n",
    "\n",
    "from ophyd import EpicsSignal\n",
    "from bluesky.suspenders import SuspendFloor\n",
    "\n",
    "beam_current = bessy2.current\n",
    "beam_next_inj = bessy2_parameter.next_inj_cdwn\n",
    "#beam_b_current = \n",
    "sus = SuspendFloor(beam_next_inj, 1, resume_thresh=1.1)\n",
    "RE.install_suspender(sus)\n",
    "\n",
    "RE(count([det3], 10000, delay = 0.5))"
   ]
  },
  {
   "cell_type": "code",
   "execution_count": null,
   "id": "prescribed-motivation",
   "metadata": {},
   "outputs": [],
   "source": []
  },
  {
   "cell_type": "code",
   "execution_count": 120,
   "id": "therapeutic-railway",
   "metadata": {},
   "outputs": [
    {
     "data": {
      "text/plain": [
       "array([0, 1, 2, 3, 4, 5, 6, 7, 8, 9])"
      ]
     },
     "execution_count": 120,
     "metadata": {},
     "output_type": "execute_result"
    }
   ],
   "source": [
    "import numpy as np\n",
    "\n",
    "array_test_list = []\n",
    "\n",
    "for i in range(10):\n",
    "    array_test_list.append(i)\n",
    "    #array_test = np.array(array_test_list.append(i))\n",
    "    \n",
    "array_test_list = np.array(array_test_list)\n",
    "array_test_list"
   ]
  },
  {
   "cell_type": "code",
   "execution_count": 122,
   "id": "angry-headline",
   "metadata": {},
   "outputs": [
    {
     "data": {
      "text/plain": [
       "150.0"
      ]
     },
     "execution_count": 122,
     "metadata": {},
     "output_type": "execute_result"
    }
   ],
   "source": [
    "(0.5*5*60)"
   ]
  },
  {
   "cell_type": "code",
   "execution_count": null,
   "id": "incorporate-browse",
   "metadata": {},
   "outputs": [],
   "source": [
    "counter_list"
   ]
  },
  {
   "cell_type": "code",
   "execution_count": 66,
   "id": "announced-exclusive",
   "metadata": {},
   "outputs": [
    {
     "name": "stdout",
     "output_type": "stream",
     "text": [
      "Bessy booster current = 0.0004218999252658673 inj time = 35.0 on 2021-07-22 17:41:14.408316\n",
      "Bessy booster current = 0.009892355185603238 inj time = 34.0 on 2021-07-22 17:41:14.915570\n",
      "Bessy booster current = 0.009892355185603238 inj time = 34.0 on 2021-07-22 17:41:15.431058\n",
      "Bessy booster current = 0.0023023294670688615 inj time = 33.0 on 2021-07-22 17:41:15.948745\n",
      "Bessy booster current = 0.0023023294670688615 inj time = 33.0 on 2021-07-22 17:41:16.471461\n",
      "Bessy booster current = -0.0022732054705403145 inj time = 32.0 on 2021-07-22 17:41:16.979700\n",
      "Bessy booster current = -0.0002372423411435287 inj time = 32.0 on 2021-07-22 17:41:17.493061\n",
      "Bessy booster current = 0.0020859983644484067 inj time = 31.0 on 2021-07-22 17:41:18.007979\n",
      "Bessy booster current = 0.004566559630699465 inj time = 31.0 on 2021-07-22 17:41:18.512885\n",
      "Bessy booster current = 0.005283204717820207 inj time = 30.0 on 2021-07-22 17:41:19.031343\n",
      "Bessy booster current = 0.004414255231300628 inj time = 30.0 on 2021-07-22 17:41:19.610636\n",
      "Bessy booster current = 0.004414255231300628 inj time = 29.0 on 2021-07-22 17:41:20.124788\n",
      "Bessy booster current = 0.004798488463543919 inj time = 29.0 on 2021-07-22 17:41:20.630505\n",
      "Bessy booster current = -0.0026351129892648456 inj time = 28.0 on 2021-07-22 17:41:21.152852\n",
      "Bessy booster current = -0.0026351129892648456 inj time = 28.0 on 2021-07-22 17:41:21.685547\n",
      "Bessy booster current = -0.001794483324245829 inj time = 27.0 on 2021-07-22 17:41:22.190224\n",
      "Bessy booster current = -0.0015164897337295938 inj time = 27.0 on 2021-07-22 17:41:22.703347\n",
      "Bessy booster current = -0.0015164897337295938 inj time = 26.0 on 2021-07-22 17:41:23.209362\n",
      "Bessy booster current = 0.004125798655923792 inj time = 25.0 on 2021-07-22 17:41:23.731684\n",
      "Bessy booster current = -0.0030601841889162235 inj time = 25.0 on 2021-07-22 17:41:24.248557\n",
      "Bessy booster current = -0.004284893910257289 inj time = 24.0 on 2021-07-22 17:41:24.764210\n",
      "Bessy booster current = -0.005625225665901657 inj time = 24.0 on 2021-07-22 17:41:25.272012\n",
      "Bessy booster current = -0.007437898539280475 inj time = 23.0 on 2021-07-22 17:41:25.788944\n",
      "Bessy booster current = -0.0004440441450721949 inj time = 23.0 on 2021-07-22 17:41:26.305361\n",
      "Bessy booster current = -0.0011906568056546663 inj time = 22.0 on 2021-07-22 17:41:26.816684\n",
      "Bessy booster current = -0.0011906568056546663 inj time = 22.0 on 2021-07-22 17:41:27.346858\n",
      "Bessy booster current = 0.0017678981277053224 inj time = 21.0 on 2021-07-22 17:41:27.875120\n",
      "Bessy booster current = 0.0017678981277053224 inj time = 21.0 on 2021-07-22 17:41:28.380179\n",
      "Bessy booster current = 0.003374877813578927 inj time = 20.0 on 2021-07-22 17:41:28.891919\n",
      "Bessy booster current = 0.003374877813578927 inj time = 20.0 on 2021-07-22 17:41:29.408875\n",
      "Bessy booster current = 0.009517136214008935 inj time = 19.0 on 2021-07-22 17:41:29.953213\n",
      "Bessy booster current = 0.009517136214008935 inj time = 19.0 on 2021-07-22 17:41:30.478454\n",
      "Bessy booster current = 0.0005266133843481301 inj time = 18.0 on 2021-07-22 17:41:30.998908\n",
      "Bessy booster current = 0.0005266133843481301 inj time = 18.0 on 2021-07-22 17:41:31.515827\n",
      "Bessy booster current = 0.0016717962633395035 inj time = 17.0 on 2021-07-22 17:41:32.034165\n",
      "Bessy booster current = 0.0016717962633395035 inj time = 17.0 on 2021-07-22 17:41:32.552694\n",
      "Bessy booster current = 0.002315327512230343 inj time = 16.0 on 2021-07-22 17:41:33.072550\n",
      "Bessy booster current = 0.002315327512230343 inj time = 16.0 on 2021-07-22 17:41:33.580188\n",
      "Bessy booster current = 0.00033980246011195217 inj time = 15.0 on 2021-07-22 17:41:34.092800\n",
      "Bessy booster current = 0.00033980246011195217 inj time = 15.0 on 2021-07-22 17:41:34.598171\n",
      "Bessy booster current = 0.0015731508686923977 inj time = 14.0 on 2021-07-22 17:41:35.105526\n",
      "Bessy booster current = 0.002222888429673606 inj time = 14.0 on 2021-07-22 17:41:35.611438\n",
      "Bessy booster current = 0.0009208488033290432 inj time = 13.0 on 2021-07-22 17:41:36.145375\n",
      "Bessy booster current = 0.0009208488033290432 inj time = 13.0 on 2021-07-22 17:41:36.670574\n",
      "Bessy booster current = -0.002791051081287143 inj time = 12.0 on 2021-07-22 17:41:37.177451\n",
      "Bessy booster current = -0.002791051081287143 inj time = 12.0 on 2021-07-22 17:41:37.693132\n",
      "Bessy booster current = -0.002888042602297969 inj time = 11.0 on 2021-07-22 17:41:38.199138\n",
      "Bessy booster current = -0.002888042602297969 inj time = 11.0 on 2021-07-22 17:41:38.706655\n",
      "Bessy booster current = 0.003276847668174397 inj time = 10.0 on 2021-07-22 17:41:39.214264\n",
      "Bessy booster current = 0.004256389124669409 inj time = 9.0 on 2021-07-22 17:41:39.726990\n",
      "Bessy booster current = -0.002819366376613494 inj time = 9.0 on 2021-07-22 17:41:40.242843\n",
      "Bessy booster current = -0.007643624541924876 inj time = 8.0 on 2021-07-22 17:41:40.747020\n",
      "Bessy booster current = -0.0035873678483096805 inj time = 8.0 on 2021-07-22 17:41:41.256121\n",
      "Bessy booster current = -0.0035873678483096805 inj time = 7.0 on 2021-07-22 17:41:41.784710\n",
      "Bessy booster current = -0.0043747563428868114 inj time = 7.0 on 2021-07-22 17:41:42.290425\n",
      "Bessy booster current = -0.0043747563428868114 inj time = 6.0 on 2021-07-22 17:41:42.804564\n",
      "Bessy booster current = 0.0012789502326246843 inj time = 6.0 on 2021-07-22 17:41:43.316290\n",
      "Bessy booster current = 0.005189643353087138 inj time = 5.0 on 2021-07-22 17:41:43.831502\n",
      "Bessy booster current = 0.005189643353087138 inj time = 5.0 on 2021-07-22 17:41:44.336887\n",
      "Bessy booster current = 0.001985070791273624 inj time = 4.0 on 2021-07-22 17:41:44.852789\n",
      "Bessy booster current = 0.003057446140936282 inj time = 4.0 on 2021-07-22 17:41:45.367502\n",
      "Bessy booster current = 0.004268306322115756 inj time = 3.0 on 2021-07-22 17:41:45.876867\n",
      "Bessy booster current = 0.004268306322115756 inj time = 3.0 on 2021-07-22 17:41:46.394045\n",
      "Bessy booster current = 0.0024150136810674027 inj time = 2.0 on 2021-07-22 17:41:46.900109\n",
      "Bessy booster current = 0.0024150136810674027 inj time = 2.0 on 2021-07-22 17:41:47.411821\n",
      "Bessy booster current = 2.4961672316798436 inj time = 1.0 on 2021-07-22 17:41:47.916595\n",
      "Bessy booster current = 2.4961672316798436 inj time = 1.0 on 2021-07-22 17:41:48.436895\n",
      "Bessy booster current = 2.6235541582147635 inj time = 0.0 on 2021-07-22 17:41:48.958423\n",
      "Bessy booster current = 2.632389691492735 inj time = 0.0 on 2021-07-22 17:41:49.482962\n",
      "Bessy booster current = 2.5046544705731892 inj time = 0.0 on 2021-07-22 17:41:49.994840\n",
      "Bessy booster current = 2.5046544705731892 inj time = 0.0 on 2021-07-22 17:41:50.504390\n",
      "Bessy booster current = 2.699156707718392 inj time = 0.0 on 2021-07-22 17:41:51.016774\n",
      "Bessy booster current = 2.699156707718392 inj time = 118.0 on 2021-07-22 17:41:51.532243\n",
      "Bessy booster current = 2.6999461452393776 inj time = 117.0 on 2021-07-22 17:41:52.046516\n",
      "Bessy booster current = 2.6999461452393776 inj time = 117.0 on 2021-07-22 17:41:52.553206\n",
      "Bessy booster current = -0.0019998425991060373 inj time = 116.0 on 2021-07-22 17:41:53.075746\n",
      "Bessy booster current = -0.002559478913379168 inj time = 116.0 on 2021-07-22 17:41:53.585088\n",
      "Bessy booster current = -0.0038366896863566563 inj time = 115.0 on 2021-07-22 17:41:54.092111\n",
      "Bessy booster current = -0.013462139159255955 inj time = 115.0 on 2021-07-22 17:41:54.608487\n",
      "Bessy booster current = -0.0015487587666853514 inj time = 114.0 on 2021-07-22 17:41:55.118541\n",
      "Bessy booster current = -0.0015487587666853514 inj time = 114.0 on 2021-07-22 17:41:55.624334\n",
      "Bessy booster current = -0.0008615777281708314 inj time = 113.0 on 2021-07-22 17:41:56.129362\n",
      "Bessy booster current = -0.0008418683089403346 inj time = 113.0 on 2021-07-22 17:41:56.652449\n",
      "Bessy booster current = -0.0008418683089403346 inj time = 112.0 on 2021-07-22 17:41:57.171147\n",
      "Bessy booster current = 0.0006297110870288848 inj time = 112.0 on 2021-07-22 17:41:57.687837\n",
      "Bessy booster current = 0.0006297110870288848 inj time = 111.0 on 2021-07-22 17:41:58.193438\n",
      "Bessy booster current = 0.001523635943259851 inj time = 111.0 on 2021-07-22 17:41:58.710861\n",
      "Bessy booster current = 0.0019123957914170958 inj time = 110.0 on 2021-07-22 17:41:59.228856\n",
      "Bessy booster current = 0.00036040975719088737 inj time = 109.0 on 2021-07-22 17:41:59.744899\n",
      "Bessy booster current = 0.00036040975719088737 inj time = 109.0 on 2021-07-22 17:42:00.261538\n",
      "Bessy booster current = -0.001422165371051498 inj time = 108.0 on 2021-07-22 17:42:00.770578\n",
      "Bessy booster current = -0.001422165371051498 inj time = 108.0 on 2021-07-22 17:42:01.286614\n",
      "Bessy booster current = -0.0005755707690887311 inj time = 107.0 on 2021-07-22 17:42:01.801633\n",
      "Bessy booster current = -0.004298421662161534 inj time = 107.0 on 2021-07-22 17:42:02.310635\n",
      "Bessy booster current = -0.0029538841847634723 inj time = 106.0 on 2021-07-22 17:42:02.817525\n",
      "Bessy booster current = -0.0019586153484854162 inj time = 106.0 on 2021-07-22 17:42:03.323651\n",
      "Bessy booster current = 0.002224431768251301 inj time = 105.0 on 2021-07-22 17:42:03.834105\n",
      "Bessy booster current = 0.002224431768251301 inj time = 105.0 on 2021-07-22 17:42:04.341542\n",
      "Bessy booster current = -4.62887996651451e-05 inj time = 104.0 on 2021-07-22 17:42:04.868166\n",
      "Bessy booster current = -4.62887996651451e-05 inj time = 104.0 on 2021-07-22 17:42:05.379820\n",
      "Bessy booster current = 0.007233928980168993 inj time = 103.0 on 2021-07-22 17:42:05.893427\n",
      "Bessy booster current = 0.007226385165556253 inj time = 103.0 on 2021-07-22 17:42:06.412274\n",
      "Bessy booster current = -0.0010793159270189572 inj time = 102.0 on 2021-07-22 17:42:06.918147\n",
      "Bessy booster current = -0.003209165256973248 inj time = 102.0 on 2021-07-22 17:42:07.432011\n",
      "Bessy booster current = -0.00828620565402099 inj time = 101.0 on 2021-07-22 17:42:07.936673\n",
      "Bessy booster current = -0.007379788736177836 inj time = 101.0 on 2021-07-22 17:42:08.441555\n",
      "Bessy booster current = -0.002474922005630195 inj time = 100.0 on 2021-07-22 17:42:08.954561\n",
      "Bessy booster current = -0.002474922005630195 inj time = 100.0 on 2021-07-22 17:42:09.474529\n",
      "Bessy booster current = -0.006453188397284311 inj time = 99.0 on 2021-07-22 17:42:10.005554\n",
      "Bessy booster current = -0.006453188397284311 inj time = 99.0 on 2021-07-22 17:42:10.509296\n",
      "Bessy booster current = -0.004028512053381233 inj time = 98.0 on 2021-07-22 17:42:11.015123\n",
      "Bessy booster current = -0.004028512053381233 inj time = 98.0 on 2021-07-22 17:42:11.546110\n",
      "Bessy booster current = -0.0009403351051974571 inj time = 97.0 on 2021-07-22 17:42:12.071315\n",
      "Bessy booster current = -0.0007504378889109362 inj time = 97.0 on 2021-07-22 17:42:12.597343\n",
      "Bessy booster current = -0.0007504378889109362 inj time = 96.0 on 2021-07-22 17:42:13.102519\n",
      "Bessy booster current = -0.001517133569604312 inj time = 96.0 on 2021-07-22 17:42:13.609549\n",
      "Bessy booster current = 0.0019669690491698893 inj time = 95.0 on 2021-07-22 17:42:14.122043\n",
      "Bessy booster current = 0.0019669690491698893 inj time = 95.0 on 2021-07-22 17:42:14.630995\n",
      "Bessy booster current = 0.0009356656127488955 inj time = 94.0 on 2021-07-22 17:42:15.139819\n",
      "Bessy booster current = 0.0009356656127488955 inj time = 94.0 on 2021-07-22 17:42:15.644690\n",
      "Bessy booster current = -0.004574933900518786 inj time = 93.0 on 2021-07-22 17:42:16.151274\n",
      "Bessy booster current = -0.0020026164464339007 inj time = 93.0 on 2021-07-22 17:42:16.681314\n",
      "Bessy booster current = -0.003136462518279204 inj time = 92.0 on 2021-07-22 17:42:17.186423\n",
      "Bessy booster current = -0.004179562372212757 inj time = 92.0 on 2021-07-22 17:42:17.704408\n",
      "Bessy booster current = -0.002289399464023255 inj time = 91.0 on 2021-07-22 17:42:18.215182\n",
      "Bessy booster current = -0.002289399464023255 inj time = 90.0 on 2021-07-22 17:42:18.763957\n",
      "Bessy booster current = -0.003741887380203198 inj time = 90.0 on 2021-07-22 17:42:19.270994\n",
      "Bessy booster current = -0.008132319203607748 inj time = 89.0 on 2021-07-22 17:42:19.776753\n",
      "Bessy booster current = -0.004699749176578741 inj time = 89.0 on 2021-07-22 17:42:20.290415\n",
      "Bessy booster current = 0.001459241511861109 inj time = 88.0 on 2021-07-22 17:42:20.796534\n",
      "Bessy booster current = 0.006326607917830421 inj time = 88.0 on 2021-07-22 17:42:21.306706\n",
      "Bessy booster current = 0.003282642543590247 inj time = 87.0 on 2021-07-22 17:42:21.812376\n",
      "Bessy booster current = -0.00240083418376702 inj time = 87.0 on 2021-07-22 17:42:22.317463\n",
      "Bessy booster current = -0.003684455228479211 inj time = 86.0 on 2021-07-22 17:42:22.826281\n",
      "Bessy booster current = -0.003684455228479211 inj time = 86.0 on 2021-07-22 17:42:23.332990\n",
      "Bessy booster current = -0.000849433896574429 inj time = 85.0 on 2021-07-22 17:42:23.843399\n",
      "Bessy booster current = -0.000849433896574429 inj time = 85.0 on 2021-07-22 17:42:24.351411\n",
      "Bessy booster current = 0.0007903581726513846 inj time = 84.0 on 2021-07-22 17:42:24.867290\n",
      "Bessy booster current = 0.0007903581726513846 inj time = 84.0 on 2021-07-22 17:42:25.374345\n",
      "Bessy booster current = -0.005370894556417399 inj time = 83.0 on 2021-07-22 17:42:25.880413\n",
      "Bessy booster current = -0.005370894556417399 inj time = 83.0 on 2021-07-22 17:42:26.386461\n",
      "Bessy booster current = -0.0021244905522762323 inj time = 82.0 on 2021-07-22 17:42:26.894949\n",
      "Bessy booster current = -0.0021244905522762323 inj time = 82.0 on 2021-07-22 17:42:27.403626\n",
      "Bessy booster current = 0.0028376628305794432 inj time = 81.0 on 2021-07-22 17:42:27.914007\n",
      "Bessy booster current = 0.0028376628305794432 inj time = 81.0 on 2021-07-22 17:42:28.431900\n",
      "Bessy booster current = 0.002183432601244456 inj time = 80.0 on 2021-07-22 17:42:28.948016\n",
      "Bessy booster current = 0.002183432601244456 inj time = 80.0 on 2021-07-22 17:42:29.471080\n",
      "Bessy booster current = 0.004871254638090985 inj time = 79.0 on 2021-07-22 17:42:29.977314\n",
      "Bessy booster current = 0.004871254638090985 inj time = 79.0 on 2021-07-22 17:42:30.491139\n",
      "Bessy booster current = 0.002547431548124618 inj time = 78.0 on 2021-07-22 17:42:30.996178\n",
      "Bessy booster current = 0.002547431548124618 inj time = 78.0 on 2021-07-22 17:42:31.511441\n",
      "Bessy booster current = -0.007891831337792272 inj time = 77.0 on 2021-07-22 17:42:32.044919\n",
      "Bessy booster current = -0.006663637252339885 inj time = 77.0 on 2021-07-22 17:42:32.549561\n",
      "Bessy booster current = -0.004103880636629883 inj time = 76.0 on 2021-07-22 17:42:33.074954\n",
      "Bessy booster current = -0.0028419092395814234 inj time = 76.0 on 2021-07-22 17:42:33.580113\n",
      "Bessy booster current = -0.0028419092395814234 inj time = 75.0 on 2021-07-22 17:42:34.097109\n",
      "Bessy booster current = -0.003684582420066923 inj time = 75.0 on 2021-07-22 17:42:34.607658\n",
      "Bessy booster current = -0.003684582420066923 inj time = 74.0 on 2021-07-22 17:42:35.116298\n",
      "Bessy booster current = -0.011077248613338267 inj time = 74.0 on 2021-07-22 17:42:35.621521\n",
      "Bessy booster current = -0.004563169790834723 inj time = 73.0 on 2021-07-22 17:42:36.132662\n",
      "Bessy booster current = 0.006970461277015648 inj time = 73.0 on 2021-07-22 17:42:36.648971\n",
      "Bessy booster current = -0.004945366698866402 inj time = 72.0 on 2021-07-22 17:42:37.154166\n",
      "Bessy booster current = -0.004945366698866402 inj time = 72.0 on 2021-07-22 17:42:37.687524\n",
      "Bessy booster current = 0.00529802085017394 inj time = 71.0 on 2021-07-22 17:42:38.202840\n",
      "Bessy booster current = 0.0026630725553846986 inj time = 71.0 on 2021-07-22 17:42:38.710386\n",
      "Bessy booster current = 0.0026630725553846986 inj time = 70.0 on 2021-07-22 17:42:39.226619\n",
      "Bessy booster current = -0.003367713366620839 inj time = 69.0 on 2021-07-22 17:42:39.742065\n",
      "Bessy booster current = 0.0007145937775939054 inj time = 69.0 on 2021-07-22 17:42:40.269594\n",
      "Bessy booster current = 0.0007145937775939054 inj time = 68.0 on 2021-07-22 17:42:40.786387\n",
      "Bessy booster current = -0.003231506023444286 inj time = 68.0 on 2021-07-22 17:42:41.303157\n",
      "Bessy booster current = -0.003231506023444286 inj time = 67.0 on 2021-07-22 17:42:41.825530\n",
      "Bessy booster current = -0.004373279311248576 inj time = 67.0 on 2021-07-22 17:42:42.343475\n",
      "Bessy booster current = -9.43716956323731e-05 inj time = 66.0 on 2021-07-22 17:42:42.861465\n",
      "Bessy booster current = -9.43716956323731e-05 inj time = 66.0 on 2021-07-22 17:42:43.367729\n",
      "Bessy booster current = 0.003942353629776043 inj time = 65.0 on 2021-07-22 17:42:43.887313\n",
      "Bessy booster current = 0.003942353629776043 inj time = 65.0 on 2021-07-22 17:42:44.393144\n",
      "Bessy booster current = -0.002998636561540374 inj time = 64.0 on 2021-07-22 17:42:44.911149\n",
      "Bessy booster current = -0.002998636561540374 inj time = 64.0 on 2021-07-22 17:42:45.426883\n",
      "Bessy booster current = 0.0041156577119425865 inj time = 63.0 on 2021-07-22 17:42:45.932336\n",
      "Bessy booster current = 0.0041156577119425865 inj time = 63.0 on 2021-07-22 17:42:46.444054\n",
      "Bessy booster current = 3.2373220767573097e-05 inj time = 62.0 on 2021-07-22 17:42:46.961168\n",
      "Bessy booster current = 3.2373220767573097e-05 inj time = 62.0 on 2021-07-22 17:42:47.475916\n",
      "Bessy booster current = 0.00036863557872111874 inj time = 61.0 on 2021-07-22 17:42:47.990942\n",
      "Bessy booster current = 0.00036863557872111874 inj time = 61.0 on 2021-07-22 17:42:48.510321\n",
      "Bessy booster current = -0.008899014932100319 inj time = 60.0 on 2021-07-22 17:42:49.017427\n",
      "Bessy booster current = -0.011324175204789138 inj time = 60.0 on 2021-07-22 17:42:49.523649\n",
      "Bessy booster current = -0.011324175204789138 inj time = 59.0 on 2021-07-22 17:42:50.031166\n",
      "Bessy booster current = -0.012247976786071813 inj time = 59.0 on 2021-07-22 17:42:50.540751\n",
      "Bessy booster current = -0.012247976786071813 inj time = 58.0 on 2021-07-22 17:42:51.074494\n",
      "Bessy booster current = -0.004984729704256535 inj time = 58.0 on 2021-07-22 17:42:51.587547\n",
      "Bessy booster current = -0.001392691274274896 inj time = 57.0 on 2021-07-22 17:42:52.094298\n",
      "Bessy booster current = 0.0015481145674288693 inj time = 57.0 on 2021-07-22 17:42:52.599344\n",
      "Bessy booster current = 0.0033144435744039778 inj time = 56.0 on 2021-07-22 17:42:53.103794\n",
      "Bessy booster current = 0.0015440154518431704 inj time = 56.0 on 2021-07-22 17:42:53.617107\n",
      "Bessy booster current = 0.0015440154518431704 inj time = 55.0 on 2021-07-22 17:42:54.131844\n",
      "Bessy booster current = 0.0012835888010800794 inj time = 55.0 on 2021-07-22 17:42:54.636280\n",
      "Bessy booster current = -0.0014152533807788772 inj time = 54.0 on 2021-07-22 17:42:55.159747\n",
      "Bessy booster current = -0.0018767386065038783 inj time = 54.0 on 2021-07-22 17:42:55.676103\n",
      "Bessy booster current = -0.00130114441983048 inj time = 53.0 on 2021-07-22 17:42:56.190434\n",
      "Bessy booster current = -0.00130114441983048 inj time = 53.0 on 2021-07-22 17:42:56.706507\n",
      "Bessy booster current = -0.004164433085753396 inj time = 52.0 on 2021-07-22 17:42:57.212562\n",
      "Bessy booster current = -0.004164433085753396 inj time = 51.0 on 2021-07-22 17:42:57.717935\n",
      "Bessy booster current = 6.0333312601218436e-05 inj time = 51.0 on 2021-07-22 17:42:58.224869\n",
      "Bessy booster current = 0.0012845333278467986 inj time = 50.0 on 2021-07-22 17:42:58.742503\n",
      "Bessy booster current = 0.00043658990746391416 inj time = 50.0 on 2021-07-22 17:42:59.260366\n",
      "Bessy booster current = 0.00043658990746391416 inj time = 49.0 on 2021-07-22 17:42:59.770079\n",
      "Bessy booster current = 0.0030812703119997478 inj time = 49.0 on 2021-07-22 17:43:00.276355\n",
      "Bessy booster current = 0.00409840512197997 inj time = 48.0 on 2021-07-22 17:43:00.791197\n",
      "Bessy booster current = 0.0031358459760859065 inj time = 48.0 on 2021-07-22 17:43:01.305541\n",
      "Bessy booster current = 0.0031358459760859065 inj time = 47.0 on 2021-07-22 17:43:01.809535\n",
      "Bessy booster current = 0.009228940346607617 inj time = 47.0 on 2021-07-22 17:43:02.315974\n",
      "Bessy booster current = -0.00017890615977662894 inj time = 46.0 on 2021-07-22 17:43:02.830858\n",
      "Bessy booster current = 0.00012669028363754276 inj time = 46.0 on 2021-07-22 17:43:03.346237\n",
      "Bessy booster current = -0.00468154490195675 inj time = 45.0 on 2021-07-22 17:43:03.872876\n",
      "Bessy booster current = -0.00468154490195675 inj time = 45.0 on 2021-07-22 17:43:04.379395\n",
      "Bessy booster current = 0.0007969602229174894 inj time = 44.0 on 2021-07-22 17:43:04.885005\n",
      "Bessy booster current = 0.0007969602229174894 inj time = 44.0 on 2021-07-22 17:43:05.401548\n",
      "Bessy booster current = 9.110847369561345e-05 inj time = 43.0 on 2021-07-22 17:43:05.908201\n",
      "Bessy booster current = 9.110847369561345e-05 inj time = 43.0 on 2021-07-22 17:43:06.413538\n",
      "Bessy booster current = -0.009667140617421674 inj time = 42.0 on 2021-07-22 17:43:06.917579\n",
      "Bessy booster current = -0.009667140617421674 inj time = 42.0 on 2021-07-22 17:43:07.449980\n",
      "Bessy booster current = -0.0031970426324695427 inj time = 41.0 on 2021-07-22 17:43:07.960577\n",
      "Bessy booster current = -0.0031970426324695427 inj time = 41.0 on 2021-07-22 17:43:08.481549\n",
      "Bessy booster current = -0.003021787347398122 inj time = 40.0 on 2021-07-22 17:43:08.990944\n",
      "Bessy booster current = -0.003021787347398122 inj time = 40.0 on 2021-07-22 17:43:09.507302\n",
      "Bessy booster current = -0.0033941917171361746 inj time = 39.0 on 2021-07-22 17:43:10.029526\n",
      "Bessy booster current = -0.0033941917171361746 inj time = 39.0 on 2021-07-22 17:43:10.535424\n",
      "Bessy booster current = -0.00423461374711687 inj time = 38.0 on 2021-07-22 17:43:11.082785\n",
      "Bessy booster current = -0.006884325878276088 inj time = 38.0 on 2021-07-22 17:43:11.589527\n",
      "Bessy booster current = -0.006884325878276088 inj time = 37.0 on 2021-07-22 17:43:12.108824\n",
      "Bessy booster current = -0.009377422776319626 inj time = 37.0 on 2021-07-22 17:43:12.624824\n",
      "Bessy booster current = -0.012160248599853912 inj time = 36.0 on 2021-07-22 17:43:13.130309\n",
      "Bessy booster current = -0.009631746251556174 inj time = 36.0 on 2021-07-22 17:43:13.638230\n",
      "Bessy booster current = -0.0016159213038229314 inj time = 35.0 on 2021-07-22 17:43:14.149369\n",
      "Bessy booster current = -0.0020336159527077624 inj time = 35.0 on 2021-07-22 17:43:14.668911\n",
      "Bessy booster current = -0.002267336488660423 inj time = 34.0 on 2021-07-22 17:43:15.178758\n",
      "Bessy booster current = -0.0016116693112602082 inj time = 34.0 on 2021-07-22 17:43:15.689418\n",
      "Bessy booster current = -0.0008629552447718164 inj time = 33.0 on 2021-07-22 17:43:16.205314\n",
      "Bessy booster current = -0.0016116693112602082 inj time = 33.0 on 2021-07-22 17:43:16.715362\n",
      "Bessy booster current = 0.0023744202495460526 inj time = 32.0 on 2021-07-22 17:43:17.232250\n",
      "Bessy booster current = 0.009882778375522712 inj time = 31.0 on 2021-07-22 17:43:17.737555\n",
      "Bessy booster current = 0.004323544415818395 inj time = 31.0 on 2021-07-22 17:43:18.245543\n",
      "Bessy booster current = 0.004323544415818395 inj time = 30.0 on 2021-07-22 17:43:18.751019\n",
      "Bessy booster current = 0.0035543989809554664 inj time = 30.0 on 2021-07-22 17:43:19.277367\n",
      "Bessy booster current = 0.0018725534106864207 inj time = 29.0 on 2021-07-22 17:43:19.790128\n",
      "Bessy booster current = 0.0018725534106864207 inj time = 29.0 on 2021-07-22 17:43:20.294883\n",
      "Bessy booster current = 2.044307355883782e-05 inj time = 28.0 on 2021-07-22 17:43:20.799932\n",
      "Bessy booster current = -0.0018462058082034244 inj time = 28.0 on 2021-07-22 17:43:21.309362\n",
      "Bessy booster current = -0.0034329429296693914 inj time = 27.0 on 2021-07-22 17:43:21.820801\n",
      "Bessy booster current = -0.0005826567501859836 inj time = 27.0 on 2021-07-22 17:43:22.326073\n",
      "Bessy booster current = -0.0005826567501859836 inj time = 26.0 on 2021-07-22 17:43:22.830709\n",
      "Bessy booster current = 0.003584192050698513 inj time = 26.0 on 2021-07-22 17:43:23.344221\n",
      "Bessy booster current = 0.002103290759147891 inj time = 25.0 on 2021-07-22 17:43:23.860809\n",
      "Bessy booster current = 0.002103290759147891 inj time = 25.0 on 2021-07-22 17:43:24.364741\n",
      "Bessy booster current = 0.00721157598402079 inj time = 24.0 on 2021-07-22 17:43:24.872735\n",
      "Bessy booster current = 0.00721157598402079 inj time = 24.0 on 2021-07-22 17:43:25.388886\n",
      "Bessy booster current = 0.0004389546302050046 inj time = 23.0 on 2021-07-22 17:43:25.895662\n",
      "Bessy booster current = 0.0004389546302050046 inj time = 23.0 on 2021-07-22 17:43:26.403926\n",
      "Bessy booster current = 0.0014995710896725661 inj time = 22.0 on 2021-07-22 17:43:26.908986\n",
      "Bessy booster current = 0.0014995710896725661 inj time = 22.0 on 2021-07-22 17:43:27.414495\n",
      "Bessy booster current = -0.0034194441645156665 inj time = 21.0 on 2021-07-22 17:43:27.931318\n",
      "Bessy booster current = -0.0034194441645156665 inj time = 21.0 on 2021-07-22 17:43:28.448008\n",
      "Bessy booster current = -0.004025227280543983 inj time = 20.0 on 2021-07-22 17:43:28.968418\n",
      "Bessy booster current = -0.004025227280543983 inj time = 20.0 on 2021-07-22 17:43:29.475829\n",
      "Bessy booster current = -0.0027358725323018696 inj time = 19.0 on 2021-07-22 17:43:29.989150\n",
      "Bessy booster current = -0.0022893994958199035 inj time = 19.0 on 2021-07-22 17:43:30.505511\n",
      "Bessy booster current = -0.0006166367390507549 inj time = 18.0 on 2021-07-22 17:43:31.011280\n",
      "Bessy booster current = -0.002396332602655699 inj time = 18.0 on 2021-07-22 17:43:31.517426\n",
      "Bessy booster current = -0.0022000238002709005 inj time = 17.0 on 2021-07-22 17:43:32.033368\n",
      "Bessy booster current = -0.0011756202008460963 inj time = 17.0 on 2021-07-22 17:43:32.538954\n",
      "Bessy booster current = 0.0025911756354142085 inj time = 16.0 on 2021-07-22 17:43:33.084576\n",
      "Bessy booster current = 0.005568896605234555 inj time = 16.0 on 2021-07-22 17:43:33.600905\n",
      "Bessy booster current = 0.001343986557007515 inj time = 15.0 on 2021-07-22 17:43:34.108740\n",
      "Bessy booster current = 0.001343986557007515 inj time = 15.0 on 2021-07-22 17:43:34.613810\n",
      "Bessy booster current = -0.0008581310434293971 inj time = 14.0 on 2021-07-22 17:43:35.130175\n",
      "Bessy booster current = -0.0008581310434293971 inj time = 14.0 on 2021-07-22 17:43:35.635617\n",
      "Bessy booster current = -0.000647095699722501 inj time = 13.0 on 2021-07-22 17:43:36.142134\n",
      "Bessy booster current = -0.0004983603180916656 inj time = 13.0 on 2021-07-22 17:43:36.664241\n",
      "Bessy booster current = 0.0015002845403751415 inj time = 12.0 on 2021-07-22 17:43:37.171642\n",
      "Bessy booster current = 0.0015002845403751415 inj time = 12.0 on 2021-07-22 17:43:37.678515\n",
      "Bessy booster current = 0.001853453521348719 inj time = 11.0 on 2021-07-22 17:43:38.202229\n",
      "Bessy booster current = 0.0036102811480718785 inj time = 11.0 on 2021-07-22 17:43:38.707313\n",
      "Bessy booster current = -0.0007318594804940348 inj time = 10.0 on 2021-07-22 17:43:39.215763\n",
      "Bessy booster current = -0.0007318594804940348 inj time = 9.0 on 2021-07-22 17:43:39.728526\n",
      "Bessy booster current = 0.003133305729135047 inj time = 9.0 on 2021-07-22 17:43:40.233120\n",
      "Bessy booster current = 0.003133305729135047 inj time = 8.0 on 2021-07-22 17:43:40.739677\n",
      "Bessy booster current = 0.002181983237256979 inj time = 8.0 on 2021-07-22 17:43:41.248407\n",
      "Bessy booster current = 0.002181983237256979 inj time = 7.0 on 2021-07-22 17:43:41.768109\n",
      "Bessy booster current = 0.008752050143823978 inj time = 7.0 on 2021-07-22 17:43:42.284360\n",
      "Bessy booster current = 0.008010465601208747 inj time = 6.0 on 2021-07-22 17:43:42.800520\n",
      "Bessy booster current = -0.0007518310392297667 inj time = 6.0 on 2021-07-22 17:43:43.307976\n",
      "Bessy booster current = -0.0025983630032811963 inj time = 5.0 on 2021-07-22 17:43:43.814294\n",
      "Bessy booster current = -0.0025983630032811963 inj time = 5.0 on 2021-07-22 17:43:44.318893\n",
      "Bessy booster current = -0.0016871170127502155 inj time = 4.0 on 2021-07-22 17:43:44.837371\n",
      "Bessy booster current = -0.0016871170127502155 inj time = 4.0 on 2021-07-22 17:43:45.348411\n",
      "Bessy booster current = -0.0009367930980986872 inj time = 3.0 on 2021-07-22 17:43:45.871968\n",
      "Bessy booster current = -0.0009367930980986872 inj time = 3.0 on 2021-07-22 17:43:46.376118\n",
      "Bessy booster current = 0.002194222574592292 inj time = 2.0 on 2021-07-22 17:43:46.881788\n",
      "Bessy booster current = 0.002194222574592292 inj time = 2.0 on 2021-07-22 17:43:47.388531\n",
      "Bessy booster current = 2.459448801220244 inj time = 1.0 on 2021-07-22 17:43:47.905023\n",
      "done\n"
     ]
    }
   ],
   "source": [
    "# monitor booster current as a func. of time\n",
    "import numpy as np\n",
    "import datetime\n",
    "\n",
    "current_list = []\n",
    "timestamp_list = []\n",
    "counter_list = []\n",
    "t_inj_list = []\n",
    "\n",
    "\n",
    "import time\n",
    "for i in range((5*60)):\n",
    "    time.sleep(0.5)\n",
    "    timestamp = datetime.datetime.now()    \n",
    "    bessy_current = bessy2_parameter.inj_b_current.get()\n",
    "    bessy_current_t_inj = bessy2_parameter.next_inj_cdwn.get()\n",
    "    print(f'Bessy booster current = {bessy_current} inj time = {bessy_current_t_inj} on {timestamp}')\n",
    "    current_list.append(bessy_current)\n",
    "    timestamp_list.append(timestamp)\n",
    "    t_inj_list.append(bessy_current_t_inj)\n",
    "    counter_list.append(i)\n",
    "print('done')"
   ]
  },
  {
   "cell_type": "code",
   "execution_count": 15,
   "id": "stuffed-restoration",
   "metadata": {},
   "outputs": [],
   "source": [
    "list_array_rows = [counter_list, current_list, timestamp_list]\n",
    "#list_array_rows\n",
    "#array_rows = np.array(list_array_rows)\n",
    "#array_rows_transposed = array_rows.transpose()\n"
   ]
  },
  {
   "cell_type": "code",
   "execution_count": 18,
   "id": "amateur-estimate",
   "metadata": {},
   "outputs": [],
   "source": [
    "array_rows = np.array(list_array_rows)\n",
    "array_rows_transposed = array_rows.transpose()"
   ]
  },
  {
   "cell_type": "code",
   "execution_count": 68,
   "id": "other-fleet",
   "metadata": {},
   "outputs": [],
   "source": [
    "#import numpy as np\n",
    "import csv \n",
    "\n",
    "list_array_rows = [counter_list, current_list, t_inj_list, timestamp_list]\n",
    "array_rows = np.array(list_array_rows)\n",
    "array_rows_transposed = array_rows.transpose()\n",
    "\n",
    "# field names \n",
    "fields = ['Counter', 'Current', 'InjCdwn', 'Timestamp'] \n",
    "\n",
    "filename = \"bessy2_b_current.csv\"\n",
    "    \n",
    "# writing to csv file \n",
    "with open(filename, 'w') as csvfile: \n",
    "    csvwriter = csv.writer(csvfile)         \n",
    "    csvwriter.writerow(fields)           \n",
    "    #csvwriter.writerows(list_array_rows)\n",
    "    csvwriter.writerows(array_rows_transposed)"
   ]
  },
  {
   "cell_type": "code",
   "execution_count": null,
   "id": "special-proposition",
   "metadata": {},
   "outputs": [],
   "source": [
    "current_list"
   ]
  },
  {
   "cell_type": "code",
   "execution_count": 20,
   "id": "signed-liabilities",
   "metadata": {},
   "outputs": [
    {
     "data": {
      "text/plain": [
       "0      0.004116\n",
       "1      0.004116\n",
       "2     -0.001244\n",
       "3      0.001424\n",
       "4      0.001424\n",
       "         ...   \n",
       "295    0.005464\n",
       "296    0.004788\n",
       "297    0.004788\n",
       "298    0.001800\n",
       "299   -0.001241\n",
       "Length: 300, dtype: float64"
      ]
     },
     "execution_count": 20,
     "metadata": {},
     "output_type": "execute_result"
    }
   ],
   "source": [
    "import pandas as pd\n",
    "ser1 = pd.Series(current_list, index = counter_list)\n",
    "ser1"
   ]
  },
  {
   "cell_type": "code",
   "execution_count": 42,
   "id": "occupational-tournament",
   "metadata": {},
   "outputs": [
    {
     "data": {
      "text/html": [
       "<div>\n",
       "<style scoped>\n",
       "    .dataframe tbody tr th:only-of-type {\n",
       "        vertical-align: middle;\n",
       "    }\n",
       "\n",
       "    .dataframe tbody tr th {\n",
       "        vertical-align: top;\n",
       "    }\n",
       "\n",
       "    .dataframe thead th {\n",
       "        text-align: right;\n",
       "    }\n",
       "</style>\n",
       "<table border=\"1\" class=\"dataframe\">\n",
       "  <thead>\n",
       "    <tr style=\"text-align: right;\">\n",
       "      <th></th>\n",
       "      <th>Counter</th>\n",
       "      <th>Current</th>\n",
       "      <th>Timestamp</th>\n",
       "    </tr>\n",
       "  </thead>\n",
       "  <tbody>\n",
       "    <tr>\n",
       "      <th>0</th>\n",
       "      <td>0</td>\n",
       "      <td>0.004116</td>\n",
       "      <td>2021-07-22 16:51:45.634148</td>\n",
       "    </tr>\n",
       "    <tr>\n",
       "      <th>1</th>\n",
       "      <td>1</td>\n",
       "      <td>0.004116</td>\n",
       "      <td>2021-07-22 16:51:46.143001</td>\n",
       "    </tr>\n",
       "    <tr>\n",
       "      <th>2</th>\n",
       "      <td>2</td>\n",
       "      <td>-0.001244</td>\n",
       "      <td>2021-07-22 16:51:46.646867</td>\n",
       "    </tr>\n",
       "    <tr>\n",
       "      <th>3</th>\n",
       "      <td>3</td>\n",
       "      <td>0.001424</td>\n",
       "      <td>2021-07-22 16:51:47.151171</td>\n",
       "    </tr>\n",
       "    <tr>\n",
       "      <th>4</th>\n",
       "      <td>4</td>\n",
       "      <td>0.001424</td>\n",
       "      <td>2021-07-22 16:51:47.672015</td>\n",
       "    </tr>\n",
       "    <tr>\n",
       "      <th>...</th>\n",
       "      <td>...</td>\n",
       "      <td>...</td>\n",
       "      <td>...</td>\n",
       "    </tr>\n",
       "    <tr>\n",
       "      <th>295</th>\n",
       "      <td>295</td>\n",
       "      <td>0.005464</td>\n",
       "      <td>2021-07-22 16:54:15.217181</td>\n",
       "    </tr>\n",
       "    <tr>\n",
       "      <th>296</th>\n",
       "      <td>296</td>\n",
       "      <td>0.004788</td>\n",
       "      <td>2021-07-22 16:54:15.732693</td>\n",
       "    </tr>\n",
       "    <tr>\n",
       "      <th>297</th>\n",
       "      <td>297</td>\n",
       "      <td>0.004788</td>\n",
       "      <td>2021-07-22 16:54:16.236783</td>\n",
       "    </tr>\n",
       "    <tr>\n",
       "      <th>298</th>\n",
       "      <td>298</td>\n",
       "      <td>0.0018</td>\n",
       "      <td>2021-07-22 16:54:16.740635</td>\n",
       "    </tr>\n",
       "    <tr>\n",
       "      <th>299</th>\n",
       "      <td>299</td>\n",
       "      <td>-0.001241</td>\n",
       "      <td>2021-07-22 16:54:17.244780</td>\n",
       "    </tr>\n",
       "  </tbody>\n",
       "</table>\n",
       "<p>300 rows × 3 columns</p>\n",
       "</div>"
      ],
      "text/plain": [
       "    Counter   Current                  Timestamp\n",
       "0         0  0.004116 2021-07-22 16:51:45.634148\n",
       "1         1  0.004116 2021-07-22 16:51:46.143001\n",
       "2         2 -0.001244 2021-07-22 16:51:46.646867\n",
       "3         3  0.001424 2021-07-22 16:51:47.151171\n",
       "4         4  0.001424 2021-07-22 16:51:47.672015\n",
       "..      ...       ...                        ...\n",
       "295     295  0.005464 2021-07-22 16:54:15.217181\n",
       "296     296  0.004788 2021-07-22 16:54:15.732693\n",
       "297     297  0.004788 2021-07-22 16:54:16.236783\n",
       "298     298    0.0018 2021-07-22 16:54:16.740635\n",
       "299     299 -0.001241 2021-07-22 16:54:17.244780\n",
       "\n",
       "[300 rows x 3 columns]"
      ]
     },
     "execution_count": 42,
     "metadata": {},
     "output_type": "execute_result"
    }
   ],
   "source": [
    "fram_test = pd.DataFrame(array_rows_transposed, columns = fields)\n",
    "fram_test"
   ]
  },
  {
   "cell_type": "code",
   "execution_count": 34,
   "id": "charitable-routine",
   "metadata": {},
   "outputs": [],
   "source": [
    "fram_test['0'] = 'name'"
   ]
  },
  {
   "cell_type": "code",
   "execution_count": 35,
   "id": "trained-memorial",
   "metadata": {},
   "outputs": [
    {
     "data": {
      "text/html": [
       "<div>\n",
       "<style scoped>\n",
       "    .dataframe tbody tr th:only-of-type {\n",
       "        vertical-align: middle;\n",
       "    }\n",
       "\n",
       "    .dataframe tbody tr th {\n",
       "        vertical-align: top;\n",
       "    }\n",
       "\n",
       "    .dataframe thead th {\n",
       "        text-align: right;\n",
       "    }\n",
       "</style>\n",
       "<table border=\"1\" class=\"dataframe\">\n",
       "  <thead>\n",
       "    <tr style=\"text-align: right;\">\n",
       "      <th></th>\n",
       "      <th>0</th>\n",
       "      <th>1</th>\n",
       "      <th>2</th>\n",
       "      <th>0</th>\n",
       "    </tr>\n",
       "    <tr>\n",
       "      <th>Counter</th>\n",
       "      <th></th>\n",
       "      <th></th>\n",
       "      <th></th>\n",
       "      <th></th>\n",
       "    </tr>\n",
       "  </thead>\n",
       "  <tbody>\n",
       "    <tr>\n",
       "      <th>0</th>\n",
       "      <td>0</td>\n",
       "      <td>0.004116</td>\n",
       "      <td>2021-07-22 16:51:45.634148</td>\n",
       "      <td>name</td>\n",
       "    </tr>\n",
       "    <tr>\n",
       "      <th>1</th>\n",
       "      <td>1</td>\n",
       "      <td>0.004116</td>\n",
       "      <td>2021-07-22 16:51:46.143001</td>\n",
       "      <td>name</td>\n",
       "    </tr>\n",
       "    <tr>\n",
       "      <th>2</th>\n",
       "      <td>2</td>\n",
       "      <td>-0.001244</td>\n",
       "      <td>2021-07-22 16:51:46.646867</td>\n",
       "      <td>name</td>\n",
       "    </tr>\n",
       "    <tr>\n",
       "      <th>3</th>\n",
       "      <td>3</td>\n",
       "      <td>0.001424</td>\n",
       "      <td>2021-07-22 16:51:47.151171</td>\n",
       "      <td>name</td>\n",
       "    </tr>\n",
       "    <tr>\n",
       "      <th>4</th>\n",
       "      <td>4</td>\n",
       "      <td>0.001424</td>\n",
       "      <td>2021-07-22 16:51:47.672015</td>\n",
       "      <td>name</td>\n",
       "    </tr>\n",
       "    <tr>\n",
       "      <th>...</th>\n",
       "      <td>...</td>\n",
       "      <td>...</td>\n",
       "      <td>...</td>\n",
       "      <td>...</td>\n",
       "    </tr>\n",
       "    <tr>\n",
       "      <th>295</th>\n",
       "      <td>295</td>\n",
       "      <td>0.005464</td>\n",
       "      <td>2021-07-22 16:54:15.217181</td>\n",
       "      <td>name</td>\n",
       "    </tr>\n",
       "    <tr>\n",
       "      <th>296</th>\n",
       "      <td>296</td>\n",
       "      <td>0.004788</td>\n",
       "      <td>2021-07-22 16:54:15.732693</td>\n",
       "      <td>name</td>\n",
       "    </tr>\n",
       "    <tr>\n",
       "      <th>297</th>\n",
       "      <td>297</td>\n",
       "      <td>0.004788</td>\n",
       "      <td>2021-07-22 16:54:16.236783</td>\n",
       "      <td>name</td>\n",
       "    </tr>\n",
       "    <tr>\n",
       "      <th>298</th>\n",
       "      <td>298</td>\n",
       "      <td>0.0018</td>\n",
       "      <td>2021-07-22 16:54:16.740635</td>\n",
       "      <td>name</td>\n",
       "    </tr>\n",
       "    <tr>\n",
       "      <th>299</th>\n",
       "      <td>299</td>\n",
       "      <td>-0.001241</td>\n",
       "      <td>2021-07-22 16:54:17.244780</td>\n",
       "      <td>name</td>\n",
       "    </tr>\n",
       "  </tbody>\n",
       "</table>\n",
       "<p>300 rows × 4 columns</p>\n",
       "</div>"
      ],
      "text/plain": [
       "           0         1                          2     0\n",
       "Counter                                                \n",
       "0          0  0.004116 2021-07-22 16:51:45.634148  name\n",
       "1          1  0.004116 2021-07-22 16:51:46.143001  name\n",
       "2          2 -0.001244 2021-07-22 16:51:46.646867  name\n",
       "3          3  0.001424 2021-07-22 16:51:47.151171  name\n",
       "4          4  0.001424 2021-07-22 16:51:47.672015  name\n",
       "...      ...       ...                        ...   ...\n",
       "295      295  0.005464 2021-07-22 16:54:15.217181  name\n",
       "296      296  0.004788 2021-07-22 16:54:15.732693  name\n",
       "297      297  0.004788 2021-07-22 16:54:16.236783  name\n",
       "298      298    0.0018 2021-07-22 16:54:16.740635  name\n",
       "299      299 -0.001241 2021-07-22 16:54:17.244780  name\n",
       "\n",
       "[300 rows x 4 columns]"
      ]
     },
     "execution_count": 35,
     "metadata": {},
     "output_type": "execute_result"
    }
   ],
   "source": [
    "fram_test"
   ]
  },
  {
   "cell_type": "code",
   "execution_count": 39,
   "id": "reserved-rehabilitation",
   "metadata": {},
   "outputs": [
    {
     "data": {
      "text/html": [
       "<div>\n",
       "<style scoped>\n",
       "    .dataframe tbody tr th:only-of-type {\n",
       "        vertical-align: middle;\n",
       "    }\n",
       "\n",
       "    .dataframe tbody tr th {\n",
       "        vertical-align: top;\n",
       "    }\n",
       "\n",
       "    .dataframe thead th {\n",
       "        text-align: right;\n",
       "    }\n",
       "</style>\n",
       "<table border=\"1\" class=\"dataframe\">\n",
       "  <thead>\n",
       "    <tr style=\"text-align: right;\">\n",
       "      <th></th>\n",
       "      <th>Counter</th>\n",
       "      <th>Current</th>\n",
       "      <th>Timestamp</th>\n",
       "    </tr>\n",
       "  </thead>\n",
       "  <tbody>\n",
       "    <tr>\n",
       "      <th>0</th>\n",
       "      <td>0</td>\n",
       "      <td>0.004116</td>\n",
       "      <td>2021-07-22 16:51:45.634148</td>\n",
       "    </tr>\n",
       "    <tr>\n",
       "      <th>1</th>\n",
       "      <td>1</td>\n",
       "      <td>0.004116</td>\n",
       "      <td>2021-07-22 16:51:46.143001</td>\n",
       "    </tr>\n",
       "    <tr>\n",
       "      <th>2</th>\n",
       "      <td>2</td>\n",
       "      <td>-0.001244</td>\n",
       "      <td>2021-07-22 16:51:46.646867</td>\n",
       "    </tr>\n",
       "    <tr>\n",
       "      <th>3</th>\n",
       "      <td>3</td>\n",
       "      <td>0.001424</td>\n",
       "      <td>2021-07-22 16:51:47.151171</td>\n",
       "    </tr>\n",
       "    <tr>\n",
       "      <th>4</th>\n",
       "      <td>4</td>\n",
       "      <td>0.001424</td>\n",
       "      <td>2021-07-22 16:51:47.672015</td>\n",
       "    </tr>\n",
       "    <tr>\n",
       "      <th>...</th>\n",
       "      <td>...</td>\n",
       "      <td>...</td>\n",
       "      <td>...</td>\n",
       "    </tr>\n",
       "    <tr>\n",
       "      <th>295</th>\n",
       "      <td>295</td>\n",
       "      <td>0.005464</td>\n",
       "      <td>2021-07-22 16:54:15.217181</td>\n",
       "    </tr>\n",
       "    <tr>\n",
       "      <th>296</th>\n",
       "      <td>296</td>\n",
       "      <td>0.004788</td>\n",
       "      <td>2021-07-22 16:54:15.732693</td>\n",
       "    </tr>\n",
       "    <tr>\n",
       "      <th>297</th>\n",
       "      <td>297</td>\n",
       "      <td>0.004788</td>\n",
       "      <td>2021-07-22 16:54:16.236783</td>\n",
       "    </tr>\n",
       "    <tr>\n",
       "      <th>298</th>\n",
       "      <td>298</td>\n",
       "      <td>0.001800</td>\n",
       "      <td>2021-07-22 16:54:16.740635</td>\n",
       "    </tr>\n",
       "    <tr>\n",
       "      <th>299</th>\n",
       "      <td>299</td>\n",
       "      <td>-0.001241</td>\n",
       "      <td>2021-07-22 16:54:17.244780</td>\n",
       "    </tr>\n",
       "  </tbody>\n",
       "</table>\n",
       "<p>300 rows × 3 columns</p>\n",
       "</div>"
      ],
      "text/plain": [
       "     Counter   Current                   Timestamp\n",
       "0          0  0.004116  2021-07-22 16:51:45.634148\n",
       "1          1  0.004116  2021-07-22 16:51:46.143001\n",
       "2          2 -0.001244  2021-07-22 16:51:46.646867\n",
       "3          3  0.001424  2021-07-22 16:51:47.151171\n",
       "4          4  0.001424  2021-07-22 16:51:47.672015\n",
       "..       ...       ...                         ...\n",
       "295      295  0.005464  2021-07-22 16:54:15.217181\n",
       "296      296  0.004788  2021-07-22 16:54:15.732693\n",
       "297      297  0.004788  2021-07-22 16:54:16.236783\n",
       "298      298  0.001800  2021-07-22 16:54:16.740635\n",
       "299      299 -0.001241  2021-07-22 16:54:17.244780\n",
       "\n",
       "[300 rows x 3 columns]"
      ]
     },
     "execution_count": 39,
     "metadata": {},
     "output_type": "execute_result"
    }
   ],
   "source": [
    "csv_data = pd.read_csv('bessy2_b_current.csv', sep=',') \n",
    "csv_data"
   ]
  },
  {
   "cell_type": "code",
   "execution_count": 55,
   "id": "wired-tamil",
   "metadata": {},
   "outputs": [
    {
     "data": {
      "text/html": [
       "<div>\n",
       "<style scoped>\n",
       "    .dataframe tbody tr th:only-of-type {\n",
       "        vertical-align: middle;\n",
       "    }\n",
       "\n",
       "    .dataframe tbody tr th {\n",
       "        vertical-align: top;\n",
       "    }\n",
       "\n",
       "    .dataframe thead th {\n",
       "        text-align: right;\n",
       "    }\n",
       "</style>\n",
       "<table border=\"1\" class=\"dataframe\">\n",
       "  <thead>\n",
       "    <tr style=\"text-align: right;\">\n",
       "      <th></th>\n",
       "      <th>Counter</th>\n",
       "      <th>Current</th>\n",
       "    </tr>\n",
       "  </thead>\n",
       "  <tbody>\n",
       "    <tr>\n",
       "      <th>count</th>\n",
       "      <td>300.000000</td>\n",
       "      <td>300.000000</td>\n",
       "    </tr>\n",
       "    <tr>\n",
       "      <th>mean</th>\n",
       "      <td>149.500000</td>\n",
       "      <td>0.109545</td>\n",
       "    </tr>\n",
       "    <tr>\n",
       "      <th>std</th>\n",
       "      <td>86.746758</td>\n",
       "      <td>0.499628</td>\n",
       "    </tr>\n",
       "    <tr>\n",
       "      <th>min</th>\n",
       "      <td>0.000000</td>\n",
       "      <td>-0.008482</td>\n",
       "    </tr>\n",
       "    <tr>\n",
       "      <th>25%</th>\n",
       "      <td>74.750000</td>\n",
       "      <td>-0.002467</td>\n",
       "    </tr>\n",
       "    <tr>\n",
       "      <th>50%</th>\n",
       "      <td>149.500000</td>\n",
       "      <td>-0.000332</td>\n",
       "    </tr>\n",
       "    <tr>\n",
       "      <th>75%</th>\n",
       "      <td>224.250000</td>\n",
       "      <td>0.002465</td>\n",
       "    </tr>\n",
       "    <tr>\n",
       "      <th>max</th>\n",
       "      <td>299.000000</td>\n",
       "      <td>2.820470</td>\n",
       "    </tr>\n",
       "  </tbody>\n",
       "</table>\n",
       "</div>"
      ],
      "text/plain": [
       "          Counter     Current\n",
       "count  300.000000  300.000000\n",
       "mean   149.500000    0.109545\n",
       "std     86.746758    0.499628\n",
       "min      0.000000   -0.008482\n",
       "25%     74.750000   -0.002467\n",
       "50%    149.500000   -0.000332\n",
       "75%    224.250000    0.002465\n",
       "max    299.000000    2.820470"
      ]
     },
     "execution_count": 55,
     "metadata": {},
     "output_type": "execute_result"
    }
   ],
   "source": [
    "csv_data.describe()"
   ]
  },
  {
   "cell_type": "code",
   "execution_count": 56,
   "id": "willing-tamil",
   "metadata": {},
   "outputs": [
    {
     "data": {
      "text/plain": [
       "(array([282.,   0.,   8.,   0.,   0.,   0.,   0.,   0.,   0.,  10.]),\n",
       " array([-0.00848202,  0.27441315,  0.55730831,  0.84020348,  1.12309865,\n",
       "         1.40599381,  1.68888898,  1.97178415,  2.25467931,  2.53757448,\n",
       "         2.82046965]),\n",
       " <BarContainer object of 10 artists>)"
      ]
     },
     "execution_count": 56,
     "metadata": {},
     "output_type": "execute_result"
    },
    {
     "data": {
      "image/png": "[encoded data removed]",
      "text/plain": [
       "<Figure size 432x288 with 1 Axes>"
      ]
     },
     "metadata": {
      "needs_background": "light"
     },
     "output_type": "display_data"
    }
   ],
   "source": [
    "\n",
    "import matplotlib.pyplot as plt\n",
    "\n",
    "plt.hist(csv_data['Current'])"
   ]
  },
  {
   "cell_type": "code",
   "execution_count": 60,
   "id": "continuing-passport",
   "metadata": {},
   "outputs": [],
   "source": [
    "df3 = csv_data[csv_data['Current']  <= 0.05]  "
   ]
  },
  {
   "cell_type": "code",
   "execution_count": 61,
   "id": "worse-kelly",
   "metadata": {},
   "outputs": [
    {
     "data": {
      "text/html": [
       "<div>\n",
       "<style scoped>\n",
       "    .dataframe tbody tr th:only-of-type {\n",
       "        vertical-align: middle;\n",
       "    }\n",
       "\n",
       "    .dataframe tbody tr th {\n",
       "        vertical-align: top;\n",
       "    }\n",
       "\n",
       "    .dataframe thead th {\n",
       "        text-align: right;\n",
       "    }\n",
       "</style>\n",
       "<table border=\"1\" class=\"dataframe\">\n",
       "  <thead>\n",
       "    <tr style=\"text-align: right;\">\n",
       "      <th></th>\n",
       "      <th>Counter</th>\n",
       "      <th>Current</th>\n",
       "    </tr>\n",
       "  </thead>\n",
       "  <tbody>\n",
       "    <tr>\n",
       "      <th>count</th>\n",
       "      <td>280.000000</td>\n",
       "      <td>280.000000</td>\n",
       "    </tr>\n",
       "    <tr>\n",
       "      <th>mean</th>\n",
       "      <td>148.178571</td>\n",
       "      <td>-0.000369</td>\n",
       "    </tr>\n",
       "    <tr>\n",
       "      <th>std</th>\n",
       "      <td>83.850675</td>\n",
       "      <td>0.003626</td>\n",
       "    </tr>\n",
       "    <tr>\n",
       "      <th>min</th>\n",
       "      <td>0.000000</td>\n",
       "      <td>-0.008482</td>\n",
       "    </tr>\n",
       "    <tr>\n",
       "      <th>25%</th>\n",
       "      <td>79.750000</td>\n",
       "      <td>-0.002698</td>\n",
       "    </tr>\n",
       "    <tr>\n",
       "      <th>50%</th>\n",
       "      <td>149.500000</td>\n",
       "      <td>-0.000739</td>\n",
       "    </tr>\n",
       "    <tr>\n",
       "      <th>75%</th>\n",
       "      <td>219.250000</td>\n",
       "      <td>0.002002</td>\n",
       "    </tr>\n",
       "    <tr>\n",
       "      <th>max</th>\n",
       "      <td>299.000000</td>\n",
       "      <td>0.012347</td>\n",
       "    </tr>\n",
       "  </tbody>\n",
       "</table>\n",
       "</div>"
      ],
      "text/plain": [
       "          Counter     Current\n",
       "count  280.000000  280.000000\n",
       "mean   148.178571   -0.000369\n",
       "std     83.850675    0.003626\n",
       "min      0.000000   -0.008482\n",
       "25%     79.750000   -0.002698\n",
       "50%    149.500000   -0.000739\n",
       "75%    219.250000    0.002002\n",
       "max    299.000000    0.012347"
      ]
     },
     "execution_count": 61,
     "metadata": {},
     "output_type": "execute_result"
    }
   ],
   "source": [
    "df3.describe()"
   ]
  },
  {
   "cell_type": "code",
   "execution_count": 62,
   "id": "overhead-regression",
   "metadata": {},
   "outputs": [
    {
     "data": {
      "text/plain": [
       "(array([15., 14., 55., 69., 56., 40., 21.,  5.,  1.,  4.]),\n",
       " array([-0.00848202, -0.00639908, -0.00431614, -0.0022332 , -0.00015025,\n",
       "         0.00193269,  0.00401563,  0.00609857,  0.00818151,  0.01026445,\n",
       "         0.01234739]),\n",
       " <BarContainer object of 10 artists>)"
      ]
     },
     "execution_count": 62,
     "metadata": {},
     "output_type": "execute_result"
    },
    {
     "data": {
      "image/png": "[encoded data removed]",
      "text/plain": [
       "<Figure size 432x288 with 1 Axes>"
      ]
     },
     "metadata": {
      "needs_background": "light"
     },
     "output_type": "display_data"
    }
   ],
   "source": [
    "plt.hist(df3['Current'])"
   ]
  },
  {
   "cell_type": "code",
   "execution_count": 63,
   "id": "exact-investigation",
   "metadata": {},
   "outputs": [],
   "source": [
    "df4 = csv_data[csv_data['Current']  >= 0.1]  "
   ]
  },
  {
   "cell_type": "code",
   "execution_count": 64,
   "id": "photographic-purpose",
   "metadata": {},
   "outputs": [
    {
     "data": {
      "text/html": [
       "<div>\n",
       "<style scoped>\n",
       "    .dataframe tbody tr th:only-of-type {\n",
       "        vertical-align: middle;\n",
       "    }\n",
       "\n",
       "    .dataframe tbody tr th {\n",
       "        vertical-align: top;\n",
       "    }\n",
       "\n",
       "    .dataframe thead th {\n",
       "        text-align: right;\n",
       "    }\n",
       "</style>\n",
       "<table border=\"1\" class=\"dataframe\">\n",
       "  <thead>\n",
       "    <tr style=\"text-align: right;\">\n",
       "      <th></th>\n",
       "      <th>Counter</th>\n",
       "      <th>Current</th>\n",
       "    </tr>\n",
       "  </thead>\n",
       "  <tbody>\n",
       "    <tr>\n",
       "      <th>count</th>\n",
       "      <td>20.000000</td>\n",
       "      <td>20.000000</td>\n",
       "    </tr>\n",
       "    <tr>\n",
       "      <th>mean</th>\n",
       "      <td>168.000000</td>\n",
       "      <td>1.648348</td>\n",
       "    </tr>\n",
       "    <tr>\n",
       "      <th>std</th>\n",
       "      <td>121.614144</td>\n",
       "      <td>1.121417</td>\n",
       "    </tr>\n",
       "    <tr>\n",
       "      <th>min</th>\n",
       "      <td>45.000000</td>\n",
       "      <td>0.263566</td>\n",
       "    </tr>\n",
       "    <tr>\n",
       "      <th>25%</th>\n",
       "      <td>49.750000</td>\n",
       "      <td>0.627713</td>\n",
       "    </tr>\n",
       "    <tr>\n",
       "      <th>50%</th>\n",
       "      <td>168.000000</td>\n",
       "      <td>1.648314</td>\n",
       "    </tr>\n",
       "    <tr>\n",
       "      <th>75%</th>\n",
       "      <td>286.250000</td>\n",
       "      <td>2.732478</td>\n",
       "    </tr>\n",
       "    <tr>\n",
       "      <th>max</th>\n",
       "      <td>291.000000</td>\n",
       "      <td>2.820470</td>\n",
       "    </tr>\n",
       "  </tbody>\n",
       "</table>\n",
       "</div>"
      ],
      "text/plain": [
       "          Counter    Current\n",
       "count   20.000000  20.000000\n",
       "mean   168.000000   1.648348\n",
       "std    121.614144   1.121417\n",
       "min     45.000000   0.263566\n",
       "25%     49.750000   0.627713\n",
       "50%    168.000000   1.648314\n",
       "75%    286.250000   2.732478\n",
       "max    291.000000   2.820470"
      ]
     },
     "execution_count": 64,
     "metadata": {},
     "output_type": "execute_result"
    }
   ],
   "source": [
    "df4.describe()"
   ]
  },
  {
   "cell_type": "code",
   "execution_count": 65,
   "id": "funded-framing",
   "metadata": {},
   "outputs": [
    {
     "data": {
      "text/plain": [
       "(array([ 2.,  8.,  0.,  0.,  0.,  0.,  0.,  0.,  0., 10.]),\n",
       " array([0.26356581, 0.51925619, 0.77494657, 1.03063696, 1.28632734,\n",
       "        1.54201773, 1.79770811, 2.05339849, 2.30908888, 2.56477926,\n",
       "        2.82046965]),\n",
       " <BarContainer object of 10 artists>)"
      ]
     },
     "execution_count": 65,
     "metadata": {},
     "output_type": "execute_result"
    },
    {
     "data": {
      "image/png": "[encoded data removed]",
      "text/plain": [
       "<Figure size 432x288 with 1 Axes>"
      ]
     },
     "metadata": {
      "needs_background": "light"
     },
     "output_type": "display_data"
    }
   ],
   "source": [
    "plt.hist(df4['Current'])"
   ]
  },
  {
   "cell_type": "code",
   "execution_count": 49,
   "id": "rental-toilet",
   "metadata": {},
   "outputs": [
    {
     "data": {
      "text/plain": [
       "<AxesSubplot:>"
      ]
     },
     "execution_count": 49,
     "metadata": {},
     "output_type": "execute_result"
    },
    {
     "data": {
      "image/png": "[encoded data removed]",
      "text/plain": [
       "<Figure size 432x288 with 1 Axes>"
      ]
     },
     "metadata": {
      "needs_background": "light"
     },
     "output_type": "display_data"
    }
   ],
   "source": [
    "%matplotlib inline\n",
    "csv_data.plot()"
   ]
  },
  {
   "cell_type": "code",
   "execution_count": 54,
   "id": "dependent-measure",
   "metadata": {},
   "outputs": [
    {
     "data": {
      "image/png": "[encoded data removed]",
      "text/plain": [
       "<Figure size 432x288 with 1 Axes>"
      ]
     },
     "metadata": {
      "needs_background": "light"
     },
     "output_type": "display_data"
    }
   ],
   "source": [
    "\n",
    "data_to_plot = csv_data['Current'].plot()\n"
   ]
  },
  {
   "cell_type": "code",
   "execution_count": 44,
   "id": "liable-richardson",
   "metadata": {},
   "outputs": [],
   "source": [
    "%matplotlib inline"
   ]
  },
  {
   "cell_type": "code",
   "execution_count": null,
   "id": "trained-specialist",
   "metadata": {},
   "outputs": [],
   "source": [
    "#data_plot\n",
    "#plt.plot(csv_data)\n",
    "#plt.title('')\n",
    "#plt.xlabel('')\n",
    "#plt.ylabel('')\n",
    "\n",
    "\n",
    "fig, ax = plt.subplots()\n",
    "\n",
    "ax.plot(x, y)\n",
    "ax.set_xlabel('')\n",
    "ax.set_ylabel('')\n",
    "ax.set_title('')\n",
    "plt.show()\n",
    "\n"
   ]
  },
  {
   "cell_type": "code",
   "execution_count": null,
   "id": "combined-illustration",
   "metadata": {},
   "outputs": [
    {
     "name": "stdout",
     "output_type": "stream",
     "text": [
      "At least one suspender has tripped. The plan will begin when all suspenders are ready. Justification:\n",
      "    1. Signal ring_current = 297.1745894 is below 297.4\n",
      "\n",
      "Suspending... To get to the prompt, hit Ctrl-C twice to pause.\n",
      "Suspending....To get prompt hit Ctrl-C twice to pause.\n",
      "Suspension occurred at 2021-07-23 14:08:28.\n",
      "Justification for this suspension:\n",
      "Signal bessy2_parameter_inj_b_current = 0.5779121801470204 is outside of the range (-0.02, 0.02)\n",
      "Suspender SuspendWhenOutsideBand(EpicsSignalRO(read_pv='TOPUPCC:rdCurrentB', name='bessy2_parameter_inj_b_current', parent='bessy2_parameter', value=0.0046373583504213944, timestamp=1627042113.511947, auto_monitor=False, string=False), sleep=0, pre_plan=None, post_plan=None,tripped_message=) reports a return to nominal conditions. Will sleep for 0 seconds and then release suspension at 2021-07-23 14:08:33.\n",
      "Suspending....To get prompt hit Ctrl-C twice to pause.\n",
      "Suspension occurred at 2021-07-23 14:08:58.\n",
      "Justification for this suspension:\n",
      "Signal bessy2_parameter_inj_b_current = 2.4014937061766988 is outside of the range (-0.02, 0.02)\n",
      "Suspender SuspendFloor(EpicsSignalRO(read_pv='MDIZ3T5G:current', name='ring_current', parent='ring', value=297.4558263, timestamp=1627042139.966219, auto_monitor=False, string=False), sleep=0, pre_plan=None, post_plan=None,tripped_message=) reports a return to nominal conditions. Will sleep for 0 seconds and then release suspension at 2021-07-23 14:08:59.\n",
      "Suspender SuspendWhenOutsideBand(EpicsSignalRO(read_pv='TOPUPCC:rdCurrentB', name='bessy2_parameter_inj_b_current', parent='bessy2_parameter', value=-0.0027939403971387593, timestamp=1627042143.586279, auto_monitor=False, string=False), sleep=0, pre_plan=None, post_plan=None,tripped_message=) reports a return to nominal conditions. Will sleep for 0 seconds and then release suspension at 2021-07-23 14:09:03.\n",
      "\n",
      "\n",
      "Transient Scan ID: 1     Time: 2021-07-23 14:09:03\n",
      "Persistent Unique Scan ID: 'b9c445de-fd77-437c-a07b-cdd4ddf79104'\n",
      "New stream: 'primary'\n",
      "+-----------+------------+------------+\n",
      "|   seq_num |       time |       det3 |\n",
      "+-----------+------------+------------+\n",
      "|         1 | 14:09:03.7 |      1.213 |\n",
      "|         2 | 14:09:04.1 |      1.213 |\n",
      "|         3 | 14:09:04.6 |      1.213 |\n",
      "|         4 | 14:09:05.1 |      1.213 |\n",
      "|         5 | 14:09:05.6 |      1.213 |\n",
      "|         6 | 14:09:06.1 |      1.213 |\n",
      "|         7 | 14:09:06.6 |      1.213 |\n",
      "|         8 | 14:09:07.1 |      1.213 |\n",
      "|         9 | 14:09:07.6 |      1.213 |\n",
      "|        10 | 14:09:08.1 |      1.213 |\n",
      "|        11 | 14:09:08.6 |      1.213 |\n",
      "|        12 | 14:09:09.1 |      1.213 |\n",
      "|        13 | 14:09:09.6 |      1.213 |\n",
      "|        14 | 14:09:10.1 |      1.213 |\n",
      "|        15 | 14:09:10.6 |      1.213 |\n",
      "|        16 | 14:09:11.1 |      1.213 |\n",
      "|        17 | 14:09:11.6 |      1.213 |\n",
      "|        18 | 14:09:12.1 |      1.213 |\n",
      "|        19 | 14:09:12.6 |      1.213 |\n",
      "|        20 | 14:09:13.1 |      1.213 |\n",
      "|        21 | 14:09:13.6 |      1.213 |\n",
      "|        22 | 14:09:14.1 |      1.213 |\n",
      "|        23 | 14:09:14.6 |      1.213 |\n",
      "|        24 | 14:09:15.1 |      1.213 |\n",
      "|        25 | 14:09:15.6 |      1.213 |\n",
      "|        26 | 14:09:16.1 |      1.213 |\n",
      "|        27 | 14:09:16.6 |      1.213 |\n",
      "|        28 | 14:09:17.1 |      1.213 |\n",
      "|        29 | 14:09:17.6 |      1.213 |\n",
      "|        30 | 14:09:18.1 |      1.213 |\n",
      "|        31 | 14:09:18.6 |      1.213 |\n",
      "|        32 | 14:09:19.1 |      1.213 |\n",
      "|        33 | 14:09:19.6 |      1.213 |\n",
      "|        34 | 14:09:20.1 |      1.213 |\n",
      "|        35 | 14:09:20.6 |      1.213 |\n",
      "|        36 | 14:09:21.1 |      1.213 |\n",
      "|        37 | 14:09:21.6 |      1.213 |\n",
      "|        38 | 14:09:22.1 |      1.213 |\n",
      "|        39 | 14:09:22.6 |      1.213 |\n",
      "|        40 | 14:09:23.1 |      1.213 |\n",
      "|        41 | 14:09:23.6 |      1.213 |\n",
      "|        42 | 14:09:24.1 |      1.213 |\n",
      "|        43 | 14:09:24.6 |      1.213 |\n",
      "|        44 | 14:09:25.1 |      1.213 |\n",
      "|        45 | 14:09:25.6 |      1.213 |\n",
      "|        46 | 14:09:26.1 |      1.213 |\n",
      "|        47 | 14:09:26.6 |      1.213 |\n",
      "|        48 | 14:09:27.1 |      1.213 |\n",
      "|        49 | 14:09:27.6 |      1.213 |\n",
      "+-----------+------------+------------+\n",
      "|   seq_num |       time |       det3 |\n",
      "+-----------+------------+------------+\n",
      "|        50 | 14:09:28.1 |      1.213 |\n",
      "|        51 | 14:09:28.6 |      1.213 |\n",
      "|        52 | 14:09:29.1 |      1.213 |\n",
      "|        53 | 14:09:29.6 |      1.213 |\n",
      "|        54 | 14:09:30.1 |      1.213 |\n",
      "|        55 | 14:09:30.6 |      1.213 |\n",
      "|        56 | 14:09:31.1 |      1.213 |\n",
      "|        57 | 14:09:31.6 |      1.213 |\n",
      "|        58 | 14:09:32.1 |      1.213 |\n",
      "|        59 | 14:09:32.6 |      1.213 |\n",
      "|        60 | 14:09:33.1 |      1.213 |\n",
      "|        61 | 14:09:33.6 |      1.213 |\n",
      "|        62 | 14:09:34.1 |      1.213 |\n",
      "|        63 | 14:09:34.6 |      1.213 |\n",
      "|        64 | 14:09:35.1 |      1.213 |\n",
      "|        65 | 14:09:35.6 |      1.213 |\n",
      "|        66 | 14:09:36.1 |      1.213 |\n",
      "|        67 | 14:09:36.6 |      1.213 |\n",
      "|        68 | 14:09:37.1 |      1.213 |\n",
      "|        69 | 14:09:37.6 |      1.213 |\n",
      "|        70 | 14:09:38.1 |      1.213 |\n",
      "|        71 | 14:09:38.6 |      1.213 |\n",
      "|        72 | 14:09:39.1 |      1.213 |\n",
      "|        73 | 14:09:39.6 |      1.213 |\n",
      "|        74 | 14:09:40.1 |      1.213 |\n",
      "|        75 | 14:09:40.7 |      1.213 |\n",
      "|        76 | 14:09:41.2 |      1.213 |\n",
      "|        77 | 14:09:41.7 |      1.213 |\n",
      "|        78 | 14:09:42.2 |      1.213 |\n",
      "|        79 | 14:09:42.7 |      1.213 |\n",
      "|        80 | 14:09:43.2 |      1.213 |\n",
      "|        81 | 14:09:43.7 |      1.213 |\n",
      "|        82 | 14:09:44.2 |      1.213 |\n",
      "|        83 | 14:09:44.7 |      1.213 |\n",
      "|        84 | 14:09:45.2 |      1.213 |\n",
      "|        85 | 14:09:45.7 |      1.213 |\n",
      "|        86 | 14:09:46.2 |      1.213 |\n",
      "|        87 | 14:09:46.7 |      1.213 |\n",
      "|        88 | 14:09:47.2 |      1.213 |\n",
      "|        89 | 14:09:47.7 |      1.213 |\n",
      "|        90 | 14:09:48.2 |      1.213 |\n",
      "|        91 | 14:09:48.7 |      1.213 |\n",
      "|        92 | 14:09:49.2 |      1.213 |\n",
      "|        93 | 14:09:49.7 |      1.213 |\n",
      "|        94 | 14:09:50.2 |      1.213 |\n",
      "|        95 | 14:09:50.7 |      1.213 |\n",
      "|        96 | 14:09:51.2 |      1.213 |\n",
      "|        97 | 14:09:51.7 |      1.213 |\n",
      "Suspending....To get prompt hit Ctrl-C twice to pause.\n",
      "Suspension occurred at 2021-07-23 14:09:51.\n",
      "Justification for this suspension:\n",
      "Signal ring_current = 297.3925052 is below 297.4\n"
     ]
    }
   ],
   "source": [
    "## focus on booster current \n",
    "## implementation not finished \n",
    "\n",
    "\n",
    "\n",
    "from ophyd import EpicsSignal\n",
    "from bluesky.suspenders import *\n",
    "\n",
    "beam_current = bessy2.current\n",
    "#beam_next_inj = bessy2_parameter.next_inj_cdwn\n",
    "beam_b_current = bessy2_parameter.inj_b_current\n",
    "sus_b_c = SuspendWhenOutsideBand(beam_b_current, -0.02, 0.02)\n",
    "sus_b = SuspendFloor(beam_current, 297.4, resume_thresh=297.41)\n",
    "RE.install_suspender(sus_b_c)\n",
    "RE.install_suspender(sus_b)\n",
    "\n",
    "RE(count([det3], 10000, delay = 0.5))"
   ]
  },
  {
   "cell_type": "code",
   "execution_count": 71,
   "id": "small-episode",
   "metadata": {},
   "outputs": [
    {
     "name": "stdout",
     "output_type": "stream",
     "text": [
      "Stopping: running cleanup and marking exit_status as 'success'...\n",
      "+-----------+------------+------------+\n",
      "generator count ['48d9c9b9'] (scan num: 1)\n",
      "\n",
      "\n",
      "\n"
     ]
    },
    {
     "data": {
      "text/plain": [
       "('48d9c9b9-a027-44a0-b16c-abb94358a101',)"
      ]
     },
     "execution_count": 71,
     "metadata": {},
     "output_type": "execute_result"
    },
    {
     "name": "stdout",
     "output_type": "stream",
     "text": [
      "Suspender SuspendWhenOutsideBand(EpicsSignalRO(read_pv='TOPUPCC:rdCurrentB', name='bessy2_parameter_inj_b_current', parent='bessy2_parameter', value=0.003920290636703692, timestamp=1626971933.444705, auto_monitor=False, string=False), sleep=0, pre_plan=None, post_plan=None,tripped_message=) reports a return to nominal conditions. Will sleep for 0 seconds and then release suspension at 2021-07-22 18:38:53.\n",
      "Suspender SuspendWhenOutsideBand(EpicsSignalRO(read_pv='TOPUPCC:rdCurrentB', name='bessy2_parameter_inj_b_current', parent='bessy2_parameter', value=0.005261113576989723, timestamp=1626971963.521622, auto_monitor=False, string=False), sleep=0, pre_plan=None, post_plan=None,tripped_message=) reports a return to nominal conditions. Will sleep for 0 seconds and then release suspension at 2021-07-22 18:39:23.\n",
      "Suspender SuspendWhenOutsideBand(EpicsSignalRO(read_pv='TOPUPCC:rdCurrentB', name='bessy2_parameter_inj_b_current', parent='bessy2_parameter', value=-0.007039227026045497, timestamp=1626971993.395028, auto_monitor=False, string=False), sleep=0, pre_plan=None, post_plan=None,tripped_message=) reports a return to nominal conditions. Will sleep for 0 seconds and then release suspension at 2021-07-22 18:39:53.\n",
      "Suspender SuspendWhenOutsideBand(EpicsSignalRO(read_pv='TOPUPCC:rdCurrentB', name='bessy2_parameter_inj_b_current', parent='bessy2_parameter', value=-0.0016201012285059057, timestamp=1626972103.532697, auto_monitor=False, string=False), sleep=0, pre_plan=None, post_plan=None,tripped_message=) reports a return to nominal conditions. Will sleep for 0 seconds and then release suspension at 2021-07-22 18:41:43.\n"
     ]
    }
   ],
   "source": [
    "RE.stop()"
   ]
  },
  {
   "cell_type": "code",
   "execution_count": null,
   "id": "pressing-treasurer",
   "metadata": {},
   "outputs": [],
   "source": []
  }
 ],
 "metadata": {
  "kernelspec": {
   "display_name": "Python 3",
   "language": "python",
   "name": "python3"
  },
  "language_info": {
   "codemirror_mode": {
    "name": "ipython",
    "version": 3
   },
   "file_extension": ".py",
   "mimetype": "text/x-python",
   "name": "python",
   "nbconvert_exporter": "python",
   "pygments_lexer": "ipython3",
   "version": "3.7.3"
  }
 },
 "nbformat": 4,
 "nbformat_minor": 5
}
