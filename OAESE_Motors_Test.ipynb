{
 "cells": [
  {
   "cell_type": "code",
   "execution_count": 1,
   "id": "continued-microphone",
   "metadata": {},
   "outputs": [
    {
     "data": {
      "text/plain": [
       "1"
      ]
     },
     "execution_count": 1,
     "metadata": {},
     "output_type": "execute_result"
    }
   ],
   "source": [
    "#configure a temp run engine environment\n",
    "\n",
    "from bluesky import RunEngine\n",
    "\n",
    "RE = RunEngine({})\n",
    "\n",
    "from bluesky.callbacks.best_effort import BestEffortCallback\n",
    "bec = BestEffortCallback()\n",
    "\n",
    "# Send all metadata/data captured to the BestEffortCallback.\n",
    "RE.subscribe(bec)\n",
    "\n",
    "#Get the databroker https://gist.github.com/untzag/53281819709b1058c7708a250cbd3676\n",
    "from databroker.v2 import temp\n",
    "db = temp()\n",
    "\n",
    "# Insert all metadata/data captured into db.\n",
    "RE.subscribe(db.v1.insert)"
   ]
  },
  {
   "cell_type": "code",
   "execution_count": 3,
   "id": "linear-static",
   "metadata": {},
   "outputs": [],
   "source": [
    "from ophyd import Device, EpicsMotor\n",
    "from ophyd import Component as Cpt\n",
    "\n",
    "class StageXY(Device):\n",
    "    x = Cpt(EpicsMotor, ':mx')\n",
    "    y = Cpt(EpicsMotor, ':my')\n",
    "    z = Cpt(EpicsMotor, ':mz')\n",
    "    \n",
    "stage = StageXY('SISSY2EX:motor0', name='stage')\n",
    "stage.wait_for_connection()"
   ]
  },
  {
   "cell_type": "code",
   "execution_count": 4,
   "id": "foreign-river",
   "metadata": {},
   "outputs": [
    {
     "data": {
      "text/plain": [
       "MoveStatus(done=True, pos=stage_y, elapsed=2.3, success=True, settle_time=0.0)"
      ]
     },
     "execution_count": 4,
     "metadata": {},
     "output_type": "execute_result"
    }
   ],
   "source": [
    "stage.y.move(1000)"
   ]
  },
  {
   "cell_type": "code",
   "execution_count": 9,
   "id": "tight-georgia",
   "metadata": {},
   "outputs": [
    {
     "data": {
      "text/plain": [
       "()"
      ]
     },
     "execution_count": 9,
     "metadata": {},
     "output_type": "execute_result"
    }
   ],
   "source": [
    "from bluesky.plan_stubs import mv\n",
    "\n",
    "RE(mv(stage.y,1000,stage.x,1000,stage.z,1000))"
   ]
  },
  {
   "cell_type": "code",
   "execution_count": 10,
   "id": "molecular-bridge",
   "metadata": {},
   "outputs": [
    {
     "data": {
      "text/plain": [
       "()"
      ]
     },
     "execution_count": 10,
     "metadata": {},
     "output_type": "execute_result"
    }
   ],
   "source": [
    "RE(mv(stage.y,2000,stage.x,2000,stage.z,2000))"
   ]
  },
  {
   "cell_type": "code",
   "execution_count": 12,
   "id": "boring-cooperation",
   "metadata": {},
   "outputs": [
    {
     "data": {
      "text/plain": [
       "()"
      ]
     },
     "execution_count": 12,
     "metadata": {},
     "output_type": "execute_result"
    }
   ],
   "source": [
    "\n",
    "pos=3000\n",
    "\n",
    "\n",
    "RE(mv(stage.y,pos,stage.x,pos,stage.z,pos))"
   ]
  },
  {
   "cell_type": "code",
   "execution_count": 33,
   "id": "random-hostel",
   "metadata": {},
   "outputs": [],
   "source": [
    "from ophyd import Device, EpicsSignalRO, DeviceStatus\n",
    "\n",
    "class temp_sens(Device):\n",
    "    \n",
    "    temp = Cpt(EpicsSignalRO, ':mx-PS-TEMPERATURE', kind='hinted')\n",
    "\n",
    "    \n",
    "x_temp = temp_sens('SISSY2EX:motor0', name = 'temp_sense')\n",
    "\n",
    "x_temp.wait_for_connection()"
   ]
  },
  {
   "cell_type": "code",
   "execution_count": 53,
   "id": "helpful-ceramic",
   "metadata": {},
   "outputs": [
    {
     "name": "stdout",
     "output_type": "stream",
     "text": [
      "\n",
      "\n",
      "Transient Scan ID: 4     Time: 2021-08-09 16:17:04\n",
      "Persistent Unique Scan ID: 'b27a6bde-b2de-4dfa-9b5b-66c4f282add9'\n",
      "New stream: 'primary'\n",
      "+-----------+------------+------------+-----------------+\n",
      "|   seq_num |       time |    stage_x | temp_sense_temp |\n",
      "+-----------+------------+------------+-----------------+\n",
      "|         1 | 16:17:09.9 | -1000.00000 |            54.2 |\n",
      "|         2 | 16:17:10.4 | -979.84375 |            54.9 |\n",
      "|         3 | 16:17:11.3 | -959.53125 |            54.9 |\n",
      "|         4 | 16:17:12.0 | -939.37500 |            55.1 |\n",
      "|         5 | 16:17:12.8 | -919.21875 |            55.3 |\n",
      "|         6 | 16:17:13.5 | -899.06250 |            55.4 |\n",
      "|         7 | 16:17:14.3 | -878.75000 |            55.4 |\n",
      "|         8 | 16:17:15.0 | -858.59375 |            55.5 |\n",
      "|         9 | 16:17:15.8 | -838.43750 |            55.6 |\n",
      "|        10 | 16:17:16.5 | -818.12500 |            55.6 |\n",
      "|        11 | 16:17:17.3 | -797.96875 |            55.6 |\n",
      "|        12 | 16:17:18.0 | -777.81250 |            55.4 |\n",
      "|        13 | 16:17:18.8 | -757.50000 |            55.5 |\n",
      "|        14 | 16:17:19.3 | -737.34375 |            55.5 |\n",
      "|        15 | 16:17:20.0 | -717.18750 |            55.5 |\n",
      "|        16 | 16:17:20.8 | -697.03125 |            55.5 |\n",
      "|        17 | 16:17:21.4 | -676.71875 |            55.5 |\n",
      "|        18 | 16:17:22.2 | -656.56250 |            55.5 |\n",
      "|        19 | 16:17:23.0 | -636.40625 |            55.4 |\n",
      "|        20 | 16:17:23.8 | -616.09375 |            55.4 |\n",
      "|        21 | 16:17:24.5 | -595.93750 |            55.3 |\n",
      "|        22 | 16:17:25.3 | -575.78125 |            55.3 |\n",
      "|        23 | 16:17:26.0 | -555.62500 |            55.3 |\n",
      "|        24 | 16:17:26.8 | -535.31250 |            55.4 |\n",
      "|        25 | 16:17:27.5 | -515.15625 |            55.3 |\n",
      "|        26 | 16:17:28.3 | -495.00000 |            55.3 |\n",
      "|        27 | 16:17:29.0 | -474.68750 |            55.2 |\n",
      "|        28 | 16:17:29.8 | -454.53125 |            55.3 |\n",
      "|        29 | 16:17:30.5 | -434.37500 |            55.1 |\n",
      "|        30 | 16:17:31.3 | -414.21875 |            55.1 |\n",
      "|        31 | 16:17:32.0 | -393.90625 |            55.2 |\n",
      "|        32 | 16:17:32.8 | -373.75000 |            55.1 |\n",
      "|        33 | 16:17:33.6 | -353.59375 |            55.1 |\n",
      "|        34 | 16:17:34.3 | -333.28125 |            55.1 |\n",
      "|        35 | 16:17:35.0 | -313.12500 |            55.1 |\n",
      "|        36 | 16:17:35.8 | -292.96875 |            55.1 |\n",
      "|        37 | 16:17:36.6 | -272.65625 |            55.2 |\n",
      "|        38 | 16:17:37.3 | -252.50000 |            55.1 |\n",
      "|        39 | 16:17:38.0 | -232.34375 |            55.1 |\n",
      "|        40 | 16:17:38.8 | -212.18750 |            55.0 |\n",
      "|        41 | 16:17:39.4 | -191.87500 |            55.1 |\n",
      "|        42 | 16:17:40.1 | -171.71875 |            55.1 |\n",
      "|        43 | 16:17:40.8 | -151.56250 |            55.1 |\n",
      "|        44 | 16:17:41.4 | -131.25000 |            55.1 |\n",
      "|        45 | 16:17:42.1 | -111.09375 |            55.1 |\n",
      "|        46 | 16:17:42.9 |  -90.93750 |            55.1 |\n",
      "|        47 | 16:17:43.4 |  -70.78125 |            55.2 |\n",
      "|        48 | 16:17:44.1 |  -50.46875 |            55.2 |\n",
      "|        49 | 16:17:44.9 |  -30.31250 |            55.2 |\n",
      "+-----------+------------+------------+-----------------+\n",
      "|   seq_num |       time |    stage_x | temp_sense_temp |\n",
      "+-----------+------------+------------+-----------------+\n",
      "|        50 | 16:17:45.5 |  -10.15625 |            55.3 |\n",
      "|        51 | 16:17:46.3 |   10.15625 |            55.3 |\n",
      "|        52 | 16:17:47.0 |   30.31250 |            55.3 |\n",
      "|        53 | 16:17:47.8 |   50.46875 |            55.3 |\n",
      "|        54 | 16:17:48.5 |   70.78125 |            55.4 |\n",
      "|        55 | 16:17:49.3 |   90.93750 |            55.4 |\n",
      "|        56 | 16:17:50.0 |  111.09375 |            55.4 |\n",
      "|        57 | 16:17:50.8 |  131.25000 |            55.4 |\n",
      "|        58 | 16:17:51.5 |  151.56250 |            55.5 |\n",
      "|        59 | 16:17:52.3 |  171.71875 |            55.5 |\n",
      "|        60 | 16:17:53.0 |  191.87500 |            55.5 |\n",
      "|        61 | 16:17:53.8 |  212.18750 |            55.5 |\n",
      "|        62 | 16:17:54.5 |  232.34375 |            55.5 |\n",
      "|        63 | 16:17:55.3 |  252.50000 |            55.5 |\n",
      "|        64 | 16:17:56.0 |  272.65625 |            55.5 |\n",
      "|        65 | 16:17:56.8 |  292.96875 |            55.5 |\n",
      "|        66 | 16:17:57.3 |  313.12500 |            55.5 |\n",
      "|        67 | 16:17:58.2 |  333.28125 |            55.5 |\n",
      "|        68 | 16:17:58.9 |  353.59375 |            55.5 |\n",
      "|        69 | 16:17:59.7 |  373.75000 |            55.6 |\n",
      "|        70 | 16:18:00.4 |  393.90625 |            55.5 |\n",
      "|        71 | 16:18:01.2 |  414.21875 |            55.5 |\n",
      "|        72 | 16:18:02.0 |  434.37500 |            55.6 |\n",
      "|        73 | 16:18:02.8 |  454.53125 |            55.4 |\n",
      "|        74 | 16:18:03.5 |  474.68750 |            55.5 |\n",
      "|        75 | 16:18:04.3 |  495.00000 |            55.5 |\n",
      "|        76 | 16:18:05.0 |  515.15625 |            55.4 |\n",
      "|        77 | 16:18:05.8 |  535.31250 |            55.5 |\n",
      "|        78 | 16:18:06.5 |  555.62500 |            55.4 |\n",
      "|        79 | 16:18:07.3 |  575.78125 |            55.4 |\n",
      "|        80 | 16:18:08.0 |  595.93750 |            55.4 |\n",
      "|        81 | 16:18:08.8 |  616.09375 |            55.4 |\n",
      "|        82 | 16:18:09.4 |  636.40625 |            55.4 |\n",
      "|        83 | 16:18:10.2 |  656.56250 |            55.4 |\n",
      "|        84 | 16:18:10.9 |  676.71875 |            55.4 |\n",
      "|        85 | 16:18:11.7 |  697.03125 |            55.4 |\n",
      "|        86 | 16:18:12.4 |  717.18750 |            55.4 |\n",
      "|        87 | 16:18:13.2 |  737.34375 |            55.4 |\n",
      "|        88 | 16:18:14.0 |  757.50000 |            55.4 |\n",
      "|        89 | 16:18:14.8 |  777.81250 |            55.4 |\n",
      "|        90 | 16:18:15.5 |  797.96875 |            55.3 |\n",
      "|        91 | 16:18:16.3 |  818.12500 |            55.3 |\n",
      "|        92 | 16:18:17.0 |  838.43750 |            55.3 |\n",
      "|        93 | 16:18:17.8 |  858.59375 |            55.3 |\n",
      "|        94 | 16:18:18.3 |  878.75000 |            55.4 |\n",
      "|        95 | 16:18:19.0 |  899.06250 |            55.4 |\n",
      "|        96 | 16:18:19.8 |  919.21875 |            55.4 |\n",
      "|        97 | 16:18:20.4 |  939.37500 |            55.4 |\n",
      "|        98 | 16:18:21.1 |  959.53125 |            55.4 |\n",
      "|        99 | 16:18:21.8 |  979.84375 |            55.4 |\n",
      "+-----------+------------+------------+-----------------+\n",
      "|   seq_num |       time |    stage_x | temp_sense_temp |\n",
      "+-----------+------------+------------+-----------------+\n",
      "|       100 | 16:18:22.4 | 1000.00000 |            55.5 |\n",
      "+-----------+------------+------------+-----------------+\n",
      "generator scan ['b27a6bde'] (scan num: 4)\n",
      "\n",
      "\n",
      "\n"
     ]
    },
    {
     "data": {
      "text/plain": [
       "('b27a6bde-b2de-4dfa-9b5b-66c4f282add9',)"
      ]
     },
     "execution_count": 53,
     "metadata": {},
     "output_type": "execute_result"
    },
    {
     "data": {
      "image/png": "[encoded data removed]",
      "text/plain": [
       "<Figure size 360x360 with 1 Axes>"
      ]
     },
     "metadata": {
      "needs_background": "light"
     },
     "output_type": "display_data"
    }
   ],
   "source": [
    "from bluesky.plans import scan\n",
    "\n",
    "RE(scan([x_temp],stage.x,-1000,1000,100))\n"
   ]
  },
  {
   "cell_type": "code",
   "execution_count": 17,
   "id": "encouraging-agreement",
   "metadata": {},
   "outputs": [],
   "source": [
    "run = db[-1]"
   ]
  },
  {
   "cell_type": "code",
   "execution_count": 19,
   "id": "hazardous-frank",
   "metadata": {},
   "outputs": [
    {
     "data": {
      "text/plain": [
       "{'start': {'uid': '75aaae5a-bc50-4102-a7a0-ff0e4b31b909',\n",
       "  'time': 1628513609.0485752,\n",
       "  'versions': {'ophyd': '1.6.0', 'bluesky': '1.6.7'},\n",
       "  'scan_id': 1,\n",
       "  'plan_type': 'generator',\n",
       "  'plan_name': 'scan',\n",
       "  'detectors': ['temp_sense'],\n",
       "  'motors': ['stage_x'],\n",
       "  'num_points': 100,\n",
       "  'num_intervals': 99,\n",
       "  'plan_args': {'detectors': [\"temp_sens(prefix='SISSY2EX:motor0', name='temp_sense', read_attrs=['temp'], configuration_attrs=[])\"],\n",
       "   'num': 100,\n",
       "   'args': [\"EpicsMotor(prefix='SISSY2EX:motor0:mx', name='stage_x', parent='stage', settle_time=0.0, timeout=None, read_attrs=['user_readback', 'user_setpoint'], configuration_attrs=['user_offset', 'user_offset_dir', 'velocity', 'acceleration', 'motor_egu'])\",\n",
       "    -1000,\n",
       "    1000],\n",
       "   'per_step': 'None'},\n",
       "  'hints': {'dimensions': [[['stage_x'], 'primary']]},\n",
       "  'plan_pattern': 'inner_product',\n",
       "  'plan_pattern_module': 'bluesky.plan_patterns',\n",
       "  'plan_pattern_args': {'num': 100,\n",
       "   'args': [\"EpicsMotor(prefix='SISSY2EX:motor0:mx', name='stage_x', parent='stage', settle_time=0.0, timeout=None, read_attrs=['user_readback', 'user_setpoint'], configuration_attrs=['user_offset', 'user_offset_dir', 'velocity', 'acceleration', 'motor_egu'])\",\n",
       "    -1000,\n",
       "    1000]}},\n",
       " 'stop': {'run_start': '75aaae5a-bc50-4102-a7a0-ff0e4b31b909',\n",
       "  'time': 1628513683.8571706,\n",
       "  'uid': '77808296-da2c-47fb-8a3d-d8d06f9b16a2',\n",
       "  'exit_status': 'success',\n",
       "  'reason': '',\n",
       "  'num_events': {'primary': 100}},\n",
       " 'descriptors': [Descriptor({'configuration': {'stage_x': {'data': {'stage_x_acceleration': 0.1,\n",
       "                                        'stage_x_motor_egu': 'Deg',\n",
       "                                        'stage_x_user_offset': 15000.0,\n",
       "                                        'stage_x_user_offset_dir': 0,\n",
       "                                        'stage_x_velocity': 3000.0},\n",
       "                               'data_keys': {'stage_x_acceleration': {'dtype': 'number',\n",
       "                                                                      'lower_ctrl_limit': -1e+300,\n",
       "                                                                      'precision': 5,\n",
       "                                                                      'shape': [],\n",
       "                                                                      'source': 'PV:SISSY2EX:motor0:mx.ACCL',\n",
       "                                                                      'units': 'sec',\n",
       "                                                                      'upper_ctrl_limit': 1e+300},\n",
       "                                             'stage_x_motor_egu': {'dtype': 'string',\n",
       "                                                                   'lower_ctrl_limit': None,\n",
       "                                                                   'shape': [],\n",
       "                                                                   'source': 'PV:SISSY2EX:motor0:mx.EGU',\n",
       "                                                                   'units': None,\n",
       "                                                                   'upper_ctrl_limit': None},\n",
       "                                             'stage_x_user_offset': {'dtype': 'number',\n",
       "                                                                     'lower_ctrl_limit': -1e+300,\n",
       "                                                                     'precision': 5,\n",
       "                                                                     'shape': [],\n",
       "                                                                     'source': 'PV:SISSY2EX:motor0:mx.OFF',\n",
       "                                                                     'units': 'Deg',\n",
       "                                                                     'upper_ctrl_limit': 1e+300},\n",
       "                                             'stage_x_user_offset_dir': {'dtype': 'integer',\n",
       "                                                                         'enum_strs': ['Pos',\n",
       "                                                                                       'Neg'],\n",
       "                                                                         'lower_ctrl_limit': None,\n",
       "                                                                         'shape': [],\n",
       "                                                                         'source': 'PV:SISSY2EX:motor0:mx.DIR',\n",
       "                                                                         'units': None,\n",
       "                                                                         'upper_ctrl_limit': None},\n",
       "                                             'stage_x_velocity': {'dtype': 'number',\n",
       "                                                                  'lower_ctrl_limit': 100.0,\n",
       "                                                                  'precision': 5,\n",
       "                                                                  'shape': [],\n",
       "                                                                  'source': 'PV:SISSY2EX:motor0:mx.VELO',\n",
       "                                                                  'units': 'Deg/sec',\n",
       "                                                                  'upper_ctrl_limit': 3000.0}},\n",
       "                               'timestamps': {'stage_x_acceleration': 1628512140.80932,\n",
       "                                              'stage_x_motor_egu': 1628512140.80932,\n",
       "                                              'stage_x_user_offset': 1628512140.80932,\n",
       "                                              'stage_x_user_offset_dir': 1628512140.80932,\n",
       "                                              'stage_x_velocity': 1628512140.80932}},\n",
       "                   'temp_sense': {'data': {},\n",
       "                                  'data_keys': {},\n",
       "                                  'timestamps': {}}},\n",
       " 'data_keys': {'stage_x': {'dtype': 'number',\n",
       "                           'lower_ctrl_limit': -11600.0,\n",
       "                           'object_name': 'stage_x',\n",
       "                           'precision': 5,\n",
       "                           'shape': [],\n",
       "                           'source': 'PV:SISSY2EX:motor0:mx.RBV',\n",
       "                           'units': 'Deg',\n",
       "                           'upper_ctrl_limit': 115000.0},\n",
       "               'stage_x_user_setpoint': {'dtype': 'number',\n",
       "                                         'lower_ctrl_limit': -11600.0,\n",
       "                                         'object_name': 'stage_x',\n",
       "                                         'precision': 5,\n",
       "                                         'shape': [],\n",
       "                                         'source': 'PV:SISSY2EX:motor0:mx.VAL',\n",
       "                                         'units': 'Deg',\n",
       "                                         'upper_ctrl_limit': 115000.0},\n",
       "               'temp_sense_temp': {'dtype': 'number',\n",
       "                                   'lower_ctrl_limit': 0.0,\n",
       "                                   'object_name': 'temp_sense',\n",
       "                                   'precision': 1,\n",
       "                                   'shape': [],\n",
       "                                   'source': 'PV:SISSY2EX:motor0:mx-PS-TEMPERATURE',\n",
       "                                   'units': '°C',\n",
       "                                   'upper_ctrl_limit': 0.0}},\n",
       " 'hints': {'stage_x': {'fields': ['stage_x']}, 'temp_sense': {'fields': []}},\n",
       " 'name': 'primary',\n",
       " 'object_keys': {'stage_x': ['stage_x', 'stage_x_user_setpoint'],\n",
       "                 'temp_sense': ['temp_sense_temp']},\n",
       " 'run_start': '75aaae5a-bc50-4102-a7a0-ff0e4b31b909',\n",
       " 'time': 1628513611.1508353,\n",
       " 'uid': 'e04e0717-f20d-4280-8e64-801ceae4c04c'})]}"
      ]
     },
     "execution_count": 19,
     "metadata": {},
     "output_type": "execute_result"
    }
   ],
   "source": [
    "run.primary.metadata\n",
    "\n"
   ]
  },
  {
   "cell_type": "code",
   "execution_count": null,
   "id": "advanced-visitor",
   "metadata": {},
   "outputs": [],
   "source": []
  },
  {
   "cell_type": "code",
   "execution_count": 23,
   "id": "cutting-stephen",
   "metadata": {},
   "outputs": [
    {
     "data": {
      "text/plain": [
       "Status(obj=EpicsSignal(read_pv='SISSY2EX:motor0:mx.VELO', name='stage_x_velocity', parent='stage_x', value=1000.0, timestamp=1628513683.967047, tolerance=1e-05, auto_monitor=True, string=False, write_pv='SISSY2EX:motor0:mx.VELO', limits=False, put_complete=False), done=False, success=False)"
      ]
     },
     "execution_count": 23,
     "metadata": {},
     "output_type": "execute_result"
    }
   ],
   "source": [
    "stage.x.velocity.set(3000)"
   ]
  },
  {
   "cell_type": "code",
   "execution_count": 22,
   "id": "starting-circle",
   "metadata": {},
   "outputs": [
    {
     "data": {
      "text/plain": [
       "1000.0"
      ]
     },
     "execution_count": 22,
     "metadata": {},
     "output_type": "execute_result"
    }
   ],
   "source": [
    "stage.x.velocity.get()"
   ]
  },
  {
   "cell_type": "code",
   "execution_count": 51,
   "id": "confused-mason",
   "metadata": {},
   "outputs": [],
   "source": [
    "# Test Homing\n",
    "\n",
    "stage.z.home_forward.set(1)"
   ]
  },
  {
   "cell_type": "code",
   "execution_count": 52,
   "id": "placed-complaint",
   "metadata": {},
   "outputs": [
    {
     "data": {
      "text/plain": [
       "MoveStatus(done=True, pos=stage_z, elapsed=10.7, success=True, settle_time=0.0)"
      ]
     },
     "execution_count": 52,
     "metadata": {},
     "output_type": "execute_result"
    }
   ],
   "source": [
    "stage.z.move(0)"
   ]
  },
  {
   "cell_type": "code",
   "execution_count": null,
   "id": "final-martial",
   "metadata": {},
   "outputs": [],
   "source": []
  }
 ],
 "metadata": {
  "kernelspec": {
   "display_name": "Python 3",
   "language": "python",
   "name": "python3"
  },
  "language_info": {
   "codemirror_mode": {
    "name": "ipython",
    "version": 3
   },
   "file_extension": ".py",
   "mimetype": "text/x-python",
   "name": "python",
   "nbconvert_exporter": "python",
   "pygments_lexer": "ipython3",
   "version": "3.7.3"
  }
 },
 "nbformat": 4,
 "nbformat_minor": 5
}
