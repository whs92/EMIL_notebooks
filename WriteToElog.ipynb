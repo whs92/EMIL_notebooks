{
 "cells": [
  {
   "cell_type": "code",
   "execution_count": 8,
   "id": "cleared-street",
   "metadata": {},
   "outputs": [],
   "source": [
    "import requests\n",
    "import logging\n",
    "import json\n",
    "from datetime import datetime\n",
    "from bluesky.callbacks import CallbackBase\n",
    "from pprint import pformat\n",
    "\n",
    "def getInvestigationIDFromTitle(session_id, title_string):\n",
    "    url = 'https://icat.helmholtz-berlin.de/icatplus/catalogue/'+session_id+'/investigation'\n",
    "    header = {'Content-Type': 'application/json'}\n",
    "    proxies = {\"http\": \"http://www.bessy.de:3128\", \"https\": \"https://www.bessy.de:3128\"}\n",
    "    response = requests.get(url, headers=header, proxies=proxies)\n",
    "    response_data = (json.loads(response.text))\n",
    "    for item in response_data:\n",
    "        title = str(item['title'])\n",
    "        #Select the id with the title Test: ingest for SISSY\n",
    "        if title == title_string:\n",
    "            investigation_id = str(item['id'])\n",
    "            \n",
    "    return investigation_id\n",
    "\n",
    "def getInvestigationIDFromName(session_id, name_string):\n",
    "    url = 'https://icat.helmholtz-berlin.de/icatplus/catalogue/'+session_id+'/investigation'\n",
    "    header = {'Content-Type': 'application/json'}\n",
    "    proxies = {\"http\": \"http://www.bessy.de:3128\", \"https\": \"https://www.bessy.de:3128\"}\n",
    "    response = requests.get(url, headers=header, proxies=proxies)\n",
    "    response_data = (json.loads(response.text))\n",
    "    for item in response_data:\n",
    "        name = str(item['name'])\n",
    "        #Select the id with the title Test: ingest for SISSY\n",
    "        if name_string in name:\n",
    "            investigation_id = str(item['id'])\n",
    "            \n",
    "    return investigation_id\n",
    "\n",
    "def getSessionID(username, password):\n",
    "    proxies = {\"http\": \"http://www.bessy.de:3128\", \"https\": \"https://www.bessy.de:3128\"}\n",
    "    header = {'Content-Type': 'application/json'}\n",
    "    data = {\"plugin\":\"hzbrex\",\"username\":username,\"password\":password}\n",
    "    response = requests.post('https://icat.helmholtz-berlin.de/icatplus/session', headers=header,data=json.dumps(data), proxies=proxies)\n",
    "    response_data = json.loads(response.text)\n",
    "    session_id = response_data['sessionId']\n",
    "    return session_id\n",
    "\n",
    "\n",
    "\n",
    "def writeToELog(message, username, password, title_string):\n",
    "    # make a new comment with the machine tag\n",
    "    now = datetime.now()\n",
    "    dt_string = now.strftime(\"%m/%d/%Y %H:%M:%S\") # Note the American format.\n",
    "    html_event_with_tag ={\n",
    "    \"type\":\"annotation\",\n",
    "    \"category\":\"comment\",\n",
    "    \"content\":[\n",
    "        {\n",
    "            \"text\":\"<p>\"+str(message)+\"</p>\",\n",
    "            \"format\":\"html\"\n",
    "    }],\n",
    "    \"creationDate\":dt_string,\n",
    "    \"tag\": [\n",
    "    \"60deb980e105e3001a3daa2a\"\n",
    "    ]\n",
    "    } # The tag is used to write \"machine\"\n",
    "\n",
    "    #get session id\n",
    "    proxies = {\"http\": \"http://www.bessy.de:3128\", \"https\": \"https://www.bessy.de:3128\"}\n",
    "    session_id = getSessionID(username,password)\n",
    "    \n",
    "    #get investigation_id\n",
    "    investigation_id = getInvestigationID(session_id,title_string)\n",
    "    \n",
    "    url = 'https://icat.helmholtz-berlin.de/icatplus/logbook/' + session_id + '/investigation/id/'+ investigation_id+ '/event/create'\n",
    "    header = {'Content-Type': 'application/json'}\n",
    "    data = html_event_with_tag\n",
    "    response = requests.post(url, headers=header,data=json.dumps(data), proxies=proxies)\n",
    "\n",
    "    return response.status_code"
   ]
  },
  {
   "cell_type": "code",
   "execution_count": 16,
   "id": "changing-details",
   "metadata": {},
   "outputs": [
    {
     "name": "stdin",
     "output_type": "stream",
     "text": [
      "username:  qqu\n",
      " ·····\n"
     ]
    },
    {
     "ename": "JSONDecodeError",
     "evalue": "Expecting value: line 1 column 1 (char 0)",
     "output_type": "error",
     "traceback": [
      "\u001b[0;31m---------------------------------------------------------------------------\u001b[0m",
      "\u001b[0;31mJSONDecodeError\u001b[0m                           Traceback (most recent call last)",
      "\u001b[0;32m<ipython-input-16-b8ddad57bbda>\u001b[0m in \u001b[0;36m<module>\u001b[0;34m\u001b[0m\n\u001b[1;32m     46\u001b[0m \u001b[0;34m\u001b[0m\u001b[0m\n\u001b[1;32m     47\u001b[0m \u001b[0;34m\u001b[0m\u001b[0m\n\u001b[0;32m---> 48\u001b[0;31m \u001b[0mtitle\u001b[0m\u001b[0;34m,\u001b[0m \u001b[0mname\u001b[0m\u001b[0;34m,\u001b[0m \u001b[0mid_num\u001b[0m \u001b[0;34m=\u001b[0m \u001b[0mrequestInvestigationName\u001b[0m\u001b[0;34m(\u001b[0m\u001b[0musername\u001b[0m\u001b[0;34m,\u001b[0m\u001b[0mpassword\u001b[0m\u001b[0;34m)\u001b[0m\u001b[0;34m\u001b[0m\u001b[0;34m\u001b[0m\u001b[0m\n\u001b[0m\u001b[1;32m     49\u001b[0m \u001b[0;34m\u001b[0m\u001b[0m\n\u001b[1;32m     50\u001b[0m \u001b[0mprint\u001b[0m\u001b[0;34m(\u001b[0m\u001b[0;34mf\"Data will now be saved in ICAT with investigation: \\n\\n name:   {title} \\n\\n ID:   {name}\"\u001b[0m\u001b[0;34m)\u001b[0m\u001b[0;34m\u001b[0m\u001b[0;34m\u001b[0m\u001b[0m\n",
      "\u001b[0;32m<ipython-input-16-b8ddad57bbda>\u001b[0m in \u001b[0;36mrequestInvestigationName\u001b[0;34m(username, password)\u001b[0m\n\u001b[1;32m      4\u001b[0m \u001b[0;32mdef\u001b[0m \u001b[0mrequestInvestigationName\u001b[0m\u001b[0;34m(\u001b[0m\u001b[0musername\u001b[0m\u001b[0;34m,\u001b[0m\u001b[0mpassword\u001b[0m\u001b[0;34m)\u001b[0m\u001b[0;34m:\u001b[0m\u001b[0;34m\u001b[0m\u001b[0;34m\u001b[0m\u001b[0m\n\u001b[1;32m      5\u001b[0m \u001b[0;34m\u001b[0m\u001b[0m\n\u001b[0;32m----> 6\u001b[0;31m     \u001b[0msession_id\u001b[0m \u001b[0;34m=\u001b[0m \u001b[0mgetSessionID\u001b[0m\u001b[0;34m(\u001b[0m\u001b[0musername\u001b[0m\u001b[0;34m,\u001b[0m\u001b[0mpassword\u001b[0m\u001b[0;34m)\u001b[0m\u001b[0;34m\u001b[0m\u001b[0;34m\u001b[0m\u001b[0m\n\u001b[0m\u001b[1;32m      7\u001b[0m \u001b[0;34m\u001b[0m\u001b[0m\n\u001b[1;32m      8\u001b[0m     \u001b[0murl\u001b[0m \u001b[0;34m=\u001b[0m \u001b[0;34m'https://icat.helmholtz-berlin.de/icatplus/catalogue/'\u001b[0m\u001b[0;34m+\u001b[0m\u001b[0msession_id\u001b[0m\u001b[0;34m+\u001b[0m\u001b[0;34m'/investigation'\u001b[0m\u001b[0;34m\u001b[0m\u001b[0;34m\u001b[0m\u001b[0m\n",
      "\u001b[0;32m<ipython-input-8-f46f9065ac68>\u001b[0m in \u001b[0;36mgetSessionID\u001b[0;34m(username, password)\u001b[0m\n\u001b[1;32m     39\u001b[0m     \u001b[0mdata\u001b[0m \u001b[0;34m=\u001b[0m \u001b[0;34m{\u001b[0m\u001b[0;34m\"plugin\"\u001b[0m\u001b[0;34m:\u001b[0m\u001b[0;34m\"hzbrex\"\u001b[0m\u001b[0;34m,\u001b[0m\u001b[0;34m\"username\"\u001b[0m\u001b[0;34m:\u001b[0m\u001b[0musername\u001b[0m\u001b[0;34m,\u001b[0m\u001b[0;34m\"password\"\u001b[0m\u001b[0;34m:\u001b[0m\u001b[0mpassword\u001b[0m\u001b[0;34m}\u001b[0m\u001b[0;34m\u001b[0m\u001b[0;34m\u001b[0m\u001b[0m\n\u001b[1;32m     40\u001b[0m     \u001b[0mresponse\u001b[0m \u001b[0;34m=\u001b[0m \u001b[0mrequests\u001b[0m\u001b[0;34m.\u001b[0m\u001b[0mpost\u001b[0m\u001b[0;34m(\u001b[0m\u001b[0;34m'https://icat.helmholtz-berlin.de/icatplus/session'\u001b[0m\u001b[0;34m,\u001b[0m \u001b[0mheaders\u001b[0m\u001b[0;34m=\u001b[0m\u001b[0mheader\u001b[0m\u001b[0;34m,\u001b[0m\u001b[0mdata\u001b[0m\u001b[0;34m=\u001b[0m\u001b[0mjson\u001b[0m\u001b[0;34m.\u001b[0m\u001b[0mdumps\u001b[0m\u001b[0;34m(\u001b[0m\u001b[0mdata\u001b[0m\u001b[0;34m)\u001b[0m\u001b[0;34m,\u001b[0m \u001b[0mproxies\u001b[0m\u001b[0;34m=\u001b[0m\u001b[0mproxies\u001b[0m\u001b[0;34m)\u001b[0m\u001b[0;34m\u001b[0m\u001b[0;34m\u001b[0m\u001b[0m\n\u001b[0;32m---> 41\u001b[0;31m     \u001b[0mresponse_data\u001b[0m \u001b[0;34m=\u001b[0m \u001b[0mjson\u001b[0m\u001b[0;34m.\u001b[0m\u001b[0mloads\u001b[0m\u001b[0;34m(\u001b[0m\u001b[0mresponse\u001b[0m\u001b[0;34m.\u001b[0m\u001b[0mtext\u001b[0m\u001b[0;34m)\u001b[0m\u001b[0;34m\u001b[0m\u001b[0;34m\u001b[0m\u001b[0m\n\u001b[0m\u001b[1;32m     42\u001b[0m     \u001b[0msession_id\u001b[0m \u001b[0;34m=\u001b[0m \u001b[0mresponse_data\u001b[0m\u001b[0;34m[\u001b[0m\u001b[0;34m'sessionId'\u001b[0m\u001b[0;34m]\u001b[0m\u001b[0;34m\u001b[0m\u001b[0;34m\u001b[0m\u001b[0m\n\u001b[1;32m     43\u001b[0m     \u001b[0;32mreturn\u001b[0m \u001b[0msession_id\u001b[0m\u001b[0;34m\u001b[0m\u001b[0;34m\u001b[0m\u001b[0m\n",
      "\u001b[0;32m/opt/tljh/user/lib/python3.7/json/__init__.py\u001b[0m in \u001b[0;36mloads\u001b[0;34m(s, encoding, cls, object_hook, parse_float, parse_int, parse_constant, object_pairs_hook, **kw)\u001b[0m\n\u001b[1;32m    346\u001b[0m             \u001b[0mparse_int\u001b[0m \u001b[0;32mis\u001b[0m \u001b[0;32mNone\u001b[0m \u001b[0;32mand\u001b[0m \u001b[0mparse_float\u001b[0m \u001b[0;32mis\u001b[0m \u001b[0;32mNone\u001b[0m \u001b[0;32mand\u001b[0m\u001b[0;34m\u001b[0m\u001b[0;34m\u001b[0m\u001b[0m\n\u001b[1;32m    347\u001b[0m             parse_constant is None and object_pairs_hook is None and not kw):\n\u001b[0;32m--> 348\u001b[0;31m         \u001b[0;32mreturn\u001b[0m \u001b[0m_default_decoder\u001b[0m\u001b[0;34m.\u001b[0m\u001b[0mdecode\u001b[0m\u001b[0;34m(\u001b[0m\u001b[0ms\u001b[0m\u001b[0;34m)\u001b[0m\u001b[0;34m\u001b[0m\u001b[0;34m\u001b[0m\u001b[0m\n\u001b[0m\u001b[1;32m    349\u001b[0m     \u001b[0;32mif\u001b[0m \u001b[0mcls\u001b[0m \u001b[0;32mis\u001b[0m \u001b[0;32mNone\u001b[0m\u001b[0;34m:\u001b[0m\u001b[0;34m\u001b[0m\u001b[0;34m\u001b[0m\u001b[0m\n\u001b[1;32m    350\u001b[0m         \u001b[0mcls\u001b[0m \u001b[0;34m=\u001b[0m \u001b[0mJSONDecoder\u001b[0m\u001b[0;34m\u001b[0m\u001b[0;34m\u001b[0m\u001b[0m\n",
      "\u001b[0;32m/opt/tljh/user/lib/python3.7/json/decoder.py\u001b[0m in \u001b[0;36mdecode\u001b[0;34m(self, s, _w)\u001b[0m\n\u001b[1;32m    335\u001b[0m \u001b[0;34m\u001b[0m\u001b[0m\n\u001b[1;32m    336\u001b[0m         \"\"\"\n\u001b[0;32m--> 337\u001b[0;31m         \u001b[0mobj\u001b[0m\u001b[0;34m,\u001b[0m \u001b[0mend\u001b[0m \u001b[0;34m=\u001b[0m \u001b[0mself\u001b[0m\u001b[0;34m.\u001b[0m\u001b[0mraw_decode\u001b[0m\u001b[0;34m(\u001b[0m\u001b[0ms\u001b[0m\u001b[0;34m,\u001b[0m \u001b[0midx\u001b[0m\u001b[0;34m=\u001b[0m\u001b[0m_w\u001b[0m\u001b[0;34m(\u001b[0m\u001b[0ms\u001b[0m\u001b[0;34m,\u001b[0m \u001b[0;36m0\u001b[0m\u001b[0;34m)\u001b[0m\u001b[0;34m.\u001b[0m\u001b[0mend\u001b[0m\u001b[0;34m(\u001b[0m\u001b[0;34m)\u001b[0m\u001b[0;34m)\u001b[0m\u001b[0;34m\u001b[0m\u001b[0;34m\u001b[0m\u001b[0m\n\u001b[0m\u001b[1;32m    338\u001b[0m         \u001b[0mend\u001b[0m \u001b[0;34m=\u001b[0m \u001b[0m_w\u001b[0m\u001b[0;34m(\u001b[0m\u001b[0ms\u001b[0m\u001b[0;34m,\u001b[0m \u001b[0mend\u001b[0m\u001b[0;34m)\u001b[0m\u001b[0;34m.\u001b[0m\u001b[0mend\u001b[0m\u001b[0;34m(\u001b[0m\u001b[0;34m)\u001b[0m\u001b[0;34m\u001b[0m\u001b[0;34m\u001b[0m\u001b[0m\n\u001b[1;32m    339\u001b[0m         \u001b[0;32mif\u001b[0m \u001b[0mend\u001b[0m \u001b[0;34m!=\u001b[0m \u001b[0mlen\u001b[0m\u001b[0;34m(\u001b[0m\u001b[0ms\u001b[0m\u001b[0;34m)\u001b[0m\u001b[0;34m:\u001b[0m\u001b[0;34m\u001b[0m\u001b[0;34m\u001b[0m\u001b[0m\n",
      "\u001b[0;32m/opt/tljh/user/lib/python3.7/json/decoder.py\u001b[0m in \u001b[0;36mraw_decode\u001b[0;34m(self, s, idx)\u001b[0m\n\u001b[1;32m    353\u001b[0m             \u001b[0mobj\u001b[0m\u001b[0;34m,\u001b[0m \u001b[0mend\u001b[0m \u001b[0;34m=\u001b[0m \u001b[0mself\u001b[0m\u001b[0;34m.\u001b[0m\u001b[0mscan_once\u001b[0m\u001b[0;34m(\u001b[0m\u001b[0ms\u001b[0m\u001b[0;34m,\u001b[0m \u001b[0midx\u001b[0m\u001b[0;34m)\u001b[0m\u001b[0;34m\u001b[0m\u001b[0;34m\u001b[0m\u001b[0m\n\u001b[1;32m    354\u001b[0m         \u001b[0;32mexcept\u001b[0m \u001b[0mStopIteration\u001b[0m \u001b[0;32mas\u001b[0m \u001b[0merr\u001b[0m\u001b[0;34m:\u001b[0m\u001b[0;34m\u001b[0m\u001b[0;34m\u001b[0m\u001b[0m\n\u001b[0;32m--> 355\u001b[0;31m             \u001b[0;32mraise\u001b[0m \u001b[0mJSONDecodeError\u001b[0m\u001b[0;34m(\u001b[0m\u001b[0;34m\"Expecting value\"\u001b[0m\u001b[0;34m,\u001b[0m \u001b[0ms\u001b[0m\u001b[0;34m,\u001b[0m \u001b[0merr\u001b[0m\u001b[0;34m.\u001b[0m\u001b[0mvalue\u001b[0m\u001b[0;34m)\u001b[0m \u001b[0;32mfrom\u001b[0m \u001b[0;32mNone\u001b[0m\u001b[0;34m\u001b[0m\u001b[0;34m\u001b[0m\u001b[0m\n\u001b[0m\u001b[1;32m    356\u001b[0m         \u001b[0;32mreturn\u001b[0m \u001b[0mobj\u001b[0m\u001b[0;34m,\u001b[0m \u001b[0mend\u001b[0m\u001b[0;34m\u001b[0m\u001b[0;34m\u001b[0m\u001b[0m\n",
      "\u001b[0;31mJSONDecodeError\u001b[0m: Expecting value: line 1 column 1 (char 0)"
     ]
    }
   ],
   "source": [
    "\n",
    "from getpass import getpass\n",
    "\n",
    "\n",
    "def requestInvestigationName(username,password):\n",
    "\n",
    "    session_id = getSessionID(username,password)\n",
    "\n",
    "    url = 'https://icat.helmholtz-berlin.de/icatplus/catalogue/'+session_id+'/investigation'\n",
    "    header = {'Content-Type': 'application/json'}\n",
    "    proxies = {\"http\": \"http://www.bessy.de:3128\", \"https\": \"https://www.bessy.de:3128\"}\n",
    "    response = requests.get(url, headers=header, proxies=proxies)\n",
    "    response_data = (json.loads(response.text))\n",
    "\n",
    "\n",
    "    #Request the title or some of it, or the investigation id\n",
    "\n",
    "    part_title = input(f\"\\nEnter part or all of the investigation title or ID: \")\n",
    "    possible_investigations = []\n",
    "    for item in response_data:\n",
    "\n",
    "        title = str(item['title'])\n",
    "        id_num = str(item['name'])\n",
    "        Distance = lev.distance(title.lower(),part_title.lower())\n",
    "        Ratio = lev.ratio(title.lower(),part_title.lower())\n",
    "\n",
    "        if part_title in title or part_title.lower() in title.lower() or Ratio > 0.8 or Distance < 10 or part_title in id_num:\n",
    "            possible_investigations.append(item)\n",
    "\n",
    "    index_sel = 1\n",
    "    if len(possible_investigations) >1:\n",
    "        print(f\"Here are the investigations we found \")\n",
    "        for i, investigation in enumerate(possible_investigations):\n",
    "            print(f\"    {i+1}. {investigation['title']}\")\n",
    "\n",
    "        index_sel = int(input(f\"\\nWhich is the correct investigtion: \"))\n",
    "\n",
    "    title = possible_investigations[index_sel-1]['title']\n",
    "    name = possible_investigations[index_sel-1]['name'].split(':')[1]\n",
    "    id_num = possible_investigations[index_sel-1]['id']\n",
    "\n",
    "    \n",
    "    return title, name, id_num\n",
    "\n",
    "username =str(input(\"username: \"))\n",
    "password = str(getpass())\n",
    "\n",
    "\n",
    "title, name, id_num = requestInvestigationName(username,password)\n",
    "                                                  \n",
    "print(f\"Data will now be saved in ICAT with investigation: \\n\\n name:   {title} \\n\\n ID:   {name}\")\n",
    "print(f\"\\n\\nYou can reach the eLog here: https://icat.helmholtz-berlin.de/datahub/investigation/{id_num}/events\")\n",
    "    "
   ]
  },
  {
   "cell_type": "code",
   "execution_count": 13,
   "id": "double-genius",
   "metadata": {},
   "outputs": [],
   "source": [
    "\n",
    "\n",
    "\n",
    "from jinja2 import Template\n",
    "template =\"\"\"\n",
    "{{- plan_name }} ['{{ uid[:6] }}'] (scan num: {{ scan_id }})\n",
    "<br>Scan Plan\n",
    "<br>---------\n",
    "<br>{{ plan_name }}\n",
    "{% if 'plan_args' is defined %}\n",
    "    {%- for k, v in plan_args | dictsort %}\n",
    "        <br>{{ k }}: {{ v }}\n",
    "    {%-  endfor %}\n",
    "{% endif %}\"\"\"\n",
    "\n",
    "\n",
    "j2_template = Template(template)\n",
    "\n",
    "\n",
    "end_template =\"\"\"\n",
    "Plan ended\n",
    "<br>exit_status: {{exit_status}}\n",
    "<br>num_events: {{num_events}}\n",
    "<br>uid:{{run_start}}\"\"\"\n",
    "\n",
    "\n",
    "j2_end_template = Template(end_template)\n",
    "\n",
    "class MyELogCallback(CallbackBase):\n",
    "    \n",
    "    def __init__(self, username, password, title):\n",
    "        self.username = username\n",
    "        self.password = password\n",
    "        self.title_string = title\n",
    "\n",
    "        \n",
    "        \n",
    "    def start(self, doc):\n",
    "        \n",
    "        writeToELog(j2_template.render(doc),self.username,self.password,self.title_string)\n",
    "        \n",
    "    def descriptor(self, doc):\n",
    "        # Do Somthing\n",
    "        pass\n",
    "    def event(self, doc):\n",
    "        pass\n",
    "        # Do something\n",
    "    def stop(self, doc):\n",
    "        \n",
    "      \n",
    "        writeToELog(j2_end_template.render(doc),self.username,self.password,self.title_string)\n",
    "    "
   ]
  },
  {
   "cell_type": "code",
   "execution_count": 29,
   "id": "coral-insured",
   "metadata": {},
   "outputs": [],
   "source": [
    "# Create a test run engine and attach our callback\n",
    "\n",
    "from bluesky import RunEngine\n",
    "\n",
    "RE = RunEngine({})\n",
    "\n",
    "from bluesky.callbacks.best_effort import BestEffortCallback\n",
    "bec = BestEffortCallback()\n",
    "RE.subscribe(bec)\n",
    "# Send all metadata/data captured to the BestEffortCallback.\n",
    "\n",
    "\n",
    "#Get the databroker https://gist.github.com/untzag/53281819709b1058c7708a250cbd3676\n",
    "from databroker.v2 import temp\n",
    "db = temp()\n",
    "\n",
    "# Insert all metadata/data captured into db.\n",
    "RE.subscribe(db.v1.insert)"
   ]
  },
  {
   "cell_type": "code",
   "execution_count": null,
   "id": "loaded-indonesian",
   "metadata": {},
   "outputs": [],
   "source": [
    "from bluesky.callbacks.zmq import RemoteDispatcher\n",
    "d = RemoteDispatcher('localhost:5578')\n",
    "d.subscribe(print)\n",
    "\n",
    "# when done subscribing things and ready to use:\n",
    "d.start()  # runs event loop forever"
   ]
  },
  {
   "cell_type": "code",
   "execution_count": null,
   "id": "bored-sacramento",
   "metadata": {},
   "outputs": [],
   "source": [
    "# Offer the user a list of available titles\n",
    "\n",
    "\n",
    "\n",
    "from getpass import getpass\n",
    "\n",
    "username =str(input(\"username: \"))\n",
    "password = str(getpass())"
   ]
  },
  {
   "cell_type": "code",
   "execution_count": 29,
   "id": "convinced-hands",
   "metadata": {},
   "outputs": [
    {
     "name": "stdin",
     "output_type": "stream",
     "text": [
      "username:  qqu\n",
      " ········\n"
     ]
    },
    {
     "data": {
      "text/plain": [
       "2"
      ]
     },
     "execution_count": 29,
     "metadata": {},
     "output_type": "execute_result"
    }
   ],
   "source": [
    "from getpass import getpass\n",
    "\n",
    "username =str(input(\"username: \"))\n",
    "password = str(getpass())\n",
    "title = \"Test: ingest for SISSY\"\n",
    "RE.subscribe(MyELogCallback(username, password,title))"
   ]
  },
  {
   "cell_type": "code",
   "execution_count": 30,
   "id": "floral-celebration",
   "metadata": {},
   "outputs": [
    {
     "name": "stdout",
     "output_type": "stream",
     "text": [
      "\n",
      "\n",
      "Transient Scan ID: 1     Time: 2021-10-03 00:36:55\n",
      "Persistent Unique Scan ID: '512580cf-ae9e-4be2-8a34-7a76999d9ebe'\n",
      "New stream: 'primary'\n",
      "+-----------+------------+------------+------------+\n",
      "|   seq_num |       time |      motor |        det |\n",
      "+-----------+------------+------------+------------+\n",
      "|         1 | 00:36:56.3 |     -1.000 |      0.607 |\n",
      "|         2 | 00:36:56.3 |     -0.778 |      0.739 |\n",
      "|         3 | 00:36:56.4 |     -0.556 |      0.857 |\n",
      "|         4 | 00:36:56.4 |     -0.333 |      0.946 |\n",
      "|         5 | 00:36:56.4 |     -0.111 |      0.994 |\n",
      "|         6 | 00:36:56.5 |      0.111 |      0.994 |\n",
      "|         7 | 00:36:56.5 |      0.333 |      0.946 |\n",
      "|         8 | 00:36:56.5 |      0.556 |      0.857 |\n",
      "|         9 | 00:36:56.6 |      0.778 |      0.739 |\n",
      "|        10 | 00:36:56.6 |      1.000 |      0.607 |\n",
      "+-----------+------------+------------+------------+\n",
      "generator scan ['512580cf'] (scan num: 1)\n",
      "\n",
      "\n",
      "\n"
     ]
    },
    {
     "data": {
      "text/plain": [
       "('512580cf-ae9e-4be2-8a34-7a76999d9ebe',)"
      ]
     },
     "execution_count": 30,
     "metadata": {},
     "output_type": "execute_result"
    },
    {
     "data": {
      "image/png": "[encoded data removed]",
      "text/plain": [
       "<Figure size 360x360 with 1 Axes>"
      ]
     },
     "metadata": {
      "needs_background": "light"
     },
     "output_type": "display_data"
    }
   ],
   "source": [
    "from bluesky.plans import scan\n",
    "from ophyd.sim import det, motor\n",
    "\n",
    "RE(scan([det],motor, -1,1,10))"
   ]
  },
  {
   "cell_type": "code",
   "execution_count": null,
   "id": "painted-ballet",
   "metadata": {},
   "outputs": [],
   "source": [
    "# See notes here about running callbacks elsewhere on a network: https://blueskyproject.io/bluesky/callbacks.html#subscriptions-in-separate-processes-or-host-with-0mq"
   ]
  },
  {
   "cell_type": "code",
   "execution_count": null,
   "id": "permanent-waterproof",
   "metadata": {},
   "outputs": [],
   "source": [
    "#Should write to the eLog here"
   ]
  }
 ],
 "metadata": {
  "kernelspec": {
   "display_name": "Python 3",
   "language": "python",
   "name": "python3"
  },
  "language_info": {
   "codemirror_mode": {
    "name": "ipython",
    "version": 3
   },
   "file_extension": ".py",
   "mimetype": "text/x-python",
   "name": "python",
   "nbconvert_exporter": "python",
   "pygments_lexer": "ipython3",
   "version": "3.7.3"
  }
 },
 "nbformat": 4,
 "nbformat_minor": 5
}
