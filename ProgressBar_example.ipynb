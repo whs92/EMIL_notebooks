{
 "cells": [
  {
   "cell_type": "code",
   "execution_count": 17,
   "id": "efficient-puzzle",
   "metadata": {},
   "outputs": [],
   "source": [
    "from bluesky import RunEngine\n",
    "from bluesky import Msg\n",
    "from bluesky.plan_stubs import *\n",
    "from IPython import get_ipython\n",
    "user_ns = get_ipython().user_ns\n",
    "from bluesky.preprocessors import SupplementalData\n",
    "\n",
    "RE = RunEngine({})\n",
    "\n",
    "from bluesky.callbacks.best_effort import BestEffortCallback\n",
    "bec = BestEffortCallback()\n",
    "\n",
    "# Send all metadata/data captured to the BestEffortCallback.\n",
    "RE.subscribe(bec)\n",
    "\n",
    "#Get the databroker https://gist.github.com/untzag/53281819709b1058c7708a250cbd3676\n",
    "from databroker.v2 import temp\n",
    "db = temp()\n",
    "\n",
    "# Insert all metadata/data captured into db.\n",
    "RE.subscribe(db.v1.insert)\n",
    "\n",
    "from tqdm import tqdm\n",
    "from bluesky.utils import ProgressBarManager, ProgressBar\n",
    "\n",
    "#from bluesky.utils.jupyter import pbar_manager_for_notebook\n",
    "#RE.waiting_hook = pbar_manager_for_notebook()\n",
    "\n",
    "#ProgressBarManager(delay_draw=0.1)\n",
    "#RE.subscribe(watch)\n",
    "\n",
    "#RE.waiting_hook = ProgressBarManager()\n",
    "\n",
    "#RE.waiting_hook = ProgressBa\n",
    "#sd = SupplementalData()\n",
    "#RE.preprocessors.append(sd)\n"
   ]
  },
  {
   "cell_type": "code",
   "execution_count": 18,
   "id": "noted-option",
   "metadata": {},
   "outputs": [
    {
     "name": "stdout",
     "output_type": "stream",
     "text": [
      "Help on class ProgressBar in module bluesky.utils:\n",
      "\n",
      "class ProgressBar(builtins.object)\n",
      " |  ProgressBar(status_objs, delay_draw=0.2)\n",
      " |  \n",
      " |  Methods defined here:\n",
      " |  \n",
      " |  __init__(self, status_objs, delay_draw=0.2)\n",
      " |      Represent status objects with a progress bars.\n",
      " |      \n",
      " |      Parameters\n",
      " |      ----------\n",
      " |      status_objs : list\n",
      " |          Status objects\n",
      " |      delay_draw : float, optional\n",
      " |          To avoid flashing progress bars that will complete quickly after\n",
      " |          they are displayed, delay drawing until the progress bar has been\n",
      " |          around for awhile. Default is 0.2 seconds.\n",
      " |  \n",
      " |  clear(self)\n",
      " |  \n",
      " |  draw(self)\n",
      " |  \n",
      " |  update(self, pos, *, name=None, current=None, initial=None, target=None, unit='units', precision=None, fraction=None, time_elapsed=None, time_remaining=None)\n",
      " |  \n",
      " |  ----------------------------------------------------------------------\n",
      " |  Data descriptors defined here:\n",
      " |  \n",
      " |  __dict__\n",
      " |      dictionary for instance variables (if defined)\n",
      " |  \n",
      " |  __weakref__\n",
      " |      list of weak references to the object (if defined)\n",
      "\n"
     ]
    }
   ],
   "source": [
    "help(ProgressBar)"
   ]
  },
  {
   "cell_type": "code",
   "execution_count": 19,
   "id": "greatest-office",
   "metadata": {},
   "outputs": [],
   "source": [
    "import sys\n",
    "sys.path.append('..')"
   ]
  },
  {
   "cell_type": "code",
   "execution_count": 20,
   "id": "eleven-trademark",
   "metadata": {},
   "outputs": [],
   "source": [
    "from ophyd import PVPositioner, EpicsSignal, EpicsSignalRO, Device, DerivedSignal,PseudoPositioner,PseudoSingle\n",
    "from ophyd import Component as Cpt\n",
    "from ophyd.pseudopos import (pseudo_position_argument,\n",
    "                             real_position_argument)\n",
    "from ophyd.signal import Signal, SignalRO\n",
    "from ophyd import FormattedComponent as FCpt\n",
    "\n",
    "\n",
    "\n",
    "#https://github.com/pcdshub/pcdsdevices/blob/master/pcdsdevices/signal.py\n",
    "class InternalSignal(SignalRO):\n",
    "    \"\"\"\n",
    "    Class Signal that stores info but should only be updated by the class.\n",
    "    SignalRO can be updated with _readback, but this does not process\n",
    "    callbacks. For the signal to behave normally, we need to bypass the put\n",
    "    override.\n",
    "    To put to one of these signals, simply call put with force=True\n",
    "    \"\"\"\n",
    "\n",
    "    def put(self, value, *, timestamp=None, force=False):\n",
    "        return Signal.put(self, value, timestamp=timestamp, force=force)\n",
    "\n",
    "    def set(self, value, *, timestamp=None, force=False):\n",
    "        return Signal.set(self, value, timestamp=timestamp, force=force)\n",
    "\n",
    "# based on https://github.com/pcdshub/pcdsdevices/blob/master/pcdsdevices/pv_positioner.py with readback included\n",
    "class PVPositionerDone(PVPositioner):\n",
    "    \"\"\"\n",
    "    PV Positioner with no readback that reports done immediately.\n",
    "    Optionally, this PV positioner can be configured to skip small moves,\n",
    "    e.g. moves that are smaller than the atol value.\n",
    "    Parameters\n",
    "    ----------\n",
    "    prefix: str\n",
    "        PV prefix for the request setpoint. This should always be a hutch name.\n",
    "    name: str, required keyword\n",
    "        Name to use for this device in log messages, data streams, etc.\n",
    "    skip_small_moves: bool, optional\n",
    "        Defaults to False. If True, ignores move requests that are smaller\n",
    "        than the atol factor.\n",
    "        This can be very useful for synchronized energy scans where the ACR\n",
    "        side of the process can be very slow, but does not necessarily need to\n",
    "        happen at every step. Rather than design complicated scan patterns, we\n",
    "        can skip the small moves here and move the monochromater and beam\n",
    "        request devices in parallel.\n",
    "    \n",
    "    \"\"\"\n",
    "\n",
    "    # Override setpoint, readback in subclass\n",
    "    setpoint = None\n",
    "    readback = None\n",
    "\n",
    "    done = Cpt(InternalSignal, value=0)\n",
    "    done_value = 1\n",
    "\n",
    "    \n",
    "    def _setup_move(self, position):\n",
    "       \n",
    "        super()._setup_move(position)\n",
    "        self._toggle_done()\n",
    "\n",
    "    def _toggle_done(self):\n",
    "        self.done.put(0, force=True)\n",
    "        self.done.put(1, force=True)\n",
    "        \n",
    "        \n",
    "\n",
    "class PVPositionerComparator(PVPositioner):\n",
    "    \"\"\"\n",
    "    PV Positioner with a software done signal.\n",
    "    The done state is set by a comparison function defined in the class body.\n",
    "    The comparison function takes two arguments, readback and setpoint,\n",
    "    returning True if we are close enough to be considered done or False if we\n",
    "    are too far away.\n",
    "    \"\"\"\n",
    "\n",
    "    # Override setpoint, readback in subclass\n",
    "    setpoint = None\n",
    "    readback = None\n",
    "\n",
    "    done = Cpt(InternalSignal, value=0)\n",
    "    done_value = 1\n",
    "\n",
    "    # Optionally override limits to a 2-element tuple in subclass\n",
    "    limits = None\n",
    "\n",
    "    def __init__(self, prefix, *, name, **kwargs):\n",
    "        self._last_readback = None\n",
    "        self._last_setpoint = None\n",
    "        super().__init__(prefix, name=name, **kwargs)\n",
    "        if None in (self.setpoint, self.readback):\n",
    "            raise NotImplementedError('PVPositionerComparator requires both '\n",
    "                                      'a setpoint and a readback signal to '\n",
    "                                      'compare!')\n",
    "\n",
    "    def done_comparator(self, readback, setpoint):\n",
    "        \"\"\"Override done_comparator in subclass.\"\"\"\n",
    "        raise NotImplementedError('Must implement a done comparator!')\n",
    "\n",
    "    def __init_subclass__(cls, **kwargs):\n",
    "        \"\"\"Set up callbacks in subclass.\"\"\"\n",
    "        super().__init_subclass__(**kwargs)\n",
    "        if None not in (cls.setpoint, cls.readback):\n",
    "            cls.setpoint.sub_value(cls._update_setpoint)\n",
    "            cls.readback.sub_value(cls._update_readback)\n",
    "\n",
    "    def _update_setpoint(self, *args, value, **kwargs):\n",
    "        \"\"\"Callback to cache the setpoint and update done state.\"\"\"\n",
    "        self._last_setpoint = value\n",
    "        # Always set done to False when a move is requested\n",
    "        # This means we always get a rising edge when finished moving\n",
    "        # Even if the move distance is under our done moving tolerance\n",
    "        self.done.put(0, force=True)\n",
    "        self._update_done()\n",
    "\n",
    "    def _update_readback(self, *args, value, **kwargs):\n",
    "        \"\"\"Callback to cache the readback and update done state.\"\"\"\n",
    "        self._last_readback = value\n",
    "        self._update_done()\n",
    "\n",
    "    def _update_done(self):\n",
    "        \"\"\"Update our status to done if we pass the comparator.\"\"\"\n",
    "        if None not in (self._last_readback, self._last_setpoint):\n",
    "            is_done = self.done_comparator(self._last_readback,\n",
    "                                           self._last_setpoint)\n",
    "            self.done.put(int(is_done), force=True)"
   ]
  },
  {
   "cell_type": "code",
   "execution_count": 21,
   "id": "actual-induction",
   "metadata": {},
   "outputs": [],
   "source": [
    "from ophyd import PVPositioner, EpicsSignal, EpicsSignalRO, Device, DerivedSignal,PseudoPositioner,PseudoSingle,EpicsMotor\n",
    "from ophyd import Component as Cpt\n",
    "\n",
    "from ophyd import FormattedComponent as FCpt\n",
    "from ophyd.pseudopos import (pseudo_position_argument,\n",
    "                             real_position_argument)\n",
    "from ophyd.signal import Signal, SignalRO"
   ]
  },
  {
   "cell_type": "code",
   "execution_count": 22,
   "id": "mature-relative",
   "metadata": {},
   "outputs": [],
   "source": [
    "\n",
    "class Axis(PVPositionerComparator):\n",
    "\n",
    "    setpoint = FCpt(EpicsSignal,'{self.prefix}set{self._ch_name}') # component is itself a class\n",
    "    readback = FCpt(EpicsSignal,'{self.prefix}get{self._ch_name}')\n",
    "            \n",
    "    atol = 0.001  # tolerance before we set done to be 1\n",
    "\n",
    "    def done_comparator(self, readback, setpoint):\n",
    "        return setpoint-self.atol < readback < setpoint+self.atol\n",
    "        \n",
    "        \n",
    "    def __init__(self, prefix, ch_name=None, **kwargs):\n",
    "        self._ch_name = ch_name\n",
    "        super().__init__(prefix, **kwargs)\n",
    "\n",
    "class Robot(Device):\n",
    "\n",
    "    axis_1 = Cpt(Axis, 'axis1:',ch_name='Pos')\n",
    "    axis_2 = Cpt(Axis, 'axis2:',ch_name='Pos')\n",
    "    #axis_3 = Cpt(Axis, 'axis3:')"
   ]
  },
  {
   "cell_type": "code",
   "execution_count": 23,
   "id": "figured-paint",
   "metadata": {},
   "outputs": [],
   "source": [
    "dummy_axis = Robot('EMILEL:TestIOC00:',name='dummy_axis')"
   ]
  },
  {
   "cell_type": "code",
   "execution_count": 24,
   "id": "vietnamese-ukraine",
   "metadata": {},
   "outputs": [
    {
     "data": {
      "text/plain": [
       "0.1"
      ]
     },
     "execution_count": 24,
     "metadata": {},
     "output_type": "execute_result"
    }
   ],
   "source": [
    "dummy_axis.axis_1.readback.get()"
   ]
  },
  {
   "cell_type": "code",
   "execution_count": 25,
   "id": "organized-division",
   "metadata": {},
   "outputs": [],
   "source": [
    "Status = dummy_axis"
   ]
  },
  {
   "cell_type": "code",
   "execution_count": 26,
   "id": "marine-republic",
   "metadata": {},
   "outputs": [
    {
     "data": {
      "text/plain": [
       "Robot(prefix='EMILEL:TestIOC00:', name='dummy_axis', read_attrs=['axis_1', 'axis_1.done', 'axis_1.setpoint', 'axis_1.readback', 'axis_2', 'axis_2.done', 'axis_2.setpoint', 'axis_2.readback'], configuration_attrs=['axis_1', 'axis_2'])"
      ]
     },
     "execution_count": 26,
     "metadata": {},
     "output_type": "execute_result"
    }
   ],
   "source": [
    "Status"
   ]
  },
  {
   "cell_type": "code",
   "execution_count": 27,
   "id": "documentary-surveillance",
   "metadata": {},
   "outputs": [
    {
     "data": {
      "text/plain": [
       "InternalSignal(name='dummy_axis_axis_1_done', parent='dummy_axis_axis_1', value=1, timestamp=1626866099.5260372)"
      ]
     },
     "execution_count": 27,
     "metadata": {},
     "output_type": "execute_result"
    }
   ],
   "source": [
    "dummy_axis.axis_1.done"
   ]
  },
  {
   "cell_type": "code",
   "execution_count": 28,
   "id": "packed-russia",
   "metadata": {},
   "outputs": [
    {
     "data": {
      "text/plain": [
       "Status(obj=EpicsSignal(read_pv='EMILEL:TestIOC00:axis1:setPos', name='dummy_axis_axis_1_setpoint', parent='dummy_axis_axis_1', value=0.1, timestamp=1626452816.254218, auto_monitor=False, string=False, write_pv='EMILEL:TestIOC00:axis1:setPos', limits=False, put_complete=False), done=False, success=False)"
      ]
     },
     "execution_count": 28,
     "metadata": {},
     "output_type": "execute_result"
    }
   ],
   "source": [
    "(dummy_axis.axis_1.setpoint.set(1))"
   ]
  },
  {
   "cell_type": "code",
   "execution_count": 29,
   "id": "deluxe-being",
   "metadata": {},
   "outputs": [],
   "source": [
    "def move_to(axis_1_target, axis_2_target):\n",
    "    start_pos1 = dummy_axis.axis_1.readback.get()\n",
    "    start_pos2 = dummy_axis.axis_2.readback.get()\n",
    "    #start_pos3 = dummy_axis.axis_3.readback.get()\n",
    "    print(f'Initial position of axis1: {start_pos1}. \\n Target position of axis1: {axis_1_target}. \\n')\n",
    "    print(f'Initial position of axis2: {start_pos2}. \\n Target position of axis2: {axis_2_target}. \\n')\n",
    "    #print(f'Initial position of axis3: {start_pos3}. \\n Target position of axis3: {axis_3_target}. \\n')\n",
    "    \n",
    "    yield from mv(dummy_axis.axis_1, axis_1_target,\n",
    "                  dummy_axis.axis_2, axis_2_target)\n",
    "                  #dummy_axis.axis_3, axis_3_target)\n",
    "    final_pos1 = dummy_axis.axis_1.readback.get()\n",
    "    final_pos2 = dummy_axis.axis_2.readback.get()\n",
    "    #final_pos3 = dummy_axis.axis_3.readback.get()\n",
    "    \n",
    "    final_done1 = dummy_axis.axis_1.done.get()\n",
    "    final_done2 = dummy_axis.axis_2.done.get()\n",
    "    #final_done3 = dummy_axis.axis_3.done.get()\n",
    "    \n",
    "    if (final_done1 == 1) and (round(axis_1_target, 2) == round(final_pos1, 2)):\n",
    "        print(f'Final position of axis1: {final_pos1}. DONE!')\n",
    "    else:\n",
    "        print(f'Final position of axis1 {final_pos1} is not identical to the target position {axis_1_target}. ERROR!')                      \n",
    "                              #yield from mv(dummy_axis.axis_1, 4)\n",
    "    if (final_done2 == 1) and (round(axis_2_target, 2) == round(final_pos2, 2)):\n",
    "        print(f'Final position of axis1: {final_pos2}. DONE!')\n",
    "    else:\n",
    "        print(f'Final position of axis1 {final_pos2} is not identical to the target position {axis_2_target}. ERROR!')                      \n",
    "                              #yield from mv(dummy_axis.axis_1, 4)\n",
    "            \n",
    "    #if (final_done3 == 1) and (round(axis_3_target, 2) == round(final_pos3, 2)):\n",
    "    #    print(f'Final position of axis1: {final_pos3}. DONE!')\n",
    "    #else:\n",
    "    #    print(f'Final position of axis1 {final_pos3} is not identical to the target position {axis_3_target}. ERROR!')                      \n",
    "                              #yield from mv(dummy_axis.axis_1, 4)\n",
    "    \n",
    "    "
   ]
  },
  {
   "cell_type": "code",
   "execution_count": 30,
   "id": "transsexual-listening",
   "metadata": {},
   "outputs": [],
   "source": [
    "list_append = []\n",
    "\n",
    "#dict_in = {'dummy_axis' : {'axis_1' : ('target', 'vx_set', 'vx_read'), \n",
    "#                           'axis_2' : ('target', 'vy_set', 'vy_read')} \n",
    "                  \n",
    "    \n",
    "def get_intial_pos(dict_in, list_readback_in, list_target_in):\n",
    "    device = list(dict_in.keys())\n",
    "    components = list(dict_in[device[0]].keys())\n",
    "    #value_of_component = list(dict_in[device[0]].values())\n",
    "    for i in components:        \n",
    "        create_string_for_getattr_readback = f'{i}.readback'\n",
    "        readback_get_full = getattr(user_ns[device[0]], create_string_for_getattr_readback)\n",
    "        readback_get_value = readback_get_full.get()\n",
    "        list_readback_in.append(readback_get_value) \n",
    "        create_string_for_target_value = f'{i}'\n",
    "        target_value = dict_in[device[0]][create_string_for_target_value]\n",
    "        list_target_in.append(target_value)\n",
    "        print(f'Initial position of {i}: {float(readback_get_value)}. Target position of {i}: {float(target_value)}.')\n",
    "        \n",
    "    print('\\n')\n",
    "    \n",
    "def get_final_pos(dict_in, list_readback_in, list_target_in, deviation_in):\n",
    "    \n",
    "    def deviation_range(input_value, target_value, deviation):\n",
    "        target_value_plus = target_value + deviation  \n",
    "        target_value_minus = target_value - deviation\n",
    "        if (input_value <= target_value_plus) and (input_value >= target_value_minus):\n",
    "            status = True\n",
    "        else: \n",
    "            status = False\n",
    "        return status\n",
    "\n",
    "    device = list(dict_in.keys())\n",
    "    components = list(dict_in[device[0]].keys())\n",
    "    #value_of_component = list(dict_in[device[0]].values())\n",
    "    list_final_pos_in = []\n",
    "    list_final_done_in = []\n",
    "    \n",
    "    for i in components:        \n",
    "        create_string_for_getattr_readback = f'{i}.readback'\n",
    "        readback_get_full = getattr(user_ns[device[0]], create_string_for_getattr_readback)\n",
    "        readback_get_value = readback_get_full.get()\n",
    "        list_final_pos_in.append(readback_get_value) \n",
    "        \n",
    "        create_string_for_getattr_readback_done = f'{i}.done'\n",
    "        readback_done_get_full = getattr(user_ns[device[0]], create_string_for_getattr_readback_done)\n",
    "        readback_done_get_value = readback_done_get_full.get()\n",
    "        list_final_done_in.append(readback_done_get_value)\n",
    "    \n",
    "   \n",
    "    \n",
    "    # initial, target, final\n",
    "    tuple_final_values = list(zip(list_final_done_in, list_target_in, list_final_pos_in))\n",
    "    for entries in tuple_final_values:\n",
    "        #print(f'{deviation_range(round(float(entries[2]), 2), round(float(entries[1]), 2), deviation_in)}')\n",
    "        #if (entries[0] == 1) and (round(float(entries[1]), 2) == round(float(entries[2]), 2)):\n",
    "        if (entries[0] == 1) and (deviation_range(round(float(entries[2]), 2), round(float(entries[1]), 2), deviation_in)):\n",
    "            print(f'Final position of axis1: {float(entries[2])}. DONE!')\n",
    "        else:\n",
    "            print(f'Final position of axis1 {float(entries[2])} is not identical to the target position {float(entries[1])}. ERROR!')     "
   ]
  },
  {
   "cell_type": "code",
   "execution_count": 31,
   "id": "strong-hanging",
   "metadata": {},
   "outputs": [
    {
     "name": "stdout",
     "output_type": "stream",
     "text": [
      "Initial position of axis_1: 1.0. Target position of axis_1: 0.2.\n",
      "Initial position of axis_2: 3.0. Target position of axis_2: 3.0.\n",
      "\n",
      "\n",
      "Final position of axis1 1.0 is not identical to the target position 0.2. ERROR!\n",
      "Final position of axis1: 3.0. DONE!\n"
     ]
    }
   ],
   "source": [
    "dict_in = {'dummy_axis' : {'axis_1' : '0.2', \n",
    "                           'axis_2' : '3'}} \n",
    "device = list(dict_in.keys())\n",
    "list_readback = []\n",
    "list_target = []\n",
    "deviation = 0.1\n",
    "get_intial_pos(dict_in, list_readback, list_target)\n",
    "get_final_pos(dict_in, list_readback, list_target, deviation)\n",
    "\n",
    "#print(list_append)\n",
    "\n"
   ]
  },
  {
   "cell_type": "code",
   "execution_count": 195,
   "id": "bulgarian-journey",
   "metadata": {},
   "outputs": [
    {
     "data": {
      "text/plain": [
       "1.0"
      ]
     },
     "execution_count": 195,
     "metadata": {},
     "output_type": "execute_result"
    }
   ],
   "source": [
    "dummy_axis.axis_1.readback.get()\n"
   ]
  },
  {
   "cell_type": "code",
   "execution_count": 196,
   "id": "unable-prophet",
   "metadata": {},
   "outputs": [
    {
     "data": {
      "text/plain": [
       "0.5"
      ]
     },
     "execution_count": 196,
     "metadata": {},
     "output_type": "execute_result"
    }
   ],
   "source": [
    "dummy_axis.axis_2.readback.get()"
   ]
  },
  {
   "cell_type": "code",
   "execution_count": 197,
   "id": "placed-suicide",
   "metadata": {},
   "outputs": [
    {
     "data": {
      "text/plain": [
       "Status(obj=EpicsSignal(read_pv='EMILEL:TestIOC00:axis2:setPos', name='dummy_axis_axis_2_setpoint', parent='dummy_axis_axis_2', value=0.5, timestamp=1626449774.50487, auto_monitor=False, string=False, write_pv='EMILEL:TestIOC00:axis2:setPos', limits=False, put_complete=False), done=False, success=False)"
      ]
     },
     "execution_count": 197,
     "metadata": {},
     "output_type": "execute_result"
    }
   ],
   "source": [
    "dummy_axis.axis_2.setpoint.set(0.5)"
   ]
  },
  {
   "cell_type": "code",
   "execution_count": 198,
   "id": "dynamic-whole",
   "metadata": {},
   "outputs": [
    {
     "data": {
      "text/plain": [
       "1.0"
      ]
     },
     "execution_count": 198,
     "metadata": {},
     "output_type": "execute_result"
    }
   ],
   "source": [
    "dummy_axis.axis_1.readback.get()"
   ]
  },
  {
   "cell_type": "code",
   "execution_count": null,
   "id": "narrow-preview",
   "metadata": {},
   "outputs": [],
   "source": []
  },
  {
   "cell_type": "code",
   "execution_count": 199,
   "id": "awful-smell",
   "metadata": {},
   "outputs": [],
   "source": [
    "dict_in = {'dummy_axis' : {'axis_1' : '0.1', \n",
    "                               'axis_2' : '3'}} \n",
    "device = list(dict_in.keys())    \n",
    "components = list(dict_in[list(dict_in.keys())[0]].keys())"
   ]
  },
  {
   "cell_type": "code",
   "execution_count": 200,
   "id": "unauthorized-practitioner",
   "metadata": {},
   "outputs": [
    {
     "data": {
      "text/plain": [
       "Axis(prefix='EMILEL:TestIOC00:axis1:', name='dummy_axis_axis_1', parent='dummy_axis', settle_time=0.0, timeout=None, read_attrs=['done', 'setpoint', 'readback'], configuration_attrs=[], limits=None, egu='')"
      ]
     },
     "execution_count": 200,
     "metadata": {},
     "output_type": "execute_result"
    }
   ],
   "source": [
    "\n",
    "getattr(user_ns[device[0]],f'{components[0]}')"
   ]
  },
  {
   "cell_type": "code",
   "execution_count": 201,
   "id": "gorgeous-necessity",
   "metadata": {},
   "outputs": [
    {
     "data": {
      "text/plain": [
       "'idle'"
      ]
     },
     "execution_count": 201,
     "metadata": {},
     "output_type": "execute_result"
    }
   ],
   "source": [
    "#msg.dummy_axis.read(*msg.args, **msg.kwargs)\n",
    "RE.state "
   ]
  },
  {
   "cell_type": "code",
   "execution_count": 202,
   "id": "biological-drunk",
   "metadata": {},
   "outputs": [],
   "source": [
    "\n",
    "def test_msgs(RE, hw):\n",
    "    m = Msg('read', hw)\n",
    "    print(m.command)\n",
    "    print(m.obj)\n",
    "    print(m.args)\n",
    "    print(m.kwargs)\n",
    "    print(m.obj.name)"
   ]
  },
  {
   "cell_type": "code",
   "execution_count": 203,
   "id": "burning-butterfly",
   "metadata": {},
   "outputs": [
    {
     "name": "stdout",
     "output_type": "stream",
     "text": [
      "read\n",
      "Robot(prefix='EMILEL:TestIOC00:', name='dummy_axis', read_attrs=['axis_1', 'axis_1.done', 'axis_1.setpoint', 'axis_1.readback', 'axis_2', 'axis_2.done', 'axis_2.setpoint', 'axis_2.readback'], configuration_attrs=['axis_1', 'axis_2'])\n",
      "()\n",
      "{}\n",
      "dummy_axis\n"
     ]
    }
   ],
   "source": [
    "test_msgs(RE, dummy_axis)"
   ]
  },
  {
   "cell_type": "code",
   "execution_count": 204,
   "id": "radio-virgin",
   "metadata": {},
   "outputs": [
    {
     "data": {
      "text/plain": [
       "Axis(prefix='EMILEL:TestIOC00:axis1:', name='dummy_axis_axis_1', parent='dummy_axis', settle_time=0.0, timeout=None, read_attrs=['done', 'setpoint', 'readback'], configuration_attrs=[], limits=None, egu='')"
      ]
     },
     "execution_count": 204,
     "metadata": {},
     "output_type": "execute_result"
    }
   ],
   "source": [
    "getattr(user_ns[device[0]],f'{components[0]}')"
   ]
  },
  {
   "cell_type": "code",
   "execution_count": 205,
   "id": "certain-clause",
   "metadata": {},
   "outputs": [
    {
     "data": {
      "text/plain": [
       "()"
      ]
     },
     "execution_count": 205,
     "metadata": {},
     "output_type": "execute_result"
    }
   ],
   "source": [
    "RE(Msg('read', getattr(user_ns[device[0]],f'{components[0]}')))"
   ]
  },
  {
   "cell_type": "code",
   "execution_count": 206,
   "id": "artistic-cartridge",
   "metadata": {},
   "outputs": [
    {
     "name": "stdout",
     "output_type": "stream",
     "text": [
      "Msg('open_run', obj=Robot(prefix='EMILEL:TestIOC00:', name='dummy_axis', read_attrs=['axis_1', 'axis_1.done', 'axis_1.setpoint', 'axis_1.readback', 'axis_2', 'axis_2.done', 'axis_2.setpoint', 'axis_2.readback'], configuration_attrs=['axis_1', 'axis_2']), args=(1,), kwargs={}, run=None)\n",
      "Msg('set', obj=Axis(prefix='EMILEL:TestIOC00:axis1:', name='dummy_axis_axis_1', parent='dummy_axis', settle_time=0.0, timeout=None, read_attrs=['done', 'setpoint', 'readback'], configuration_attrs=[], limits=None, egu=''), args=(2,), kwargs={}, run=None)\n",
      "(2,)\n",
      "['done', 'setpoint', 'readback']\n",
      "Msg('close_run', obj=Robot(prefix='EMILEL:TestIOC00:', name='dummy_axis', read_attrs=['axis_1', 'axis_1.done', 'axis_1.setpoint', 'axis_1.readback', 'axis_2', 'axis_2.done', 'axis_2.setpoint', 'axis_2.readback'], configuration_attrs=['axis_1', 'axis_2']), args=(), kwargs={}, run=None)\n"
     ]
    }
   ],
   "source": [
    "# the Msg command is useless for obtaining information of the current run status....\n",
    "\n",
    "def test_msgs1(RE, hw):\n",
    "    m0 = Msg('open_run',hw,1)\n",
    "    print(m0)\n",
    "    m = Msg('set', hw.axis_1, 2)\n",
    "    print(m)\n",
    "    print(m.args)\n",
    "    m2 = Msg('read', hw.axis_1)\n",
    "    print(m2.obj.read_attrs)\n",
    "    m3 = Msg('close_run',hw)\n",
    "    print(m3)\n",
    "test_msgs1(RE, dummy_axis)"
   ]
  },
  {
   "cell_type": "code",
   "execution_count": null,
   "id": "outer-pattern",
   "metadata": {},
   "outputs": [],
   "source": []
  },
  {
   "cell_type": "code",
   "execution_count": 207,
   "id": "settled-croatia",
   "metadata": {},
   "outputs": [],
   "source": [
    "\n",
    "def test_list_of_msgs(RE, hw):\n",
    "    # smoke tests checking that RunEngine accepts a plain list of Messages\n",
    "    RE([Msg('open_run'), Msg('set', hw.axis_1, 1), Msg('close_run')])"
   ]
  },
  {
   "cell_type": "code",
   "execution_count": null,
   "id": "rational-election",
   "metadata": {},
   "outputs": [],
   "source": []
  },
  {
   "cell_type": "code",
   "execution_count": 208,
   "id": "excess-involvement",
   "metadata": {},
   "outputs": [],
   "source": [
    "#test_list_of_msgs(RE, dummy_axis)"
   ]
  },
  {
   "cell_type": "code",
   "execution_count": 227,
   "id": "roman-acoustic",
   "metadata": {},
   "outputs": [
    {
     "data": {
      "text/plain": [
       "\"\\n    # minimal API\\n    st = StatusPlaceholder()\\n    pbar = ProgressBar([st])\\n    pbar.update(0)\\n    pbar.update(0)\\n    st.done = True\\n    pbar.update(0)\\n\\n    # name only\\n    st = StatusPlaceholder()\\n    pbar = ProgressBar([st])\\n    pbar.update(0, name='foo')\\n    pbar.update(0, name='foo')\\n    st.done = True\\n    pbar.update(0, name='foo')\\n\""
      ]
     },
     "execution_count": 227,
     "metadata": {},
     "output_type": "execute_result"
    }
   ],
   "source": [
    "def test_tuple_progress():\n",
    "\n",
    "    class StatusPlaceholder:\n",
    "        \"Just enough to make ProgressBar happy. We will update manually.\"\n",
    "        def __init__(self):\n",
    "            self.done = False\n",
    "\n",
    "        def watch(self, _):\n",
    "            ...\n",
    "            \n",
    "\n",
    "    # where the progress bar computes the fraction\n",
    "    st = StatusPlaceholder()\n",
    "    pbar = ProgressBar([st])\n",
    "    pbar.update(0, name='',\n",
    "                current=(0, 0), initial=(0, 0), target=(1, 1))\n",
    "    pbar.update(0, name='',\n",
    "                current=(0.2, 0.2), initial=(0, 0), target=(1, 1))\n",
    "    pbar.update(0, name='',\n",
    "                current=(1, 1), initial=(0, 0), target=(1, 1))\n",
    "    st.done = True\n",
    "    pbar.update(0, name='',\n",
    "                current=(1, 1), initial=(0, 0), target=(1, 1))\n",
    "    \n",
    "\"\"\"\n",
    "    # where the status object computes the fraction\n",
    "    st = StatusPlaceholder()\n",
    "    pbar = ProgressBar([st])\n",
    "    pbar.update(0, name='',\n",
    "                current=(0, 0), initial=(0, 0), target=(1, 1),\n",
    "                fraction=0)\n",
    "    pbar.update(0, name='',\n",
    "                current=(0.2, 0.2), initial=(0, 0), target=(1, 1),\n",
    "                fraction=0.2)\n",
    "    pbar.update(0, name='',\n",
    "                current=(1, 1), initial=(0, 0), target=(1, 1),\n",
    "                fraction=1)\n",
    "    st.done = True\n",
    "    pbar.update(0, name='',\n",
    "                current=(1, 1), initial=(0, 0), target=(1, 1),\n",
    "                fraction=1)\n",
    "\"\"\"\n",
    "\n",
    "\n",
    "  \n",
    "\"\"\"\n",
    "    # minimal API\n",
    "    st = StatusPlaceholder()\n",
    "    pbar = ProgressBar([st])\n",
    "    pbar.update(0)\n",
    "    pbar.update(0)\n",
    "    st.done = True\n",
    "    pbar.update(0)\n",
    "\n",
    "    # name only\n",
    "    st = StatusPlaceholder()\n",
    "    pbar = ProgressBar([st])\n",
    "    pbar.update(0, name='foo')\n",
    "    pbar.update(0, name='foo')\n",
    "    st.done = True\n",
    "    pbar.update(0, name='foo')\n",
    "\"\"\""
   ]
  },
  {
   "cell_type": "code",
   "execution_count": 235,
   "id": "composed-latvia",
   "metadata": {},
   "outputs": [
    {
     "ename": "ModuleNotFoundError",
     "evalue": "No module named 'pytest'",
     "output_type": "error",
     "traceback": [
      "\u001b[0;31m---------------------------------------------------------------------------\u001b[0m",
      "\u001b[0;31mModuleNotFoundError\u001b[0m                       Traceback (most recent call last)",
      "\u001b[0;32m<ipython-input-235-a7a2d04bf991>\u001b[0m in \u001b[0;36m<module>\u001b[0;34m\u001b[0m\n\u001b[0;32m----> 1\u001b[0;31m \u001b[0;32mfrom\u001b[0m \u001b[0mbluesky\u001b[0m\u001b[0;34m.\u001b[0m\u001b[0mtests\u001b[0m \u001b[0;32mimport\u001b[0m \u001b[0mrequires_ophyd\u001b[0m\u001b[0;34m\u001b[0m\u001b[0;34m\u001b[0m\u001b[0m\n\u001b[0m\u001b[1;32m      2\u001b[0m \u001b[0;34m@\u001b[0m\u001b[0mrequires_ophyd\u001b[0m\u001b[0;34m\u001b[0m\u001b[0;34m\u001b[0m\u001b[0m\n\u001b[1;32m      3\u001b[0m \u001b[0;32mdef\u001b[0m \u001b[0mtest_status_with_name\u001b[0m\u001b[0;34m(\u001b[0m\u001b[0mhw\u001b[0m\u001b[0;34m)\u001b[0m\u001b[0;34m:\u001b[0m\u001b[0;34m\u001b[0m\u001b[0;34m\u001b[0m\u001b[0m\n\u001b[1;32m      4\u001b[0m     \u001b[0;32mfrom\u001b[0m \u001b[0mophyd\u001b[0m\u001b[0;34m.\u001b[0m\u001b[0mstatus\u001b[0m \u001b[0;32mimport\u001b[0m \u001b[0mDeviceStatus\u001b[0m\u001b[0;34m\u001b[0m\u001b[0;34m\u001b[0m\u001b[0m\n\u001b[1;32m      5\u001b[0m     \u001b[0mst\u001b[0m \u001b[0;34m=\u001b[0m \u001b[0mDeviceStatus\u001b[0m\u001b[0;34m(\u001b[0m\u001b[0mdevice\u001b[0m\u001b[0;34m=\u001b[0m\u001b[0mhw\u001b[0m\u001b[0;34m.\u001b[0m\u001b[0mdet\u001b[0m\u001b[0;34m)\u001b[0m\u001b[0;34m\u001b[0m\u001b[0;34m\u001b[0m\u001b[0m\n",
      "\u001b[0;32m/opt/tljh/user/lib/python3.7/site-packages/bluesky/tests/__init__.py\u001b[0m in \u001b[0;36m<module>\u001b[0;34m\u001b[0m\n\u001b[0;32m----> 1\u001b[0;31m \u001b[0;32mimport\u001b[0m \u001b[0mpytest\u001b[0m\u001b[0;34m\u001b[0m\u001b[0;34m\u001b[0m\u001b[0m\n\u001b[0m\u001b[1;32m      2\u001b[0m \u001b[0;31m# some module level globals.\u001b[0m\u001b[0;34m\u001b[0m\u001b[0;34m\u001b[0m\u001b[0;34m\u001b[0m\u001b[0m\n\u001b[1;32m      3\u001b[0m \u001b[0mophyd\u001b[0m \u001b[0;34m=\u001b[0m \u001b[0;32mNone\u001b[0m\u001b[0;34m\u001b[0m\u001b[0;34m\u001b[0m\u001b[0m\n\u001b[1;32m      4\u001b[0m \u001b[0mreason\u001b[0m \u001b[0;34m=\u001b[0m \u001b[0;34m''\u001b[0m\u001b[0;34m\u001b[0m\u001b[0;34m\u001b[0m\u001b[0m\n\u001b[1;32m      5\u001b[0m \u001b[0;34m\u001b[0m\u001b[0m\n",
      "\u001b[0;31mModuleNotFoundError\u001b[0m: No module named 'pytest'"
     ]
    }
   ],
   "source": [
    "from bluesky.tests import requires_ophyd\n",
    "@requires_ophyd\n",
    "def test_status_with_name(hw):\n",
    "    from ophyd.status import DeviceStatus\n",
    "    st = DeviceStatus(device=hw.det)\n",
    "    pbar = ProgressBar([st])\n",
    "    st._finished()\n",
    "\n",
    "    st = DeviceStatus(device=hw.det)\n",
    "    pbar = ProgressBar([st])\n",
    "    #assert pbar.delay_draw == 0.2\n",
    "    time.sleep(0.25)\n",
    "    st._finished()"
   ]
  },
  {
   "cell_type": "code",
   "execution_count": 236,
   "id": "southwest-trinidad",
   "metadata": {},
   "outputs": [],
   "source": [
    "def test_draw_before_update():\n",
    "    class Status:\n",
    "        done = False\n",
    "        def watch(self, func):\n",
    "            ...\n",
    "\n",
    "    # Test that the default meter placeholder is valid to draw.\n",
    "    pbar = ProgressBar([Status()])\n",
    "    pbar.draw()"
   ]
  },
  {
   "cell_type": "code",
   "execution_count": 49,
   "id": "collected-inside",
   "metadata": {},
   "outputs": [],
   "source": [
    "\n",
    "RE.waiting_hook = ProgressBarManager()        \n",
    "    \n",
    "def move_to_general():\n",
    "    #test_draw_before_update()\n",
    "    # define the input for function\n",
    "#    dict_in = {'dummy_axis' : {'axis_1' : '0.1', \n",
    "#                               'axis_2' : '3'}} \n",
    "\n",
    "    dict_in = {'dummy_axis' : {'axis_2' : '2'}} \n",
    "   \n",
    "    device = list(dict_in.keys()) \n",
    "    components = list(dict_in[list(dict_in.keys())[0]].keys())\n",
    "    list_readback = []\n",
    "    list_target = []\n",
    "    deviation = 0.1\n",
    "    #sd.baseline = [user_ns[device[0]]]\n",
    "    print('\\n')\n",
    "    print(f'### Moving device: {device[0]} ###\\n')\n",
    "    get_intial_pos(dict_in, list_readback, list_target)\n",
    "    \n",
    "    # insert the original function code\n",
    "    #yield from Msg('open_run') #Msg('create', 'dummy_axis', name='primary')\n",
    "    yield from mv(getattr(user_ns[device[0]],f'{components[0]}'), float(dict_in[device[0]][components[0]])                  \n",
    "                 )\n",
    "    \n",
    "#    yield from mv(getattr(user_ns[device[0]],f'{components[0]}'), float(dict_in[device[0]][components[0]]),\n",
    "#                  getattr(user_ns[device[0]],f'{components[1]}'), float(dict_in[device[0]][components[1]])\n",
    "#                 )\n",
    "                  #dummy_axis.axis_3, axis_3_target)\n",
    "      \n",
    "    get_final_pos(dict_in, list_readback, list_target,deviation)    \n",
    "    print('\\n')"
   ]
  },
  {
   "cell_type": "code",
   "execution_count": 50,
   "id": "efficient-incident",
   "metadata": {},
   "outputs": [],
   "source": [
    "def move_to_general1():\n",
    "    #test_draw_before_update()\n",
    "    # define the input for function\n",
    "#    dict_in = {'dummy_axis' : {'axis_1' : '0.1', \n",
    "#                               'axis_2' : '3'}} \n",
    "    \n",
    "    dict_in = {'dummy_axis' : {'axis_1' : '0.9'\n",
    "                               }} \n",
    "    \n",
    "    device = list(dict_in.keys()) \n",
    "    components = list(dict_in[list(dict_in.keys())[0]].keys())\n",
    "    list_readback = []\n",
    "    list_target = []\n",
    "    deviation = 0.1\n",
    "    #sd.baseline = [user_ns[device[0]]]\n",
    "    print('\\n')\n",
    "    print(f'### Moving device: {device[0]} ###\\n')\n",
    "    get_intial_pos(dict_in, list_readback, list_target)\n",
    "    \n",
    "    # insert the original function code\n",
    "    #yield from Msg('open_run') #Msg('create', 'dummy_axis', name='primary')\n",
    "    yield from mv(getattr(user_ns[device[0]],f'{components[0]}'), float(dict_in[device[0]][components[0]])                 \n",
    "                 )\n",
    "    \n",
    "#    yield from mv(getattr(user_ns[device[0]],f'{components[0]}'), float(dict_in[device[0]][components[0]]),\n",
    "#                  getattr(user_ns[device[0]],f'{components[1]}'), float(dict_in[device[0]][components[1]])\n",
    "#                 )\n",
    "                  #dummy_axis.axis_3, axis_3_target)\n",
    "      \n",
    "    get_final_pos(dict_in, list_readback, list_target,deviation)    \n",
    "    print('\\n')"
   ]
  },
  {
   "cell_type": "code",
   "execution_count": 51,
   "id": "herbal-gospel",
   "metadata": {},
   "outputs": [
    {
     "data": {
      "text/plain": [
       "True"
      ]
     },
     "execution_count": 51,
     "metadata": {},
     "output_type": "execute_result"
    }
   ],
   "source": [
    "RE.waiting_hook.delay_draw == 0.2"
   ]
  },
  {
   "cell_type": "code",
   "execution_count": 52,
   "id": "distributed-grave",
   "metadata": {},
   "outputs": [
    {
     "data": {
      "text/plain": [
       "<bluesky.utils.ProgressBarManager at 0x7f4214ef43c8>"
      ]
     },
     "execution_count": 52,
     "metadata": {},
     "output_type": "execute_result"
    }
   ],
   "source": [
    "ProgressBarManager(delay_draw=0.001)"
   ]
  },
  {
   "cell_type": "code",
   "execution_count": 53,
   "id": "catholic-strike",
   "metadata": {},
   "outputs": [
    {
     "name": "stdout",
     "output_type": "stream",
     "text": [
      "\n",
      "\n",
      "### Moving device: dummy_axis ###\n",
      "\n",
      "Initial position of axis_2: 1.0. Target position of axis_2: 2.0.\n",
      "\n",
      "\n",
      "dummy_axis_axis_2: 100%|████████████████████▉| 0.999/1.0 [00:00<00:00,  4.91/s]\n",
      "dummy_axis_axis_2: 100%|███████████████████████| 1.0/1.0 [00:00<00:00,  3.29/s]\n",
      "dummy_axis_axis_2 [In progress. No progress bar available.]                    \n",
      "                                                                               \n",
      "\u001b[AFinal position of axis1: 1.9999. DONE!\n",
      "\n",
      "\n",
      "\n",
      "\n",
      "### Moving device: dummy_axis ###\n",
      "\n",
      "Initial position of axis_1: 1.0. Target position of axis_1: 0.9.\n",
      "\n",
      "\n",
      "dummy_axis_axis_1:  99%|████████████████████▊| 0.099/0.1 [00:00<00:00,  1.93s/]\n",
      "dummy_axis_axis_1: 100%|███████████████████████| 0.1/0.1 [00:00<00:00,  2.91s/]\n",
      "dummy_axis_axis_1 [In progress. No progress bar available.]                    \n",
      "                                                                               \n",
      "\u001b[AFinal position of axis1: 0.9001. DONE!\n",
      "\n",
      "\n"
     ]
    },
    {
     "data": {
      "text/plain": [
       "()"
      ]
     },
     "execution_count": 53,
     "metadata": {},
     "output_type": "execute_result"
    }
   ],
   "source": [
    "RE(move_to_general())\n",
    "#RE(sleep(1))\n",
    "RE(move_to_general1())"
   ]
  },
  {
   "cell_type": "code",
   "execution_count": 212,
   "id": "sharing-momentum",
   "metadata": {},
   "outputs": [
    {
     "data": {
      "text/plain": [
       "{'versions': {'ophyd': '1.6.0', 'bluesky': '1.6.7'}}"
      ]
     },
     "execution_count": 212,
     "metadata": {},
     "output_type": "execute_result"
    }
   ],
   "source": [
    "RE.md"
   ]
  },
  {
   "cell_type": "code",
   "execution_count": 213,
   "id": "distant-limit",
   "metadata": {},
   "outputs": [
    {
     "name": "stdout",
     "output_type": "stream",
     "text": [
      "['create', 'save', 'drop', 'read', 'monitor', 'unmonitor', 'null', 'RE_class', 'stop', 'set', 'trigger', 'sleep', 'wait', 'checkpoint', 'clear_checkpoint', 'rewindable', 'pause', 'resume', 'collect', 'kickoff', 'complete', 'configure', 'stage', 'unstage', 'subscribe', 'unsubscribe', 'open_run', 'close_run', 'wait_for', 'input', 'install_suspender', 'remove_suspender']\n"
     ]
    }
   ],
   "source": [
    "print(RE.commands)"
   ]
  },
  {
   "cell_type": "code",
   "execution_count": 68,
   "id": "russian-reservation",
   "metadata": {},
   "outputs": [],
   "source": [
    "#print(RE.print_command_registry(verbose=True))"
   ]
  },
  {
   "cell_type": "code",
   "execution_count": 66,
   "id": "adult-window",
   "metadata": {},
   "outputs": [
    {
     "data": {
      "text/plain": [
       "Msg('create', obj='dummy_axis', args=(), kwargs={'name': 'primary'}, run=None)"
      ]
     },
     "execution_count": 66,
     "metadata": {},
     "output_type": "execute_result"
    }
   ],
   "source": [
    "Msg('create', 'dummy_axis', name='primary')"
   ]
  },
  {
   "cell_type": "code",
   "execution_count": 62,
   "id": "miniature-thumb",
   "metadata": {},
   "outputs": [
    {
     "data": {
      "text/plain": [
       "Msg('create', obj=None, args=(), kwargs={'name': 'primary'}, run=None)"
      ]
     },
     "execution_count": 62,
     "metadata": {},
     "output_type": "execute_result"
    }
   ],
   "source": [
    " Msg('create', name='primary')\n"
   ]
  },
  {
   "cell_type": "code",
   "execution_count": 24,
   "id": "printable-turtle",
   "metadata": {},
   "outputs": [],
   "source": [
    "status = dummy_axis.axis_1.done.get()"
   ]
  },
  {
   "cell_type": "code",
   "execution_count": 25,
   "id": "noble-recipe",
   "metadata": {},
   "outputs": [
    {
     "data": {
      "text/plain": [
       "1"
      ]
     },
     "execution_count": 25,
     "metadata": {},
     "output_type": "execute_result"
    }
   ],
   "source": [
    "status"
   ]
  },
  {
   "cell_type": "code",
   "execution_count": 26,
   "id": "basic-malpractice",
   "metadata": {},
   "outputs": [
    {
     "name": "stdout",
     "output_type": "stream",
     "text": [
      "Initial position of axis1: 0.1. \n",
      " Target position of axis1: 1. \n",
      "\n",
      "Initial position of axis2: 2.0. \n",
      " Target position of axis2: 0.1. \n",
      "\n",
      "Final position of axis1: 0.99991. DONE!\n",
      "Final position of axis1: 0.10019. DONE!\n"
     ]
    },
    {
     "data": {
      "text/plain": [
       "()"
      ]
     },
     "execution_count": 26,
     "metadata": {},
     "output_type": "execute_result"
    }
   ],
   "source": [
    "RE(move_to(1, 0.1))"
   ]
  },
  {
   "cell_type": "code",
   "execution_count": 27,
   "id": "ceramic-newark",
   "metadata": {},
   "outputs": [
    {
     "data": {
      "text/plain": [
       "1.0"
      ]
     },
     "execution_count": 27,
     "metadata": {},
     "output_type": "execute_result"
    }
   ],
   "source": [
    "user_ns['dummy_axis'].axis_1.readback.get()"
   ]
  },
  {
   "cell_type": "code",
   "execution_count": 28,
   "id": "greater-sound",
   "metadata": {},
   "outputs": [
    {
     "ename": "TransitionError",
     "evalue": "RunEngine is already idle.",
     "output_type": "error",
     "traceback": [
      "\u001b[0;31m---------------------------------------------------------------------------\u001b[0m",
      "\u001b[0;31mTransitionError\u001b[0m                           Traceback (most recent call last)",
      "\u001b[0;32m<ipython-input-28-4dd182f224ed>\u001b[0m in \u001b[0;36m<module>\u001b[0;34m\u001b[0m\n\u001b[0;32m----> 1\u001b[0;31m \u001b[0mRE\u001b[0m\u001b[0;34m.\u001b[0m\u001b[0mstop\u001b[0m\u001b[0;34m(\u001b[0m\u001b[0;34m)\u001b[0m\u001b[0;34m\u001b[0m\u001b[0;34m\u001b[0m\u001b[0m\n\u001b[0m",
      "\u001b[0;32m/opt/tljh/user/lib/python3.7/site-packages/bluesky/run_engine.py\u001b[0m in \u001b[0;36mstop\u001b[0;34m(self)\u001b[0m\n\u001b[1;32m   1145\u001b[0m         \u001b[0;34m:\u001b[0m\u001b[0mmeth\u001b[0m\u001b[0;34m:\u001b[0m\u001b[0;31m`\u001b[0m\u001b[0mRunEngine\u001b[0m\u001b[0;34m.\u001b[0m\u001b[0mhalt\u001b[0m\u001b[0;31m`\u001b[0m\u001b[0;34m\u001b[0m\u001b[0;34m\u001b[0m\u001b[0m\n\u001b[1;32m   1146\u001b[0m         \"\"\"\n\u001b[0;32m-> 1147\u001b[0;31m         \u001b[0;32mreturn\u001b[0m \u001b[0mself\u001b[0m\u001b[0;34m.\u001b[0m\u001b[0m__interrupter_helper\u001b[0m\u001b[0;34m(\u001b[0m\u001b[0mself\u001b[0m\u001b[0;34m.\u001b[0m\u001b[0m_stop_coro\u001b[0m\u001b[0;34m(\u001b[0m\u001b[0;34m)\u001b[0m\u001b[0;34m)\u001b[0m\u001b[0;34m\u001b[0m\u001b[0;34m\u001b[0m\u001b[0m\n\u001b[0m\u001b[1;32m   1148\u001b[0m \u001b[0;34m\u001b[0m\u001b[0m\n\u001b[1;32m   1149\u001b[0m     \u001b[0;32masync\u001b[0m \u001b[0;32mdef\u001b[0m \u001b[0m_stop_coro\u001b[0m\u001b[0;34m(\u001b[0m\u001b[0mself\u001b[0m\u001b[0;34m)\u001b[0m\u001b[0;34m:\u001b[0m\u001b[0;34m\u001b[0m\u001b[0;34m\u001b[0m\u001b[0m\n",
      "\u001b[0;32m/opt/tljh/user/lib/python3.7/site-packages/bluesky/run_engine.py\u001b[0m in \u001b[0;36m__interrupter_helper\u001b[0;34m(self, coro)\u001b[0m\n\u001b[1;32m   1198\u001b[0m             \u001b[0mself\u001b[0m\u001b[0;34m.\u001b[0m\u001b[0m_resume_task\u001b[0m\u001b[0;34m(\u001b[0m\u001b[0;34m)\u001b[0m\u001b[0;34m\u001b[0m\u001b[0;34m\u001b[0m\u001b[0m\n\u001b[1;32m   1199\u001b[0m \u001b[0;34m\u001b[0m\u001b[0m\n\u001b[0;32m-> 1200\u001b[0;31m         \u001b[0;32mreturn\u001b[0m \u001b[0mtask\u001b[0m\u001b[0;34m.\u001b[0m\u001b[0mresult\u001b[0m\u001b[0;34m(\u001b[0m\u001b[0;34m)\u001b[0m\u001b[0;34m\u001b[0m\u001b[0;34m\u001b[0m\u001b[0m\n\u001b[0m\u001b[1;32m   1201\u001b[0m \u001b[0;34m\u001b[0m\u001b[0m\n\u001b[1;32m   1202\u001b[0m     \u001b[0;32masync\u001b[0m \u001b[0;32mdef\u001b[0m \u001b[0m_halt_coro\u001b[0m\u001b[0;34m(\u001b[0m\u001b[0mself\u001b[0m\u001b[0;34m)\u001b[0m\u001b[0;34m:\u001b[0m\u001b[0;34m\u001b[0m\u001b[0;34m\u001b[0m\u001b[0m\n",
      "\u001b[0;32m/opt/tljh/user/lib/python3.7/site-packages/bluesky/run_engine.py\u001b[0m in \u001b[0;36m_stop_coro\u001b[0;34m(self)\u001b[0m\n\u001b[1;32m   1149\u001b[0m     \u001b[0;32masync\u001b[0m \u001b[0;32mdef\u001b[0m \u001b[0m_stop_coro\u001b[0m\u001b[0;34m(\u001b[0m\u001b[0mself\u001b[0m\u001b[0;34m)\u001b[0m\u001b[0;34m:\u001b[0m\u001b[0;34m\u001b[0m\u001b[0;34m\u001b[0m\u001b[0m\n\u001b[1;32m   1150\u001b[0m         \u001b[0;32mif\u001b[0m \u001b[0mself\u001b[0m\u001b[0;34m.\u001b[0m\u001b[0m_state\u001b[0m\u001b[0;34m.\u001b[0m\u001b[0mis_idle\u001b[0m\u001b[0;34m:\u001b[0m\u001b[0;34m\u001b[0m\u001b[0;34m\u001b[0m\u001b[0m\n\u001b[0;32m-> 1151\u001b[0;31m             \u001b[0;32mraise\u001b[0m \u001b[0mTransitionError\u001b[0m\u001b[0;34m(\u001b[0m\u001b[0;34m\"RunEngine is already idle.\"\u001b[0m\u001b[0;34m)\u001b[0m\u001b[0;34m\u001b[0m\u001b[0;34m\u001b[0m\u001b[0m\n\u001b[0m\u001b[1;32m   1152\u001b[0m         print(\"Stopping: running cleanup and marking exit_status \"\n\u001b[1;32m   1153\u001b[0m               \"as 'success'...\")\n",
      "\u001b[0;31mTransitionError\u001b[0m: RunEngine is already idle."
     ]
    }
   ],
   "source": [
    "RE.stop()"
   ]
  },
  {
   "cell_type": "code",
   "execution_count": 77,
   "id": "tracked-evening",
   "metadata": {},
   "outputs": [
    {
     "data": {
      "text/plain": [
       "5.77"
      ]
     },
     "execution_count": 77,
     "metadata": {},
     "output_type": "execute_result"
    }
   ],
   "source": [
    "round(5.76543, 2)"
   ]
  },
  {
   "cell_type": "code",
   "execution_count": 78,
   "id": "premium-organ",
   "metadata": {},
   "outputs": [
    {
     "data": {
      "text/plain": [
       "5.8"
      ]
     },
     "execution_count": 78,
     "metadata": {},
     "output_type": "execute_result"
    }
   ],
   "source": [
    "round(5.75, 1)"
   ]
  },
  {
   "cell_type": "code",
   "execution_count": 79,
   "id": "present-gregory",
   "metadata": {},
   "outputs": [],
   "source": [
    "#from bluesky.utils import jupyter.NotebookProgressBar"
   ]
  },
  {
   "cell_type": "code",
   "execution_count": 87,
   "id": "proud-programming",
   "metadata": {},
   "outputs": [],
   "source": [
    "from bluesky.magics import BlueskyMagics\n",
    "\n",
    "get_ipython().register_magics(BlueskyMagics)"
   ]
  },
  {
   "cell_type": "code",
   "execution_count": 88,
   "id": "endless-acoustic",
   "metadata": {},
   "outputs": [
    {
     "name": "stderr",
     "output_type": "stream",
     "text": [
      "UsageError: Line magic function `%h` not found.\n"
     ]
    }
   ],
   "source": [
    "%h"
   ]
  },
  {
   "cell_type": "code",
   "execution_count": 19,
   "id": "liked-adventure",
   "metadata": {},
   "outputs": [],
   "source": [
    "    dict_in = {'dummy_axis' : {'axis_1' : '0.1', \n",
    "                               'axis_2' : '2'}} "
   ]
  },
  {
   "cell_type": "code",
   "execution_count": 20,
   "id": "stupid-webcam",
   "metadata": {},
   "outputs": [
    {
     "data": {
      "text/plain": [
       "{'dummy_axis': {'axis_1': '0.1', 'axis_2': '2'}}"
      ]
     },
     "execution_count": 20,
     "metadata": {},
     "output_type": "execute_result"
    }
   ],
   "source": [
    "dict_in\n"
   ]
  },
  {
   "cell_type": "code",
   "execution_count": 23,
   "id": "endangered-writer",
   "metadata": {},
   "outputs": [],
   "source": [
    "    dict_in = {'dummy_axis2' : {'axis_1' : '0.1', \n",
    "                               'axis_2' : '2'}} "
   ]
  },
  {
   "cell_type": "code",
   "execution_count": 24,
   "id": "medical-boundary",
   "metadata": {},
   "outputs": [
    {
     "data": {
      "text/plain": [
       "{'dummy_axis2': {'axis_1': '0.1', 'axis_2': '2'}}"
      ]
     },
     "execution_count": 24,
     "metadata": {},
     "output_type": "execute_result"
    }
   ],
   "source": [
    "dict_in"
   ]
  },
  {
   "cell_type": "code",
   "execution_count": 17,
   "id": "killing-physiology",
   "metadata": {},
   "outputs": [],
   "source": [
    "dict_in['dummy_axis3'] = {'axis_1': '0.1', 'axis_2': '2'}"
   ]
  },
  {
   "cell_type": "code",
   "execution_count": 18,
   "id": "generic-hearts",
   "metadata": {},
   "outputs": [
    {
     "data": {
      "text/plain": [
       "{'dummy_axis': {'axis_1': '0.1', 'axis_2': '2'},\n",
       " 'dummy_axis1': {'axis_1': '0.1', 'axis_2': '2'},\n",
       " 'dummy_axis3': {'axis_1': '0.1', 'axis_2': '2'}}"
      ]
     },
     "execution_count": 18,
     "metadata": {},
     "output_type": "execute_result"
    }
   ],
   "source": [
    "dict_in"
   ]
  },
  {
   "cell_type": "code",
   "execution_count": null,
   "id": "alternative-arbor",
   "metadata": {},
   "outputs": [],
   "source": []
  }
 ],
 "metadata": {
  "kernelspec": {
   "display_name": "Python 3",
   "language": "python",
   "name": "python3"
  },
  "language_info": {
   "codemirror_mode": {
    "name": "ipython",
    "version": 3
   },
   "file_extension": ".py",
   "mimetype": "text/x-python",
   "name": "python",
   "nbconvert_exporter": "python",
   "pygments_lexer": "ipython3",
   "version": "3.7.3"
  }
 },
 "nbformat": 4,
 "nbformat_minor": 5
}
